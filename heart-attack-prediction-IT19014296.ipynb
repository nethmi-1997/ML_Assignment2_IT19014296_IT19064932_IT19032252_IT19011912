{
 "cells": [
  {
   "cell_type": "code",
   "execution_count": 1,
   "metadata": {},
   "outputs": [
    {
     "data": {
      "text/html": [
       "<style>\n",
       "table {align:left; display:block}\n",
       "</style>\n"
      ],
      "text/plain": [
       "<IPython.core.display.HTML object>"
      ]
     },
     "metadata": {},
     "output_type": "display_data"
    }
   ],
   "source": [
    "%%html\n",
    "<style>\n",
    "table {align:left; display:block}\n",
    "</style>"
   ]
  },
  {
   "cell_type": "markdown",
   "metadata": {},
   "source": [
    "# Analysing and Predicting Heart Attacks using Clinical Parameters of Patients\n",
    "\n",
    "\n",
    "## Data Dictionary\n",
    "\n",
    "Below mentioned are several clinical parameters which would be required when moving forward. This section will clearly define what the particular variables stand for and what it explains where necessary.\n",
    "\n",
    "1. `age` - Age (in years)\n",
    "\n",
    "\n",
    "2. `sex` - Gender\n",
    "    * `0`: Female\n",
    "    * `1`: Male\n",
    "\n",
    "\n",
    "3. `cp` - Type of chest pain\n",
    "    * `0`: `Typical Angina`: It is a substernal chest pain which is provoked due to physical exertion or emotional stress, and relieved by nitroglycerine or rest (or both).\n",
    "    * `1`: `Atypical Angina`: It is a condition where a person experiences a chest pain which does not meet the criteria for Angina. Angina chest pain can be defined as a pressure or squeezing like sensation, that is typically caused when the coronary heart muscles does not receive the sufficient amount of oxygenated blood.\n",
    "    * `2`: `Non-Anginal Pain`: It is a type of chest pain which resembles a chest pain in people who does not have any heart disease. It is also known as \"Non-cardiac chest pain.\"\n",
    "    * `3`: `Asymptomatic`: It is the condition which has transient symptoms / few to no symptoms / symptoms that are unrecognisable as a heart attack. It is also known as \"Silent heart attack.\"\n",
    "\n",
    "\n",
    "\n",
    "4. `trestbps` - Resting / Normal blood pressure of a person (measured in mmHg)\n",
    "\n",
    "\n",
    "| BLOOD PRESSURE CATEGORY | SYSTOLIC mm Hg | DIASTOLIC mm Hg |\n",
    "| :- | :-: | :-: |\n",
    "| NORMAL | LESS THAN 120 | LESS THAN 80 |\n",
    "| ELEVATED | 120-129 | LESS THAN 80 |\n",
    "| HIGH BLOOD PRESSURE (HYPERTENSION) STAGE 1 | 130-139 | 80-89 |\n",
    "| HIGH BLOOD PRESSURE (HYPERTENSION) STAGE 2 | 140 OR HIGHER | 90 OR HIGHER |\n",
    "| HYPERTENSIVE CRISIS | HIGHER THAN 180 | HIGHER THAN 120 |\n",
    "\n",
    "\n",
    "5. `chol` - Cholesterol (measured in mg/dl)\n",
    "\n",
    "\n",
    "6. `fbs` - Fasting blood sugar > 120 mg/dl\n",
    "    * `0`: False\n",
    "    * `1`: True\n",
    "    \n",
    "    \n",
    "7. `restecg` - Resting electrocardiographic results\n",
    "    * 0: Normal\n",
    "    * 1: Has ST-T Wave abnormality\n",
    "    * 2: Has or shows signs of left ventricular hypertrophy\n",
    "\n",
    "\n",
    "8. `thalach` - The maximum heart rate achieved\n",
    "\n",
    "\n",
    "9. `exang` - Exercise induced Angina\n",
    "    * `0`: No\n",
    "    * `1`: Yes\n",
    "\n",
    "\n",
    "10. `oldpeak` - The previous peak\n",
    "\n",
    "\n",
    "11. `slp` - Slope of the exercise induced ST segment\n",
    "    * `0`: `Upsloping`: Heart rate becomes better with exercise\n",
    "    * `1`: `Flatsloping`: Healthy heart with barely any change\n",
    "    * `2`: `Downsloping`: Unhealthy heart\n",
    "\n",
    "\n",
    "12. `caa` - Number of major vessels (0-4)\n",
    "\n",
    "\n",
    "13. `thal` - Result of thallium stress test (0-3)\n",
    "\n",
    "\n",
    "14. `output` - Has had a heart attack or not\n",
    "    * `0`: No\n",
    "    * `1`: Yes"
   ]
  },
  {
   "cell_type": "markdown",
   "metadata": {},
   "source": [
    "# Import Libraries"
   ]
  },
  {
   "cell_type": "code",
   "execution_count": null,
   "metadata": {},
   "outputs": [],
   "source": [
    "import sys\r\n",
    "!{sys.executable} -m pip install xgboost\r\n",
    "!{sys.executable} -m pip install hvplot\r\n",
    "import seaborn as sns\r\n",
    "import numpy as np\r\n",
    "import pandas as pd\r\n",
    "import matplotlib.pyplot as plt\r\n",
    "from sklearn.model_selection import train_test_split\r\n",
    "from sklearn.model_selection import GridSearchCV\r\n",
    "from sklearn.preprocessing import StandardScaler \r\n",
    "from sklearn.svm import SVC\r\n",
    "from sklearn.linear_model import LogisticRegression\r\n",
    "import xgboost as xgb\r\n",
    "from sklearn.metrics import accuracy_score\r\n",
    "from sklearn.neighbors import KNeighborsClassifier  \r\n",
    "from sklearn.ensemble import RandomForestRegressor\r\n",
    "from sklearn.neighbors import KNeighborsClassifier\r\n",
    "from sklearn.naive_bayes import BernoulliNB\r\n",
    "from sklearn.naive_bayes import GaussianNB\r\n",
    "from sklearn.metrics import confusion_matrix, classification_report\r\n",
    "from sklearn.tree import DecisionTreeClassifier\r\n",
    "from sklearn.ensemble import RandomForestClassifier\r\n",
    "\r\n",
    "import hvplot.pandas\r\n",
    "from IPython.display import Markdown as md\r\n",
    "\r\n",
    "import warnings\r\n",
    "warnings.filterwarnings(\"ignore\", category=DeprecationWarning)"
   ]
  },
  {
   "cell_type": "code",
   "execution_count": 3,
   "metadata": {},
   "outputs": [],
   "source": [
    "# loading the dataset (patients.csv) file and assigning to the 'patients' variable\n",
    "patients=pd.read_csv('patients.csv')"
   ]
  }
 ],
 "metadata": {
  "kernelspec": {
   "display_name": "Python 3 (ipykernel)",
   "language": "python",
   "name": "python3"
  },
  "language_info": {
   "codemirror_mode": {
    "name": "ipython",
    "version": 3
   },
   "file_extension": ".py",
   "mimetype": "text/x-python",
   "name": "python",
   "nbconvert_exporter": "python",
   "pygments_lexer": "ipython3",
   "version": "3.9.7"
  }
 },
 "nbformat": 4,
 "nbformat_minor": 5
}