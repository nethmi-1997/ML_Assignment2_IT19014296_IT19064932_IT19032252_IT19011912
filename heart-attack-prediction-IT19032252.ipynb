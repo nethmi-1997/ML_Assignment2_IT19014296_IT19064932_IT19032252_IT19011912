{
 "cells": [
  {
   "cell_type": "code",
   "execution_count": 17,
   "id": "4ed56919",
   "metadata": {},
   "outputs": [
    {
     "data": {
      "text/html": [
       "<style>\n",
       "table {align:left; display:block}\n",
       "</style>\n"
      ],
      "text/plain": [
       "<IPython.core.display.HTML object>"
      ]
     },
     "metadata": {},
     "output_type": "display_data"
    }
   ],
   "source": [
    "%%html\n",
    "<style>\n",
    "table {align:left; display:block}\n",
    "</style>"
   ]
  },
  {
   "cell_type": "markdown",
   "id": "5dcf9b81",
   "metadata": {},
   "source": [
    "# Analysing and Predicting Heart Attacks using Clinical Parameters of Patients\n",
    "\n",
    "\n",
    "## Data Dictionary\n",
    "\n",
    "Several clinical parameters are listed below that will be required moving forward. This section will specifically address what the various variables represent and it explain where appropriate.\n",
    "\n",
    "1. `age` - Age (in years)\n",
    "\n",
    "\n",
    "2. `sex` - Gender\n",
    "    * `0`: Female\n",
    "    * `1`: Male\n",
    "\n",
    "\n",
    "3. `cp` - Type of chest pain\n",
    "    * `0`: `Typical Angina`: It's a substernal chest ache brought on by physical activity or emotional stress, and it's treated with nitroglycerine or rest (or both).\n",
    "    * `1`: `Atypical Angina`: It is a condition in which a person has chest pain but does not fit the Angina requirements. Angina chest ache is a pressure or squeezing sensation that occurs when the coronary heart muscles do not receive enough oxygenated blood.\n",
    "    * `2`: `Non-Anginal Pain`: It is a sort of chest ache that is similar to chest pain in persons who do not have a cardiac condition. \"Non-cardiac chest pain\" is another name for it.\n",
    "    * `3`: `Asymptomatic`: It's a disorder with fleeting symptoms, little to no symptoms, or symptoms that aren't easily mistaken for a heart attack. It's sometimes referred to as a \"silent heart attack.\"\n",
    "\n",
    "\n",
    "4. `trestbps` - Resting / Normal blood pressure of a person (measured in mmHg)\n",
    "\n",
    "\n",
    "| BLOOD PRESSURE CATEGORY | SYSTOLIC mm Hg | DIASTOLIC mm Hg |\n",
    "| :- | :-: | :-: |\n",
    "| NORMAL | LESS THAN 120 | LESS THAN 80 |\n",
    "| ELEVATED | 120-129 | LESS THAN 80 |\n",
    "| HIGH BLOOD PRESSURE (HYPERTENSION) STAGE 1 | 130-139 | 80-89 |\n",
    "| HIGH BLOOD PRESSURE (HYPERTENSION) STAGE 2 | 140 OR HIGHER | 90 OR HIGHER |\n",
    "| HYPERTENSIVE CRISIS | HIGHER THAN 180 | HIGHER THAN 120 |\n",
    "\n",
    "\n",
    "5. `chol` - Cholesterol (measured in mg/dl)\n",
    "\n",
    "\n",
    "6. `fbs` - Fasting blood sugar > 120 mg/dl\n",
    "    * `0`: False\n",
    "    * `1`: True\n",
    "    \n",
    "    \n",
    "7. `restecg` - Resting electrocardiographic results\n",
    "    * 0: Normal\n",
    "    * 1: Has ST-T Wave abnormality\n",
    "    * 2: Has or shows signs of left ventricular hypertrophy\n",
    "\n",
    "\n",
    "8. `thalach` - The person's maximum heart rate achieved\n",
    "\n",
    "\n",
    "9. `exang` - Exercise induced Angina\n",
    "    * `0`: No\n",
    "    * `1`: Yes\n",
    "\n",
    "\n",
    "10. `oldpeak` - Exercise relative to rest\n",
    "\n",
    "\n",
    "11. `slp` - Slope of the exercise induced ST segment\n",
    "    * `0`: `Upsloping`: Heart rate becomes better with exercise\n",
    "    * `1`: `Flatsloping`: Healthy heart with barely any change\n",
    "    * `2`: `Downsloping`: Unhealthy heart\n",
    "\n",
    "\n",
    "12. `caa` - Number of major vessels (0-4)\n",
    "\n",
    "\n",
    "13. `thal` - Result of thallium stress test (0-3)\n",
    "\n",
    "\n",
    "14. `output` - Has had a heart attack or not\n",
    "    * `0`: No\n",
    "    * `1`: Yes"
   ]
  },
  {
   "cell_type": "markdown",
   "id": "8c84a55f",
   "metadata": {},
   "source": [
    "# Import Libraries"
   ]
  },
  {
   "cell_type": "code",
   "execution_count": 18,
   "id": "d39c8d14",
   "metadata": {},
   "outputs": [
    {
     "name": "stdout",
     "output_type": "stream",
     "text": [
      "Requirement already satisfied: xgboost in e:\\softwares\\anaconda\\lib\\site-packages (1.6.1)\n",
      "Requirement already satisfied: scipy in e:\\softwares\\anaconda\\lib\\site-packages (from xgboost) (1.7.1)\n",
      "Requirement already satisfied: numpy in e:\\softwares\\anaconda\\lib\\site-packages (from xgboost) (1.20.3)\n",
      "Requirement already satisfied: hvplot in e:\\softwares\\anaconda\\lib\\site-packages (0.8.0)\n",
      "Requirement already satisfied: colorcet>=2 in e:\\softwares\\anaconda\\lib\\site-packages (from hvplot) (3.0.0)\n",
      "Requirement already satisfied: holoviews>=1.11.0 in e:\\softwares\\anaconda\\lib\\site-packages (from hvplot) (1.14.9)\n",
      "Requirement already satisfied: pandas in e:\\softwares\\anaconda\\lib\\site-packages (from hvplot) (1.3.4)\n",
      "Requirement already satisfied: numpy>=1.15 in e:\\softwares\\anaconda\\lib\\site-packages (from hvplot) (1.20.3)\n",
      "Requirement already satisfied: bokeh>=1.0.0 in e:\\softwares\\anaconda\\lib\\site-packages (from hvplot) (2.4.1)\n",
      "Requirement already satisfied: packaging in e:\\softwares\\anaconda\\lib\\site-packages (from hvplot) (21.0)\n",
      "Requirement already satisfied: Jinja2>=2.9 in e:\\softwares\\anaconda\\lib\\site-packages (from bokeh>=1.0.0->hvplot) (2.11.3)\n",
      "Requirement already satisfied: pillow>=7.1.0 in e:\\softwares\\anaconda\\lib\\site-packages (from bokeh>=1.0.0->hvplot) (8.4.0)\n",
      "Requirement already satisfied: PyYAML>=3.10 in e:\\softwares\\anaconda\\lib\\site-packages (from bokeh>=1.0.0->hvplot) (6.0)\n",
      "Requirement already satisfied: tornado>=5.1 in e:\\softwares\\anaconda\\lib\\site-packages (from bokeh>=1.0.0->hvplot) (6.1)\n",
      "Requirement already satisfied: typing-extensions>=3.10.0 in e:\\softwares\\anaconda\\lib\\site-packages (from bokeh>=1.0.0->hvplot) (3.10.0.2)\n",
      "Requirement already satisfied: param>=1.7.0 in e:\\softwares\\anaconda\\lib\\site-packages (from colorcet>=2->hvplot) (1.12.1)\n",
      "Requirement already satisfied: pyct>=0.4.4 in e:\\softwares\\anaconda\\lib\\site-packages (from colorcet>=2->hvplot) (0.4.8)\n",
      "Requirement already satisfied: panel>=0.8.0 in e:\\softwares\\anaconda\\lib\\site-packages (from holoviews>=1.11.0->hvplot) (0.13.0)\n",
      "Requirement already satisfied: pyviz-comms>=0.7.4 in e:\\softwares\\anaconda\\lib\\site-packages (from holoviews>=1.11.0->hvplot) (2.2.0)\n",
      "Requirement already satisfied: MarkupSafe>=0.23 in e:\\softwares\\anaconda\\lib\\site-packages (from Jinja2>=2.9->bokeh>=1.0.0->hvplot) (1.1.1)\n",
      "Requirement already satisfied: pyparsing>=2.0.2 in e:\\softwares\\anaconda\\lib\\site-packages (from packaging->hvplot) (3.0.4)\n",
      "Requirement already satisfied: python-dateutil>=2.7.3 in e:\\softwares\\anaconda\\lib\\site-packages (from pandas->hvplot) (2.8.2)\n",
      "Requirement already satisfied: pytz>=2017.3 in e:\\softwares\\anaconda\\lib\\site-packages (from pandas->hvplot) (2021.3)\n",
      "Requirement already satisfied: requests in e:\\softwares\\anaconda\\lib\\site-packages (from panel>=0.8.0->holoviews>=1.11.0->hvplot) (2.26.0)\n",
      "Requirement already satisfied: markdown in e:\\softwares\\anaconda\\lib\\site-packages (from panel>=0.8.0->holoviews>=1.11.0->hvplot) (3.3.7)\n",
      "Requirement already satisfied: tqdm>=4.48.0 in e:\\softwares\\anaconda\\lib\\site-packages (from panel>=0.8.0->holoviews>=1.11.0->hvplot) (4.62.3)\n",
      "Requirement already satisfied: bleach in e:\\softwares\\anaconda\\lib\\site-packages (from panel>=0.8.0->holoviews>=1.11.0->hvplot) (4.0.0)\n",
      "Requirement already satisfied: six>=1.5 in e:\\softwares\\anaconda\\lib\\site-packages (from python-dateutil>=2.7.3->pandas->hvplot) (1.16.0)\n",
      "Requirement already satisfied: colorama in e:\\softwares\\anaconda\\lib\\site-packages (from tqdm>=4.48.0->panel>=0.8.0->holoviews>=1.11.0->hvplot) (0.4.4)\n",
      "Requirement already satisfied: webencodings in e:\\softwares\\anaconda\\lib\\site-packages (from bleach->panel>=0.8.0->holoviews>=1.11.0->hvplot) (0.5.1)\n",
      "Requirement already satisfied: importlib-metadata>=4.4 in e:\\softwares\\anaconda\\lib\\site-packages (from markdown->panel>=0.8.0->holoviews>=1.11.0->hvplot) (4.8.1)\n",
      "Requirement already satisfied: zipp>=0.5 in e:\\softwares\\anaconda\\lib\\site-packages (from importlib-metadata>=4.4->markdown->panel>=0.8.0->holoviews>=1.11.0->hvplot) (3.6.0)\n",
      "Requirement already satisfied: idna<4,>=2.5 in e:\\softwares\\anaconda\\lib\\site-packages (from requests->panel>=0.8.0->holoviews>=1.11.0->hvplot) (3.2)\n",
      "Requirement already satisfied: urllib3<1.27,>=1.21.1 in e:\\softwares\\anaconda\\lib\\site-packages (from requests->panel>=0.8.0->holoviews>=1.11.0->hvplot) (1.26.7)\n",
      "Requirement already satisfied: certifi>=2017.4.17 in e:\\softwares\\anaconda\\lib\\site-packages (from requests->panel>=0.8.0->holoviews>=1.11.0->hvplot) (2021.10.8)\n",
      "Requirement already satisfied: charset-normalizer~=2.0.0 in e:\\softwares\\anaconda\\lib\\site-packages (from requests->panel>=0.8.0->holoviews>=1.11.0->hvplot) (2.0.4)\n"
     ]
    }
   ],
   "source": [
    "import sys\n",
    "!{sys.executable} -m pip install xgboost\n",
    "!{sys.executable} -m pip install hvplot\n",
    "import seaborn as sns\n",
    "import numpy as np\n",
    "import pandas as pd\n",
    "import matplotlib.pyplot as plt\n",
    "from sklearn.model_selection import train_test_split\n",
    "from sklearn.model_selection import GridSearchCV\n",
    "from sklearn.preprocessing import StandardScaler \n",
    "from sklearn.svm import SVC\n",
    "from sklearn.linear_model import LogisticRegression\n",
    "import xgboost as xgb\n",
    "from sklearn.metrics import accuracy_score\n",
    "from sklearn.neighbors import KNeighborsClassifier  \n",
    "from sklearn.ensemble import RandomForestRegressor\n",
    "from sklearn.neighbors import KNeighborsClassifier\n",
    "from sklearn.naive_bayes import BernoulliNB\n",
    "from sklearn.naive_bayes import GaussianNB\n",
    "from sklearn.metrics import confusion_matrix, classification_report\n",
    "from sklearn.tree import DecisionTreeClassifier\n",
    "from sklearn.ensemble import RandomForestClassifier\n",
    "\n",
    "import hvplot.pandas\n",
    "from IPython.display import Markdown as md\n",
    "\n",
    "import warnings\n",
    "warnings.filterwarnings(\"ignore\", category=DeprecationWarning)"
   ]
  },
  {
   "cell_type": "code",
   "execution_count": 19,
   "id": "aad371d4",
   "metadata": {},
   "outputs": [],
   "source": [
    "# The csv dataset file has been loaded and assigned to the variable 'patients.'\n",
    "patients=pd.read_csv('patients.csv')"
   ]
  },
  {
   "cell_type": "markdown",
   "id": "b6f957c7",
   "metadata": {},
   "source": [
    "# Exploratory Data Analysis (EDA)"
   ]
  },
  {
   "cell_type": "code",
   "execution_count": 20,
   "id": "4b4548ee",
   "metadata": {},
   "outputs": [
    {
     "name": "stdout",
     "output_type": "stream",
     "text": [
      "This dataset consists of 303 rows and 14 columns\n"
     ]
    }
   ],
   "source": [
    "# examining the dataset\n",
    "print(\"This dataset consists of \" + str(patients.shape[0]) + \" rows and \" + str(patients.shape[1]) + \" columns\")"
   ]
  },
  {
   "cell_type": "code",
   "execution_count": 21,
   "id": "0922a08d",
   "metadata": {},
   "outputs": [
    {
     "data": {
      "text/html": [
       "<div>\n",
       "<style scoped>\n",
       "    .dataframe tbody tr th:only-of-type {\n",
       "        vertical-align: middle;\n",
       "    }\n",
       "\n",
       "    .dataframe tbody tr th {\n",
       "        vertical-align: top;\n",
       "    }\n",
       "\n",
       "    .dataframe thead th {\n",
       "        text-align: right;\n",
       "    }\n",
       "</style>\n",
       "<table border=\"1\" class=\"dataframe\">\n",
       "  <thead>\n",
       "    <tr style=\"text-align: right;\">\n",
       "      <th></th>\n",
       "      <th>age</th>\n",
       "      <th>sex</th>\n",
       "      <th>cp</th>\n",
       "      <th>trestbps</th>\n",
       "      <th>chol</th>\n",
       "      <th>fbs</th>\n",
       "      <th>restecg</th>\n",
       "      <th>thalach</th>\n",
       "      <th>exang</th>\n",
       "      <th>oldpeak</th>\n",
       "      <th>slp</th>\n",
       "      <th>caa</th>\n",
       "      <th>thal</th>\n",
       "      <th>output</th>\n",
       "    </tr>\n",
       "  </thead>\n",
       "  <tbody>\n",
       "    <tr>\n",
       "      <th>0</th>\n",
       "      <td>63</td>\n",
       "      <td>1</td>\n",
       "      <td>3</td>\n",
       "      <td>145</td>\n",
       "      <td>233</td>\n",
       "      <td>1</td>\n",
       "      <td>0</td>\n",
       "      <td>150</td>\n",
       "      <td>0</td>\n",
       "      <td>2.30</td>\n",
       "      <td>0</td>\n",
       "      <td>0</td>\n",
       "      <td>1</td>\n",
       "      <td>1</td>\n",
       "    </tr>\n",
       "    <tr>\n",
       "      <th>1</th>\n",
       "      <td>37</td>\n",
       "      <td>1</td>\n",
       "      <td>2</td>\n",
       "      <td>130</td>\n",
       "      <td>250</td>\n",
       "      <td>0</td>\n",
       "      <td>1</td>\n",
       "      <td>187</td>\n",
       "      <td>0</td>\n",
       "      <td>3.50</td>\n",
       "      <td>0</td>\n",
       "      <td>0</td>\n",
       "      <td>2</td>\n",
       "      <td>1</td>\n",
       "    </tr>\n",
       "    <tr>\n",
       "      <th>2</th>\n",
       "      <td>41</td>\n",
       "      <td>0</td>\n",
       "      <td>1</td>\n",
       "      <td>130</td>\n",
       "      <td>204</td>\n",
       "      <td>0</td>\n",
       "      <td>0</td>\n",
       "      <td>172</td>\n",
       "      <td>0</td>\n",
       "      <td>1.40</td>\n",
       "      <td>2</td>\n",
       "      <td>0</td>\n",
       "      <td>2</td>\n",
       "      <td>1</td>\n",
       "    </tr>\n",
       "    <tr>\n",
       "      <th>3</th>\n",
       "      <td>56</td>\n",
       "      <td>1</td>\n",
       "      <td>1</td>\n",
       "      <td>120</td>\n",
       "      <td>236</td>\n",
       "      <td>0</td>\n",
       "      <td>1</td>\n",
       "      <td>178</td>\n",
       "      <td>0</td>\n",
       "      <td>0.80</td>\n",
       "      <td>2</td>\n",
       "      <td>0</td>\n",
       "      <td>2</td>\n",
       "      <td>1</td>\n",
       "    </tr>\n",
       "    <tr>\n",
       "      <th>4</th>\n",
       "      <td>57</td>\n",
       "      <td>0</td>\n",
       "      <td>0</td>\n",
       "      <td>120</td>\n",
       "      <td>354</td>\n",
       "      <td>0</td>\n",
       "      <td>1</td>\n",
       "      <td>163</td>\n",
       "      <td>1</td>\n",
       "      <td>0.60</td>\n",
       "      <td>2</td>\n",
       "      <td>0</td>\n",
       "      <td>2</td>\n",
       "      <td>1</td>\n",
       "    </tr>\n",
       "  </tbody>\n",
       "</table>\n",
       "</div>"
      ],
      "text/plain": [
       "   age  sex  cp  trestbps  chol  fbs  restecg  thalach  exang  oldpeak  slp  \\\n",
       "0   63    1   3       145   233    1        0      150      0     2.30    0   \n",
       "1   37    1   2       130   250    0        1      187      0     3.50    0   \n",
       "2   41    0   1       130   204    0        0      172      0     1.40    2   \n",
       "3   56    1   1       120   236    0        1      178      0     0.80    2   \n",
       "4   57    0   0       120   354    0        1      163      1     0.60    2   \n",
       "\n",
       "   caa  thal  output  \n",
       "0    0     1       1  \n",
       "1    0     2       1  \n",
       "2    0     2       1  \n",
       "3    0     2       1  \n",
       "4    0     2       1  "
      ]
     },
     "execution_count": 21,
     "metadata": {},
     "output_type": "execute_result"
    }
   ],
   "source": [
    "# printing the dataset's first five records\n",
    "patients.head()"
   ]
  },
  {
   "cell_type": "markdown",
   "id": "3cc03751",
   "metadata": {},
   "source": [
    "When looking at the above table, it's clear that the columns contain both category and continuous variables. The variables are separated into categories to help to comprehend the column values when you move along.\n",
    "\n",
    "\n",
    "1. The categorial columns\n",
    "    * `sex`\n",
    "    * `cp`\n",
    "    * `fbs`\n",
    "    * `restecg`\n",
    "    * `exang`\n",
    "    * `slp`\n",
    "    * `caa`\n",
    "    * `thal`\n",
    "    * `output`\n",
    "    \n",
    "    \n",
    "2. The continuous columns\n",
    "    * `age`\n",
    "    * `trestbps`\n",
    "    * `chol`\n",
    "    * `thalach`\n",
    "    * `oldpeak`\n",
    "    \n",
    "\n",
    "Next, analyze the attribute's data types."
   ]
  },
  {
   "cell_type": "code",
   "execution_count": 22,
   "id": "e6ff6e02",
   "metadata": {},
   "outputs": [
    {
     "name": "stdout",
     "output_type": "stream",
     "text": [
      "<class 'pandas.core.frame.DataFrame'>\n",
      "RangeIndex: 303 entries, 0 to 302\n",
      "Data columns (total 14 columns):\n",
      " #   Column    Non-Null Count  Dtype  \n",
      "---  ------    --------------  -----  \n",
      " 0   age       303 non-null    int64  \n",
      " 1   sex       303 non-null    int64  \n",
      " 2   cp        303 non-null    int64  \n",
      " 3   trestbps  303 non-null    int64  \n",
      " 4   chol      303 non-null    int64  \n",
      " 5   fbs       303 non-null    int64  \n",
      " 6   restecg   303 non-null    int64  \n",
      " 7   thalach   303 non-null    int64  \n",
      " 8   exang     303 non-null    int64  \n",
      " 9   oldpeak   303 non-null    float64\n",
      " 10  slp       303 non-null    int64  \n",
      " 11  caa       303 non-null    int64  \n",
      " 12  thal      303 non-null    int64  \n",
      " 13  output    303 non-null    int64  \n",
      "dtypes: float64(1), int64(13)\n",
      "memory usage: 33.3 KB\n"
     ]
    }
   ],
   "source": [
    "# displaying the data types\n",
    "patients.info()"
   ]
  },
  {
   "cell_type": "markdown",
   "id": "0c595866",
   "metadata": {},
   "source": [
    "Next, search for any null values that may exist in the dataset."
   ]
  },
  {
   "cell_type": "code",
   "execution_count": 23,
   "id": "173d32f7",
   "metadata": {},
   "outputs": [
    {
     "data": {
      "text/plain": [
       "age         0\n",
       "sex         0\n",
       "cp          0\n",
       "trestbps    0\n",
       "chol        0\n",
       "fbs         0\n",
       "restecg     0\n",
       "thalach     0\n",
       "exang       0\n",
       "oldpeak     0\n",
       "slp         0\n",
       "caa         0\n",
       "thal        0\n",
       "output      0\n",
       "dtype: int64"
      ]
     },
     "execution_count": 23,
     "metadata": {},
     "output_type": "execute_result"
    }
   ],
   "source": [
    "# checking for null values\n",
    "patients.isnull().sum()"
   ]
  },
  {
   "cell_type": "markdown",
   "id": "457882c0",
   "metadata": {},
   "source": [
    "The output above shows that the dataset does not contain any null values.\n",
    "Next, search for any duplicate records that could cause the model to overfit as a result of the bias."
   ]
  },
  {
   "cell_type": "code",
   "execution_count": 24,
   "id": "eabaffa4",
   "metadata": {},
   "outputs": [
    {
     "data": {
      "text/html": [
       "<div>\n",
       "<style scoped>\n",
       "    .dataframe tbody tr th:only-of-type {\n",
       "        vertical-align: middle;\n",
       "    }\n",
       "\n",
       "    .dataframe tbody tr th {\n",
       "        vertical-align: top;\n",
       "    }\n",
       "\n",
       "    .dataframe thead th {\n",
       "        text-align: right;\n",
       "    }\n",
       "</style>\n",
       "<table border=\"1\" class=\"dataframe\">\n",
       "  <thead>\n",
       "    <tr style=\"text-align: right;\">\n",
       "      <th></th>\n",
       "      <th>age</th>\n",
       "      <th>sex</th>\n",
       "      <th>cp</th>\n",
       "      <th>trestbps</th>\n",
       "      <th>chol</th>\n",
       "      <th>fbs</th>\n",
       "      <th>restecg</th>\n",
       "      <th>thalach</th>\n",
       "      <th>exang</th>\n",
       "      <th>oldpeak</th>\n",
       "      <th>slp</th>\n",
       "      <th>caa</th>\n",
       "      <th>thal</th>\n",
       "      <th>output</th>\n",
       "    </tr>\n",
       "  </thead>\n",
       "  <tbody>\n",
       "    <tr>\n",
       "      <th>164</th>\n",
       "      <td>38</td>\n",
       "      <td>1</td>\n",
       "      <td>2</td>\n",
       "      <td>138</td>\n",
       "      <td>175</td>\n",
       "      <td>0</td>\n",
       "      <td>1</td>\n",
       "      <td>173</td>\n",
       "      <td>0</td>\n",
       "      <td>0.00</td>\n",
       "      <td>2</td>\n",
       "      <td>4</td>\n",
       "      <td>2</td>\n",
       "      <td>1</td>\n",
       "    </tr>\n",
       "  </tbody>\n",
       "</table>\n",
       "</div>"
      ],
      "text/plain": [
       "     age  sex  cp  trestbps  chol  fbs  restecg  thalach  exang  oldpeak  slp  \\\n",
       "164   38    1   2       138   175    0        1      173      0     0.00    2   \n",
       "\n",
       "     caa  thal  output  \n",
       "164    4     2       1  "
      ]
     },
     "execution_count": 24,
     "metadata": {},
     "output_type": "execute_result"
    }
   ],
   "source": [
    "# searching for duplicate records\n",
    "patients[patients.duplicated()]"
   ]
  },
  {
   "cell_type": "markdown",
   "id": "47271bda",
   "metadata": {},
   "source": [
    "The output shows that there is a record that has been duplicated. As a result, it must be eliminated before proceeding."
   ]
  },
  {
   "cell_type": "code",
   "execution_count": 25,
   "id": "b89e29c3",
   "metadata": {},
   "outputs": [],
   "source": [
    "# duplicates are removed from the data frame\n",
    "patients.drop_duplicates(keep='first',inplace=True)"
   ]
  },
  {
   "cell_type": "markdown",
   "id": "f8033772",
   "metadata": {},
   "source": [
    "Examine to see if the duplicated record was removed. If it's eliminated, there should be 302 records instead of the previous 303."
   ]
  },
  {
   "cell_type": "code",
   "execution_count": 26,
   "id": "ad4c594d",
   "metadata": {},
   "outputs": [
    {
     "name": "stdout",
     "output_type": "stream",
     "text": [
      "This dataset consists of 302 rows\n"
     ]
    }
   ],
   "source": [
    "#re-analyzing the dataset\n",
    "print(\"This dataset consists of \" + str(patients.shape[0]) + \" rows\")"
   ]
  },
  {
   "cell_type": "markdown",
   "id": "bd1e3fa4",
   "metadata": {},
   "source": [
    "The duplicated record has been eliminated, as evidenced by the above output.\n",
    "Next, see the dataset's statistics summary next."
   ]
  },
  {
   "cell_type": "code",
   "execution_count": 27,
   "id": "47f487ce",
   "metadata": {},
   "outputs": [
    {
     "data": {
      "text/html": [
       "<div>\n",
       "<style scoped>\n",
       "    .dataframe tbody tr th:only-of-type {\n",
       "        vertical-align: middle;\n",
       "    }\n",
       "\n",
       "    .dataframe tbody tr th {\n",
       "        vertical-align: top;\n",
       "    }\n",
       "\n",
       "    .dataframe thead th {\n",
       "        text-align: right;\n",
       "    }\n",
       "</style>\n",
       "<table border=\"1\" class=\"dataframe\">\n",
       "  <thead>\n",
       "    <tr style=\"text-align: right;\">\n",
       "      <th></th>\n",
       "      <th>age</th>\n",
       "      <th>trestbps</th>\n",
       "      <th>chol</th>\n",
       "      <th>thalach</th>\n",
       "      <th>oldpeak</th>\n",
       "    </tr>\n",
       "  </thead>\n",
       "  <tbody>\n",
       "    <tr>\n",
       "      <th>count</th>\n",
       "      <td>302.00</td>\n",
       "      <td>302.00</td>\n",
       "      <td>302.00</td>\n",
       "      <td>302.00</td>\n",
       "      <td>302.00</td>\n",
       "    </tr>\n",
       "    <tr>\n",
       "      <th>mean</th>\n",
       "      <td>54.42</td>\n",
       "      <td>131.60</td>\n",
       "      <td>246.50</td>\n",
       "      <td>149.57</td>\n",
       "      <td>1.04</td>\n",
       "    </tr>\n",
       "    <tr>\n",
       "      <th>std</th>\n",
       "      <td>9.05</td>\n",
       "      <td>17.56</td>\n",
       "      <td>51.75</td>\n",
       "      <td>22.90</td>\n",
       "      <td>1.16</td>\n",
       "    </tr>\n",
       "    <tr>\n",
       "      <th>min</th>\n",
       "      <td>29.00</td>\n",
       "      <td>94.00</td>\n",
       "      <td>126.00</td>\n",
       "      <td>71.00</td>\n",
       "      <td>0.00</td>\n",
       "    </tr>\n",
       "    <tr>\n",
       "      <th>25%</th>\n",
       "      <td>48.00</td>\n",
       "      <td>120.00</td>\n",
       "      <td>211.00</td>\n",
       "      <td>133.25</td>\n",
       "      <td>0.00</td>\n",
       "    </tr>\n",
       "    <tr>\n",
       "      <th>50%</th>\n",
       "      <td>55.50</td>\n",
       "      <td>130.00</td>\n",
       "      <td>240.50</td>\n",
       "      <td>152.50</td>\n",
       "      <td>0.80</td>\n",
       "    </tr>\n",
       "    <tr>\n",
       "      <th>75%</th>\n",
       "      <td>61.00</td>\n",
       "      <td>140.00</td>\n",
       "      <td>274.75</td>\n",
       "      <td>166.00</td>\n",
       "      <td>1.60</td>\n",
       "    </tr>\n",
       "    <tr>\n",
       "      <th>max</th>\n",
       "      <td>77.00</td>\n",
       "      <td>200.00</td>\n",
       "      <td>564.00</td>\n",
       "      <td>202.00</td>\n",
       "      <td>6.20</td>\n",
       "    </tr>\n",
       "  </tbody>\n",
       "</table>\n",
       "</div>"
      ],
      "text/plain": [
       "         age  trestbps   chol  thalach  oldpeak\n",
       "count 302.00    302.00 302.00   302.00   302.00\n",
       "mean   54.42    131.60 246.50   149.57     1.04\n",
       "std     9.05     17.56  51.75    22.90     1.16\n",
       "min    29.00     94.00 126.00    71.00     0.00\n",
       "25%    48.00    120.00 211.00   133.25     0.00\n",
       "50%    55.50    130.00 240.50   152.50     0.80\n",
       "75%    61.00    140.00 274.75   166.00     1.60\n",
       "max    77.00    200.00 564.00   202.00     6.20"
      ]
     },
     "execution_count": 27,
     "metadata": {},
     "output_type": "execute_result"
    }
   ],
   "source": [
    "# setting the two decimal places for the floating value\n",
    "pd.set_option(\"display.float\", \"{:.2f}\".format)\n",
    "\n",
    "# Because a statistical summary is required, label the columns for the continuous variables.\n",
    "continuous_val = [\"age\",\"trestbps\",\"chol\",\"thalach\",\"oldpeak\"]\n",
    "patients[continuous_val].describe()"
   ]
  },
  {
   "cell_type": "markdown",
   "id": "10a7f1d9",
   "metadata": {},
   "source": [
    "Make a graph to show the number of patients who have had a heart attack versus those who haven't."
   ]
  },
  {
   "cell_type": "code",
   "execution_count": 28,
   "id": "75ddc419",
   "metadata": {},
   "outputs": [
    {
     "data": {},
     "metadata": {},
     "output_type": "display_data"
    },
    {
     "data": {
      "application/vnd.holoviews_exec.v0+json": "",
      "text/html": [
       "<div id='1123'>\n",
       "\n",
       "\n",
       "\n",
       "\n",
       "\n",
       "  <div class=\"bk-root\" id=\"9961f215-aaa4-4360-a01d-63f4586eb86d\" data-root-id=\"1123\"></div>\n",
       "</div>\n",
       "<script type=\"application/javascript\">(function(root) {\n",
       "  function embed_document(root) {\n",
       "    var docs_json = {\"82b760d4-2523-4a81-a38d-643a6b4969bd\":{\"defs\":[{\"extends\":null,\"module\":null,\"name\":\"ReactiveHTML1\",\"overrides\":[],\"properties\":[]},{\"extends\":null,\"module\":null,\"name\":\"FlexBox1\",\"overrides\":[],\"properties\":[{\"default\":\"flex-start\",\"kind\":null,\"name\":\"align_content\"},{\"default\":\"flex-start\",\"kind\":null,\"name\":\"align_items\"},{\"default\":\"row\",\"kind\":null,\"name\":\"flex_direction\"},{\"default\":\"wrap\",\"kind\":null,\"name\":\"flex_wrap\"},{\"default\":\"flex-start\",\"kind\":null,\"name\":\"justify_content\"}]},{\"extends\":null,\"module\":null,\"name\":\"GridStack1\",\"overrides\":[],\"properties\":[{\"default\":\"warn\",\"kind\":null,\"name\":\"mode\"},{\"default\":null,\"kind\":null,\"name\":\"ncols\"},{\"default\":null,\"kind\":null,\"name\":\"nrows\"},{\"default\":true,\"kind\":null,\"name\":\"allow_resize\"},{\"default\":true,\"kind\":null,\"name\":\"allow_drag\"},{\"default\":[],\"kind\":null,\"name\":\"state\"}]},{\"extends\":null,\"module\":null,\"name\":\"click1\",\"overrides\":[],\"properties\":[{\"default\":\"\",\"kind\":null,\"name\":\"terminal_output\"},{\"default\":\"\",\"kind\":null,\"name\":\"debug_name\"},{\"default\":0,\"kind\":null,\"name\":\"clears\"}]},{\"extends\":null,\"module\":null,\"name\":\"TemplateActions1\",\"overrides\":[],\"properties\":[{\"default\":0,\"kind\":null,\"name\":\"open_modal\"},{\"default\":0,\"kind\":null,\"name\":\"close_modal\"}]},{\"extends\":null,\"module\":null,\"name\":\"MaterialTemplateActions1\",\"overrides\":[],\"properties\":[{\"default\":0,\"kind\":null,\"name\":\"open_modal\"},{\"default\":0,\"kind\":null,\"name\":\"close_modal\"}]}],\"roots\":{\"references\":[{\"attributes\":{\"overlay\":{\"id\":\"1149\"}},\"id\":\"1147\",\"type\":\"BoxZoomTool\"},{\"attributes\":{\"bottom\":{\"value\":0},\"fill_alpha\":{\"value\":1.0},\"fill_color\":{\"value\":\"#30a2da\"},\"hatch_alpha\":{\"value\":1.0},\"hatch_color\":{\"value\":\"#30a2da\"},\"hatch_scale\":{\"value\":12.0},\"hatch_weight\":{\"value\":1.0},\"line_alpha\":{\"value\":1.0},\"line_cap\":{\"value\":\"butt\"},\"line_color\":{\"value\":\"black\"},\"line_dash\":{\"value\":[]},\"line_dash_offset\":{\"value\":0},\"line_join\":{\"value\":\"bevel\"},\"line_width\":{\"value\":1},\"top\":{\"field\":\"output\"},\"width\":{\"value\":0.8},\"x\":{\"field\":\"index\"}},\"id\":\"1165\",\"type\":\"VBar\"},{\"attributes\":{},\"id\":\"1148\",\"type\":\"ResetTool\"},{\"attributes\":{\"bottom_units\":\"screen\",\"coordinates\":null,\"fill_alpha\":0.5,\"fill_color\":\"lightgrey\",\"group\":null,\"left_units\":\"screen\",\"level\":\"overlay\",\"line_alpha\":1.0,\"line_color\":\"black\",\"line_dash\":[4,4],\"line_width\":2,\"right_units\":\"screen\",\"syncable\":false,\"top_units\":\"screen\"},\"id\":\"1149\",\"type\":\"BoxAnnotation\"},{\"attributes\":{\"data\":{\"index\":[\"1\",\"0\"],\"output\":[164,138]},\"selected\":{\"id\":\"1158\"},\"selection_policy\":{\"id\":\"1179\"}},\"id\":\"1157\",\"type\":\"ColumnDataSource\"},{\"attributes\":{\"callback\":null,\"renderers\":[{\"id\":\"1163\"}],\"tags\":[\"hv_created\"],\"tooltips\":[[\"index\",\"@{index}\"],[\"output\",\"@{output}\"]]},\"id\":\"1127\",\"type\":\"HoverTool\"},{\"attributes\":{},\"id\":\"1167\",\"type\":\"CategoricalTickFormatter\"},{\"attributes\":{\"end\":166.6,\"reset_end\":166.6,\"reset_start\":0.0,\"tags\":[[[\"output\",\"output\",null]]]},\"id\":\"1126\",\"type\":\"Range1d\"},{\"attributes\":{},\"id\":\"1133\",\"type\":\"CategoricalScale\"},{\"attributes\":{\"tools\":[{\"id\":\"1127\"},{\"id\":\"1144\"},{\"id\":\"1145\"},{\"id\":\"1146\"},{\"id\":\"1147\"},{\"id\":\"1148\"}]},\"id\":\"1150\",\"type\":\"Toolbar\"},{\"attributes\":{\"margin\":[5,5,5,5],\"name\":\"HSpacer01891\",\"sizing_mode\":\"stretch_width\"},\"id\":\"1124\",\"type\":\"Spacer\"},{\"attributes\":{},\"id\":\"1171\",\"type\":\"AllLabels\"},{\"attributes\":{\"children\":[{\"id\":\"1124\"},{\"id\":\"1128\"},{\"id\":\"1192\"}],\"margin\":[0,0,0,0],\"name\":\"Row01887\",\"tags\":[\"embedded\"]},\"id\":\"1123\",\"type\":\"Row\"},{\"attributes\":{\"factors\":[\"1\",\"0\"],\"tags\":[[[\"index\",\"index\",null]]]},\"id\":\"1125\",\"type\":\"FactorRange\"},{\"attributes\":{},\"id\":\"1158\",\"type\":\"Selection\"},{\"attributes\":{\"fill_alpha\":{\"value\":0.2},\"fill_color\":{\"value\":\"#30a2da\"},\"hatch_alpha\":{\"value\":0.2},\"hatch_color\":{\"value\":\"#30a2da\"},\"line_alpha\":{\"value\":0.2},\"top\":{\"field\":\"output\"},\"width\":{\"value\":0.8},\"x\":{\"field\":\"index\"}},\"id\":\"1162\",\"type\":\"VBar\"},{\"attributes\":{},\"id\":\"1135\",\"type\":\"LinearScale\"},{\"attributes\":{},\"id\":\"1179\",\"type\":\"UnionRenderers\"},{\"attributes\":{\"margin\":[5,5,5,5],\"name\":\"HSpacer01892\",\"sizing_mode\":\"stretch_width\"},\"id\":\"1192\",\"type\":\"Spacer\"},{\"attributes\":{\"coordinates\":null,\"group\":null,\"text\":\"Number of people who have suffered a heart attack (1) vs who have not (0)\",\"text_color\":\"black\",\"text_font_size\":\"12pt\"},\"id\":\"1129\",\"type\":\"Title\"},{\"attributes\":{\"below\":[{\"id\":\"1137\"}],\"center\":[{\"id\":\"1139\"},{\"id\":\"1143\"}],\"height\":300,\"left\":[{\"id\":\"1140\"}],\"margin\":[5,5,5,5],\"min_border_bottom\":10,\"min_border_left\":10,\"min_border_right\":10,\"min_border_top\":10,\"renderers\":[{\"id\":\"1163\"}],\"sizing_mode\":\"fixed\",\"title\":{\"id\":\"1129\"},\"toolbar\":{\"id\":\"1150\"},\"width\":640,\"x_range\":{\"id\":\"1125\"},\"x_scale\":{\"id\":\"1133\"},\"y_range\":{\"id\":\"1126\"},\"y_scale\":{\"id\":\"1135\"}},\"id\":\"1128\",\"subtype\":\"Figure\",\"type\":\"Plot\"},{\"attributes\":{},\"id\":\"1138\",\"type\":\"CategoricalTicker\"},{\"attributes\":{\"axis\":{\"id\":\"1137\"},\"coordinates\":null,\"grid_line_color\":null,\"group\":null,\"ticker\":null},\"id\":\"1139\",\"type\":\"Grid\"},{\"attributes\":{},\"id\":\"1145\",\"type\":\"PanTool\"},{\"attributes\":{\"fill_alpha\":{\"value\":0.1},\"fill_color\":{\"value\":\"#30a2da\"},\"hatch_alpha\":{\"value\":0.1},\"hatch_color\":{\"value\":\"#30a2da\"},\"line_alpha\":{\"value\":0.1},\"top\":{\"field\":\"output\"},\"width\":{\"value\":0.8},\"x\":{\"field\":\"index\"}},\"id\":\"1161\",\"type\":\"VBar\"},{\"attributes\":{\"axis_label\":\"People who have suffered from a Heart Attack\",\"coordinates\":null,\"formatter\":{\"id\":\"1167\"},\"group\":null,\"major_label_policy\":{\"id\":\"1168\"},\"ticker\":{\"id\":\"1138\"}},\"id\":\"1137\",\"type\":\"CategoricalAxis\"},{\"attributes\":{\"coordinates\":null,\"data_source\":{\"id\":\"1157\"},\"glyph\":{\"id\":\"1160\"},\"group\":null,\"hover_glyph\":null,\"muted_glyph\":{\"id\":\"1162\"},\"nonselection_glyph\":{\"id\":\"1161\"},\"selection_glyph\":{\"id\":\"1165\"},\"view\":{\"id\":\"1164\"}},\"id\":\"1163\",\"type\":\"GlyphRenderer\"},{\"attributes\":{\"axis\":{\"id\":\"1140\"},\"coordinates\":null,\"dimension\":1,\"grid_line_color\":null,\"group\":null,\"ticker\":null},\"id\":\"1143\",\"type\":\"Grid\"},{\"attributes\":{},\"id\":\"1168\",\"type\":\"AllLabels\"},{\"attributes\":{\"fill_color\":{\"value\":\"#30a2da\"},\"hatch_color\":{\"value\":\"#30a2da\"},\"top\":{\"field\":\"output\"},\"width\":{\"value\":0.8},\"x\":{\"field\":\"index\"}},\"id\":\"1160\",\"type\":\"VBar\"},{\"attributes\":{},\"id\":\"1170\",\"type\":\"BasicTickFormatter\"},{\"attributes\":{\"axis_label\":\"Count\",\"coordinates\":null,\"formatter\":{\"id\":\"1170\"},\"group\":null,\"major_label_policy\":{\"id\":\"1171\"},\"ticker\":{\"id\":\"1141\"}},\"id\":\"1140\",\"type\":\"LinearAxis\"},{\"attributes\":{},\"id\":\"1141\",\"type\":\"BasicTicker\"},{\"attributes\":{},\"id\":\"1146\",\"type\":\"WheelZoomTool\"},{\"attributes\":{\"source\":{\"id\":\"1157\"}},\"id\":\"1164\",\"type\":\"CDSView\"},{\"attributes\":{},\"id\":\"1144\",\"type\":\"SaveTool\"}],\"root_ids\":[\"1123\"]},\"title\":\"Bokeh Application\",\"version\":\"2.4.1\"}};\n",
       "    var render_items = [{\"docid\":\"82b760d4-2523-4a81-a38d-643a6b4969bd\",\"root_ids\":[\"1123\"],\"roots\":{\"1123\":\"9961f215-aaa4-4360-a01d-63f4586eb86d\"}}];\n",
       "    root.Bokeh.embed.embed_items_notebook(docs_json, render_items);\n",
       "  }\n",
       "  if (root.Bokeh !== undefined && root.Bokeh.Panel !== undefined) {\n",
       "    embed_document(root);\n",
       "  } else {\n",
       "    var attempts = 0;\n",
       "    var timer = setInterval(function(root) {\n",
       "      if (root.Bokeh !== undefined && root.Bokeh.Panel !== undefined) {\n",
       "        clearInterval(timer);\n",
       "        embed_document(root);\n",
       "      } else if (document.readyState == \"complete\") {\n",
       "        attempts++;\n",
       "        if (attempts > 200) {\n",
       "          clearInterval(timer);\n",
       "          console.log(\"Bokeh: ERROR: Unable to run BokehJS code because BokehJS library is missing\");\n",
       "        }\n",
       "      }\n",
       "    }, 25, root)\n",
       "  }\n",
       "})(window);</script>"
      ],
      "text/plain": [
       ":Bars   [index]   (output)"
      ]
     },
     "execution_count": 28,
     "metadata": {
      "application/vnd.holoviews_exec.v0+json": {
       "id": "1123"
      }
     },
     "output_type": "execute_result"
    }
   ],
   "source": [
    "# Graph the number of patients who have had a heart attack versus those who have not.\n",
    "patients.output.value_counts().hvplot.bar(\n",
    "    title=\"Number of people who have suffered a heart attack (1) vs who have not (0)\", \n",
    "    xlabel='People who have suffered from a Heart Attack', \n",
    "    ylabel='Count', \n",
    "    width=640\n",
    ")"
   ]
  },
  {
   "cell_type": "code",
   "execution_count": 29,
   "id": "3c04d3ad",
   "metadata": {},
   "outputs": [
    {
     "data": {
      "text/markdown": [
       "#### The above graph depicts that 164 patients out of 302 have suffered from a heart attack, while the remaining 138 have not."
      ],
      "text/plain": [
       "<IPython.core.display.Markdown object>"
      ]
     },
     "execution_count": 29,
     "metadata": {},
     "output_type": "execute_result"
    }
   ],
   "source": [
    "md(f\"#### The above graph depicts that {patients.output.value_counts()[1]} patients out of {patients.shape[0]} have suffered from a heart attack, while the remaining {patients.output.value_counts()[0]} have not.\")"
   ]
  },
  {
   "cell_type": "markdown",
   "id": "8cc09a64",
   "metadata": {},
   "source": [
    "### Plot the graphs depicting the number of people who have and have not had a heart attack versus the category variables."
   ]
  },
  {
   "cell_type": "code",
   "execution_count": 30,
   "id": "679fc0f4",
   "metadata": {},
   "outputs": [
    {
     "data": {
      "image/png": "[encoded data removed]",
      "text/plain": [
       "<Figure size 432x288 with 1 Axes>"
      ]
     },
     "metadata": {
      "needs_background": "light"
     },
     "output_type": "display_data"
    }
   ],
   "source": [
    "# graph of cardiac attacks versus sex graph\n",
    "sex_output_ct=pd.crosstab(patients.sex,patients.output) \n",
    "sex_output_plot = sex_output_ct.plot(kind='bar', stacked=True)\n",
    "sex_output_plot.legend(title='output', bbox_to_anchor=(1, 1), loc='upper left')\n",
    "for var in sex_output_plot.containers:\n",
    "    sex_output_plot.bar_label(var, label_type='center')\n",
    "plt.title('Heart Attacks against Sex ') \n",
    "plt.show()"
   ]
  },
  {
   "cell_type": "code",
   "execution_count": 31,
   "id": "eb67b518",
   "metadata": {},
   "outputs": [
    {
     "data": {
      "text/markdown": [
       "#### The above graph shows that : <br><br> Out of 96 female patients, 72 have had a heart attack which is around 75% of all females <br><br> Out of 206 male patients, 92 have had a heart attack which is around 45% of all males"
      ],
      "text/plain": [
       "<IPython.core.display.Markdown object>"
      ]
     },
     "execution_count": 31,
     "metadata": {},
     "output_type": "execute_result"
    }
   ],
   "source": [
    "females_affected = 72\n",
    "males_affected = 92\n",
    "females_affected_percentage = round((females_affected/patients.sex.value_counts()[0])*100)\n",
    "males_affected_percentage = round((males_affected/patients.sex.value_counts()[1])*100)\n",
    "md(f\"#### The above graph shows that : <br><br> Out of {patients.sex.value_counts()[0]} female patients, {females_affected} have had a heart attack which is around {females_affected_percentage}% of all females <br><br> Out of {patients.sex.value_counts()[1]} male patients, {males_affected} have had a heart attack which is around {males_affected_percentage}% of all males\")"
   ]
  },
  {
   "cell_type": "code",
   "execution_count": 32,
   "id": "6c471d5f",
   "metadata": {},
   "outputs": [
    {
     "data": {
      "image/png": "[encoded data removed]",
      "text/plain": [
       "<Figure size 432x288 with 1 Axes>"
      ]
     },
     "metadata": {
      "needs_background": "light"
     },
     "output_type": "display_data"
    }
   ],
   "source": [
    "# graph of Heart attacks plotted against the sort of chest pain\n",
    "cp_output_ct=pd.crosstab(patients.cp,patients.output) \n",
    "cp_output_plot = cp_output_ct.plot(kind='bar', stacked=True)\n",
    "cp_output_plot.legend(title='output', bbox_to_anchor=(1, 1), loc='upper left')\n",
    "for var in cp_output_plot.containers:\n",
    "    cp_output_plot.bar_label(var, label_type='center')\n",
    "plt.title('Heart Attacks against Type of chest pain') \n",
    "plt.show()"
   ]
  },
  {
   "cell_type": "code",
   "execution_count": 33,
   "id": "a0ad5628",
   "metadata": {},
   "outputs": [
    {
     "data": {
      "text/markdown": [
       "#### The above graph shows that : <br><br> Out of 143 patients that suffered from a Typical Angina (0), 39 have had a heart attack which is around 27% of all the patients that suffered a Typical Angina (0)  <br><br> Out of 50 patients that suffered from a Atypical Angina (1), 41 have had a heart attack which is around 82% of all the patients that suffered a Atypical Angina (1) <br><br> Out of 86 patients that suffered from a Non-Anginal Pain (2), 68 have had a heart attack which is around 79% of all the patients that suffered a Non-Anginal Pain (2) <br><br> Out of 23 patients that suffered from a Asymptomatic (3), 16 have had a heart attack which is around 70% of all the patients that suffered a Asymptomatic (3) <br><br>"
      ],
      "text/plain": [
       "<IPython.core.display.Markdown object>"
      ]
     },
     "execution_count": 33,
     "metadata": {},
     "output_type": "execute_result"
    }
   ],
   "source": [
    "affected_0 = 39\n",
    "affected_1 = 41\n",
    "affected_2 = 68\n",
    "affected_3 = 16\n",
    "affected_0_percentage = round((affected_0/patients.cp.value_counts()[0])*100)\n",
    "affected_1_percentage = round((affected_1/patients.cp.value_counts()[1])*100)\n",
    "affected_2_percentage = round((affected_2/patients.cp.value_counts()[2])*100)\n",
    "affected_3_percentage = round((affected_3/patients.cp.value_counts()[3])*100)\n",
    "md(f\"#### The above graph shows that : <br><br> Out of {patients.cp.value_counts()[0]} patients that suffered from a Typical Angina (0), {affected_0} have had a heart attack which is around {affected_0_percentage}% of all the patients that suffered a Typical Angina (0)  <br><br> Out of {patients.cp.value_counts()[1]} patients that suffered from a Atypical Angina (1), {affected_1} have had a heart attack which is around {affected_1_percentage}% of all the patients that suffered a Atypical Angina (1) <br><br> Out of {patients.cp.value_counts()[2]} patients that suffered from a Non-Anginal Pain (2), {affected_2} have had a heart attack which is around {affected_2_percentage}% of all the patients that suffered a Non-Anginal Pain (2) <br><br> Out of {patients.cp.value_counts()[3]} patients that suffered from a Asymptomatic (3), {affected_3} have had a heart attack which is around {affected_3_percentage}% of all the patients that suffered a Asymptomatic (3) <br><br>\")"
   ]
  },
  {
   "cell_type": "code",
   "execution_count": 34,
   "id": "f012e5e1",
   "metadata": {},
   "outputs": [
    {
     "data": {
      "image/png": "[encoded data removed]",
      "text/plain": [
       "<Figure size 432x288 with 1 Axes>"
      ]
     },
     "metadata": {
      "needs_background": "light"
     },
     "output_type": "display_data"
    }
   ],
   "source": [
    "# graph of Heart attacks plotted against fasting blood sugar\n",
    "fbs_output_ct=pd.crosstab(patients.fbs,patients.output) \n",
    "fbs_output_plot = fbs_output_ct.plot(kind='bar', stacked=True)\n",
    "fbs_output_plot.legend(title='output', bbox_to_anchor=(1, 1), loc='upper left')\n",
    "for var in fbs_output_plot.containers:\n",
    "    fbs_output_plot.bar_label(var, label_type='center')\n",
    "plt.title('Heart Attacks against Fasting blood sugar') \n",
    "plt.show()"
   ]
  },
  {
   "cell_type": "code",
   "execution_count": 35,
   "id": "03e383d0",
   "metadata": {},
   "outputs": [
    {
     "data": {
      "text/markdown": [
       "#### The above graph shows that : <br><br>  Out of 257 patients that had fasting blood sugar levels <= 120 mg/dl, 141 have had a heart attack which is around 55% of all the patients that has fasting blood sugar levels <= 120 mg/dl <br><br>  Out of 45 patients that had fasting blood sugar levels > 120 mg/dl, 23 have had a heart attack which is around 51% of all the patients that has fasting blood sugar levels > 120 mg/dl <br><br>"
      ],
      "text/plain": [
       "<IPython.core.display.Markdown object>"
      ]
     },
     "execution_count": 35,
     "metadata": {},
     "output_type": "execute_result"
    }
   ],
   "source": [
    "affected_0_fbs = 141\n",
    "affected_1_fbs = 23\n",
    "affected_0_fbs_percentage = round((affected_0_fbs/patients.fbs.value_counts()[0])*100)\n",
    "affected_1_fbs_percentage = round((affected_1_fbs/patients.fbs.value_counts()[1])*100)\n",
    "md(f\"#### The above graph shows that : <br><br>  Out of {patients.fbs.value_counts()[0]} patients that had fasting blood sugar levels <= 120 mg/dl, {affected_0_fbs} have had a heart attack which is around {affected_0_fbs_percentage}% of all the patients that has fasting blood sugar levels <= 120 mg/dl <br><br>  Out of {patients.fbs.value_counts()[1]} patients that had fasting blood sugar levels > 120 mg/dl, {affected_1_fbs} have had a heart attack which is around {affected_1_fbs_percentage}% of all the patients that has fasting blood sugar levels > 120 mg/dl <br><br>\")"
   ]
  },
  {
   "cell_type": "code",
   "execution_count": 36,
   "id": "b09e8675",
   "metadata": {},
   "outputs": [
    {
     "data": {
      "image/png": "[encoded data removed]",
      "text/plain": [
       "<Figure size 720x720 with 1 Axes>"
      ]
     },
     "metadata": {
      "needs_background": "light"
     },
     "output_type": "display_data"
    }
   ],
   "source": [
    "# graph of cardiac attacks plotted against resting ECG results\n",
    "restecg_output_ct=pd.crosstab(patients.restecg,patients.output) \n",
    "restecg_output_plot = restecg_output_ct.plot(kind='bar', stacked=True, figsize=(10,10))\n",
    "restecg_output_plot.legend(title='output', bbox_to_anchor=(1, 1), loc='upper left')\n",
    "for var in restecg_output_plot.containers:\n",
    "    restecg_output_plot.bar_label(var, label_type='center')\n",
    "plt.title('Heart Attacks against Resting ECG results') \n",
    "plt.show()"
   ]
  },
  {
   "cell_type": "code",
   "execution_count": 37,
   "id": "75432865",
   "metadata": {},
   "outputs": [
    {
     "data": {
      "text/markdown": [
       "#### The above graph shows that : <br><br>  Out of 147 patients that showed Normal (0) results from the rested ECG, 68 have had a heart attack which is around 46% of all the patients that showed Normal (0) results from the rested ECG <br><br> Out of 151 patients that showed ST-T Wave abnormality (1) from the rested ECG results, 95 have had a heart attack which is around 63% of all the patients that showed ST-T Wave abnormality (1) from the rested ECG results <br><br> Out of 4 patients that has or showed signs of left ventricular hypertrophy (2) from the rested ECG results, 1 have had a heart attack which is around 25% of all the patients that has or showed signs of left ventricular hypertrophy (2) from the rested ECG results <br><br>"
      ],
      "text/plain": [
       "<IPython.core.display.Markdown object>"
      ]
     },
     "execution_count": 37,
     "metadata": {},
     "output_type": "execute_result"
    }
   ],
   "source": [
    "affected_0_restecg = 68\n",
    "affected_1_restecg = 95\n",
    "affected_2_restecg = 1\n",
    "affected_0_restecg_percentage = round((affected_0_restecg/patients.restecg.value_counts()[0])*100)\n",
    "affected_1_restecg_percentage = round((affected_1_restecg/patients.restecg.value_counts()[1])*100)\n",
    "affected_2_restecg_percentage = round((affected_2_restecg/patients.restecg.value_counts()[2])*100)\n",
    "md(f\"#### The above graph shows that : <br><br>  Out of {patients.restecg.value_counts()[0]} patients that showed Normal (0) results from the rested ECG, {affected_0_restecg} have had a heart attack which is around {affected_0_restecg_percentage}% of all the patients that showed Normal (0) results from the rested ECG <br><br> Out of {patients.restecg.value_counts()[1]} patients that showed ST-T Wave abnormality (1) from the rested ECG results, {affected_1_restecg} have had a heart attack which is around {affected_1_restecg_percentage}% of all the patients that showed ST-T Wave abnormality (1) from the rested ECG results <br><br> Out of {patients.restecg.value_counts()[2]} patients that has or showed signs of left ventricular hypertrophy (2) from the rested ECG results, {affected_2_restecg} have had a heart attack which is around {affected_2_restecg_percentage}% of all the patients that has or showed signs of left ventricular hypertrophy (2) from the rested ECG results <br><br>\")"
   ]
  },
  {
   "cell_type": "code",
   "execution_count": 38,
   "id": "7d823246",
   "metadata": {},
   "outputs": [
    {
     "data": {
      "image/png": "[encoded data removed]",
      "text/plain": [
       "<Figure size 432x288 with 1 Axes>"
      ]
     },
     "metadata": {
      "needs_background": "light"
     },
     "output_type": "display_data"
    }
   ],
   "source": [
    "# graph of Heart attacks plotted against exercise-induced angina\n",
    "exang_output_ct=pd.crosstab(patients.exang,patients.output) \n",
    "exang_output_plot = exang_output_ct.plot(kind='bar', stacked=True)\n",
    "exang_output_plot.legend(title='output', bbox_to_anchor=(1, 1), loc='upper left')\n",
    "for var in exang_output_plot.containers:\n",
    "    exang_output_plot.bar_label(var, label_type='center')\n",
    "plt.title('Heart Attacks against Exercise Induced Angina') \n",
    "plt.show()"
   ]
  },
  {
   "cell_type": "code",
   "execution_count": 39,
   "id": "577dbd53",
   "metadata": {},
   "outputs": [
    {
     "data": {
      "text/markdown": [
       "#### The above graph shows that : <br><br>   Out of 203 patients that did not show Angina induced through exercise, 141 have had a heart attack which is around 69% of all the patients that did not show Angina induced through exercise <br><br>  Out of 99 patients that showed Angina induced through exercise, 23 have had a heart attack which is around 23% of all the patients that showed Angina induced through exercise <br><br>"
      ],
      "text/plain": [
       "<IPython.core.display.Markdown object>"
      ]
     },
     "execution_count": 39,
     "metadata": {},
     "output_type": "execute_result"
    }
   ],
   "source": [
    "affected_0_exang = 141\n",
    "affected_1_exang = 23\n",
    "affected_0_exang_percentage = round((affected_0_exang/patients.exang.value_counts()[0])*100)\n",
    "affected_1_exang_percentage = round((affected_1_exang/patients.exang.value_counts()[1])*100)\n",
    "md(f\"#### The above graph shows that : <br><br>   Out of {patients.exang.value_counts()[0]} patients that did not show Angina induced through exercise, {affected_0_exang} have had a heart attack which is around {affected_0_exang_percentage}% of all the patients that did not show Angina induced through exercise <br><br>  Out of {patients.exang.value_counts()[1]} patients that showed Angina induced through exercise, {affected_1_exang} have had a heart attack which is around {affected_1_exang_percentage}% of all the patients that showed Angina induced through exercise <br><br>\")"
   ]
  },
  {
   "cell_type": "code",
   "execution_count": 40,
   "id": "8837d166",
   "metadata": {},
   "outputs": [
    {
     "data": {
      "image/png": "[encoded data removed]",
      "text/plain": [
       "<Figure size 432x288 with 1 Axes>"
      ]
     },
     "metadata": {
      "needs_background": "light"
     },
     "output_type": "display_data"
    }
   ],
   "source": [
    "# graph of heart attacks versus exercise-induced ST segment slope\n",
    "slp_output_ct=pd.crosstab(patients.slp,patients.output) \n",
    "slp_output_plot = slp_output_ct.plot(kind='bar', stacked=True)\n",
    "slp_output_plot.legend(title='output', bbox_to_anchor=(1, 1), loc='upper left')\n",
    "for var in slp_output_plot.containers:\n",
    "    slp_output_plot.bar_label(var, label_type='center')\n",
    "plt.title('Heart Attacks against Slope of exercise induced ST segment') \n",
    "plt.show()"
   ]
  },
  {
   "cell_type": "code",
   "execution_count": 41,
   "id": "1734d33a",
   "metadata": {},
   "outputs": [
    {
     "data": {
      "text/markdown": [
       "#### The above graph shows that : <br><br>  Out of 21 patients with Upsloping exercise induced ST segment, 9 have had a heart attack which is around 43% of all the patients with Upsloping exercise induced ST segment <br><br> Out of 140 patients with Flatloping exercise induced ST segment, 49 have had a heart attack which is around 35% of all the patients with Flatsloping exercise induced ST segment <br><br> Out of 141 patients with Downsloping exercise induced ST segment, 106 have had a heart attack which is around 75% of all the patients with Downsloping exercise induced ST segment <br><br>"
      ],
      "text/plain": [
       "<IPython.core.display.Markdown object>"
      ]
     },
     "execution_count": 41,
     "metadata": {},
     "output_type": "execute_result"
    }
   ],
   "source": [
    "affected_0_slp = 9\n",
    "affected_1_slp = 49\n",
    "affected_2_slp = 106\n",
    "affected_0_slp_percentage = round((affected_0_slp/patients.slp.value_counts()[0])*100)\n",
    "affected_1_slp_percentage = round((affected_1_slp/patients.slp.value_counts()[1])*100)\n",
    "affected_2_slp_percentage = round((affected_2_slp/patients.slp.value_counts()[2])*100)\n",
    "md(f\"#### The above graph shows that : <br><br>  Out of {patients.slp.value_counts()[0]} patients with Upsloping exercise induced ST segment, {affected_0_slp} have had a heart attack which is around {affected_0_slp_percentage}% of all the patients with Upsloping exercise induced ST segment <br><br> Out of {patients.slp.value_counts()[1]} patients with Flatloping exercise induced ST segment, {affected_1_slp} have had a heart attack which is around {affected_1_slp_percentage}% of all the patients with Flatsloping exercise induced ST segment <br><br> Out of {patients.slp.value_counts()[2]} patients with Downsloping exercise induced ST segment, {affected_2_slp} have had a heart attack which is around {affected_2_slp_percentage}% of all the patients with Downsloping exercise induced ST segment <br><br>\")"
   ]
  },
  {
   "cell_type": "code",
   "execution_count": 42,
   "id": "49d9dd0d",
   "metadata": {},
   "outputs": [
    {
     "data": {
      "image/png": "[encoded data removed]",
      "text/plain": [
       "<Figure size 936x1080 with 1 Axes>"
      ]
     },
     "metadata": {
      "needs_background": "light"
     },
     "output_type": "display_data"
    }
   ],
   "source": [
    "# graph of heart attacks as a function of the number of main vessels\n",
    "caa_output_ct=pd.crosstab(patients.caa,patients.output) \n",
    "caa_output_plot = caa_output_ct.plot(kind='bar', stacked=True, figsize=(13,15))\n",
    "caa_output_plot.legend(title='output', bbox_to_anchor=(1, 1), loc='upper left')\n",
    "for var in caa_output_plot.containers:\n",
    "    caa_output_plot.bar_label(var, label_type='center')\n",
    "plt.title('Heart Attacks against Number of major vessels') \n",
    "plt.show()"
   ]
  },
  {
   "cell_type": "code",
   "execution_count": 43,
   "id": "d313f852",
   "metadata": {},
   "outputs": [
    {
     "data": {
      "text/markdown": [
       "#### The above graph shows that : <br><br>  Out of 175 patients with 0 Major Vessels, 130 have had a heart attack which is around 74% of all the patients with 0 Major Vessels <br><br>  Out of 65 patients with 1 Major Vessels, 21 have had a heart attack which is around 32% of all the patients with 1 Major Vessels <br><br> Out of 38 patients with 2 Major Vessels, 7 have had a heart attack which is around 18% of all the patients with 2 Major Vessels <br><br>  Out of 20 patients with 3 Major Vessels, 3 have had a heart attack which is around 15% of all the patients with 3 Major Vessels <br><br> Out of 4 patients with 4 Major Vessels, 3 have had a heart attack which is around 75% of all the patients with 4 Major Vessels <br><br>"
      ],
      "text/plain": [
       "<IPython.core.display.Markdown object>"
      ]
     },
     "execution_count": 43,
     "metadata": {},
     "output_type": "execute_result"
    }
   ],
   "source": [
    "affected_0_caa = 130\n",
    "affected_1_caa = 21\n",
    "affected_2_caa = 7\n",
    "affected_3_caa = 3\n",
    "affected_4_caa = 3\n",
    "affected_0_caa_percentage = round((affected_0_caa/patients.caa.value_counts()[0])*100)\n",
    "affected_1_caa_percentage = round((affected_1_caa/patients.caa.value_counts()[1])*100)\n",
    "affected_2_caa_percentage = round((affected_2_caa/patients.caa.value_counts()[2])*100)\n",
    "affected_3_caa_percentage = round((affected_3_caa/patients.caa.value_counts()[3])*100)\n",
    "affected_4_caa_percentage = round((affected_4_caa/patients.caa.value_counts()[4])*100)\n",
    "md(f\"#### The above graph shows that : <br><br>  Out of {patients.caa.value_counts()[0]} patients with 0 Major Vessels, {affected_0_caa} have had a heart attack which is around {affected_0_caa_percentage}% of all the patients with 0 Major Vessels <br><br>  Out of {patients.caa.value_counts()[1]} patients with 1 Major Vessels, {affected_1_caa} have had a heart attack which is around {affected_1_caa_percentage}% of all the patients with 1 Major Vessels <br><br> Out of {patients.caa.value_counts()[2]} patients with 2 Major Vessels, {affected_2_caa} have had a heart attack which is around {affected_2_caa_percentage}% of all the patients with 2 Major Vessels <br><br>  Out of {patients.caa.value_counts()[3]} patients with 3 Major Vessels, {affected_3_caa} have had a heart attack which is around {affected_3_caa_percentage}% of all the patients with 3 Major Vessels <br><br> Out of {patients.caa.value_counts()[4]} patients with 4 Major Vessels, {affected_4_caa} have had a heart attack which is around {affected_4_caa_percentage}% of all the patients with 4 Major Vessels <br><br>\")"
   ]
  },
  {
   "cell_type": "code",
   "execution_count": 44,
   "id": "f6a5e825",
   "metadata": {},
   "outputs": [
    {
     "data": {
      "image/png": "[encoded data removed]",
      "text/plain": [
       "<Figure size 936x1080 with 1 Axes>"
      ]
     },
     "metadata": {
      "needs_background": "light"
     },
     "output_type": "display_data"
    }
   ],
   "source": [
    "# graph of heart attacks versus thallium stress result graph\n",
    "thal_output_ct=pd.crosstab(patients.thal,patients.output) \n",
    "thal_output_plot = thal_output_ct.plot(kind='bar', stacked=True, figsize=(13,15))\n",
    "thal_output_plot.legend(title='output', bbox_to_anchor=(1, 1), loc='upper left')\n",
    "for var in thal_output_plot.containers:\n",
    "    thal_output_plot.bar_label(var, label_type='center')\n",
    "plt.title('Heart Attacks against Thallium stress result') \n",
    "plt.show()"
   ]
  },
  {
   "cell_type": "code",
   "execution_count": 45,
   "id": "2e7282fc",
   "metadata": {},
   "outputs": [
    {
     "data": {
      "text/markdown": [
       "#### The above graph shows that : <br><br>  Out of 2 patients with 0 as the result of the thallium stress test, 1 have had a heart attack which is around 50% of all the patients with 0 as the result of the thallium stress test <br><br>  Out of 18 patients with 1 as the result of the thallium stress test, 6 have had a heart attack which is around 33% of all the patients with 1 as the result of the thallium stress test <br><br>  Out of 165 patients with 2 as the result of the thallium stress test, 129 have had a heart attack which is around 78% of all the patients with 2 as the result of the thallium stress test <br><br>  Out of 117 patients with 3 as the result of the thallium stress test, 28 have had a heart attack which is around 24% of all the patients with 3 as the result of the thallium stress test <br><br>"
      ],
      "text/plain": [
       "<IPython.core.display.Markdown object>"
      ]
     },
     "execution_count": 45,
     "metadata": {},
     "output_type": "execute_result"
    }
   ],
   "source": [
    "affected_0_thal = 1\n",
    "affected_1_thal = 6\n",
    "affected_2_thal = 129\n",
    "affected_3_thal = 28\n",
    "affected_0_thal_percentage = round((affected_0_thal/patients.thal.value_counts()[0])*100)\n",
    "affected_1_thal_percentage = round((affected_1_thal/patients.thal.value_counts()[1])*100)\n",
    "affected_2_thal_percentage = round((affected_2_thal/patients.thal.value_counts()[2])*100)\n",
    "affected_3_thal_percentage = round((affected_3_thal/patients.thal.value_counts()[3])*100)\n",
    "md(f\"#### The above graph shows that : <br><br>  Out of {patients.thal.value_counts()[0]} patients with 0 as the result of the thallium stress test, {affected_0_thal} have had a heart attack which is around {affected_0_thal_percentage}% of all the patients with 0 as the result of the thallium stress test <br><br>  Out of {patients.thal.value_counts()[1]} patients with 1 as the result of the thallium stress test, {affected_1_thal} have had a heart attack which is around {affected_1_thal_percentage}% of all the patients with 1 as the result of the thallium stress test <br><br>  Out of {patients.thal.value_counts()[2]} patients with 2 as the result of the thallium stress test, {affected_2_thal} have had a heart attack which is around {affected_2_thal_percentage}% of all the patients with 2 as the result of the thallium stress test <br><br>  Out of {patients.thal.value_counts()[3]} patients with 3 as the result of the thallium stress test, {affected_3_thal} have had a heart attack which is around {affected_3_thal_percentage}% of all the patients with 3 as the result of the thallium stress test <br><br>\")"
   ]
  },
  {
   "cell_type": "markdown",
   "id": "1ef2eb7e",
   "metadata": {},
   "source": [
    "### Correlation Matrix\n",
    "\n",
    "#### Plot the Correlation matrix for the Continuous variables"
   ]
  },
  {
   "cell_type": "code",
   "execution_count": 46,
   "id": "82cd902e",
   "metadata": {},
   "outputs": [
    {
     "data": {
      "text/plain": [
       "(5.0, 0.0)"
      ]
     },
     "execution_count": 46,
     "metadata": {},
     "output_type": "execute_result"
    },
    {
     "data": {
      "image/png": "[encoded data removed]",
      "text/plain": [
       "<Figure size 936x936 with 2 Axes>"
      ]
     },
     "metadata": {
      "needs_background": "light"
     },
     "output_type": "display_data"
    }
   ],
   "source": [
    "# plotting the correlation matrix considering the above-mentioned continuous variables\n",
    "corr_matrix = patients[continuous_val].corr()\n",
    "fig, ax = plt.subplots(figsize=(13, 13))\n",
    "ax = sns.heatmap(corr_matrix,\n",
    "                 annot=True,\n",
    "                 linewidths=0.5,\n",
    "                 fmt=\".2f\",\n",
    "                 cmap=\"YlGnBu\"\n",
    "                );\n",
    "bottom, top = ax.get_ylim()\n",
    "ax.set_ylim(bottom, top)"
   ]
  },
  {
   "cell_type": "code",
   "execution_count": 47,
   "id": "e0268b86",
   "metadata": {},
   "outputs": [
    {
     "data": {},
     "metadata": {},
     "output_type": "display_data"
    },
    {
     "data": {
      "application/vnd.holoviews_exec.v0+json": "",
      "text/html": [
       "<div id='1244'>\n",
       "\n",
       "\n",
       "\n",
       "\n",
       "\n",
       "  <div class=\"bk-root\" id=\"4080a7c5-c7f2-48c1-9c56-6ccbf896e207\" data-root-id=\"1244\"></div>\n",
       "</div>\n",
       "<script type=\"application/javascript\">(function(root) {\n",
       "  function embed_document(root) {\n",
       "    var docs_json = {\"30c53a29-e52a-4ba8-98fa-44109aedd037\":{\"defs\":[{\"extends\":null,\"module\":null,\"name\":\"ReactiveHTML1\",\"overrides\":[],\"properties\":[]},{\"extends\":null,\"module\":null,\"name\":\"FlexBox1\",\"overrides\":[],\"properties\":[{\"default\":\"flex-start\",\"kind\":null,\"name\":\"align_content\"},{\"default\":\"flex-start\",\"kind\":null,\"name\":\"align_items\"},{\"default\":\"row\",\"kind\":null,\"name\":\"flex_direction\"},{\"default\":\"wrap\",\"kind\":null,\"name\":\"flex_wrap\"},{\"default\":\"flex-start\",\"kind\":null,\"name\":\"justify_content\"}]},{\"extends\":null,\"module\":null,\"name\":\"GridStack1\",\"overrides\":[],\"properties\":[{\"default\":\"warn\",\"kind\":null,\"name\":\"mode\"},{\"default\":null,\"kind\":null,\"name\":\"ncols\"},{\"default\":null,\"kind\":null,\"name\":\"nrows\"},{\"default\":true,\"kind\":null,\"name\":\"allow_resize\"},{\"default\":true,\"kind\":null,\"name\":\"allow_drag\"},{\"default\":[],\"kind\":null,\"name\":\"state\"}]},{\"extends\":null,\"module\":null,\"name\":\"click1\",\"overrides\":[],\"properties\":[{\"default\":\"\",\"kind\":null,\"name\":\"terminal_output\"},{\"default\":\"\",\"kind\":null,\"name\":\"debug_name\"},{\"default\":0,\"kind\":null,\"name\":\"clears\"}]},{\"extends\":null,\"module\":null,\"name\":\"TemplateActions1\",\"overrides\":[],\"properties\":[{\"default\":0,\"kind\":null,\"name\":\"open_modal\"},{\"default\":0,\"kind\":null,\"name\":\"close_modal\"}]},{\"extends\":null,\"module\":null,\"name\":\"MaterialTemplateActions1\",\"overrides\":[],\"properties\":[{\"default\":0,\"kind\":null,\"name\":\"open_modal\"},{\"default\":0,\"kind\":null,\"name\":\"close_modal\"}]}],\"roots\":{\"references\":[{\"attributes\":{},\"id\":\"1256\",\"type\":\"CategoricalScale\"},{\"attributes\":{},\"id\":\"1266\",\"type\":\"PanTool\"},{\"attributes\":{\"axis\":{\"id\":\"1258\"},\"coordinates\":null,\"grid_line_color\":null,\"group\":null,\"ticker\":null},\"id\":\"1261\",\"type\":\"Grid\"},{\"attributes\":{},\"id\":\"1267\",\"type\":\"WheelZoomTool\"},{\"attributes\":{\"axis_label\":\"Continuous Variables\",\"coordinates\":null,\"formatter\":{\"id\":\"1291\"},\"group\":null,\"major_label_policy\":{\"id\":\"1292\"},\"ticker\":{\"id\":\"1263\"}},\"id\":\"1262\",\"type\":\"CategoricalAxis\"},{\"attributes\":{\"axis\":{\"id\":\"1262\"},\"coordinates\":null,\"dimension\":1,\"grid_line_color\":null,\"group\":null,\"ticker\":null},\"id\":\"1264\",\"type\":\"Grid\"},{\"attributes\":{},\"id\":\"1300\",\"type\":\"UnionRenderers\"},{\"attributes\":{},\"id\":\"1263\",\"type\":\"CategoricalTicker\"},{\"attributes\":{\"fill_color\":{\"value\":\"#30a2da\"},\"hatch_color\":{\"value\":\"#30a2da\"},\"height\":{\"value\":0.8},\"right\":{\"field\":\"A_0\"},\"y\":{\"field\":\"index\"}},\"id\":\"1281\",\"type\":\"HBar\"},{\"attributes\":{\"end\":0.5048651313189302,\"reset_end\":0.5048651313189302,\"reset_start\":-0.5140559205417985,\"start\":-0.5140559205417985,\"tags\":[[[\"0\",\"0\",null]]]},\"id\":\"1246\",\"type\":\"Range1d\"},{\"attributes\":{},\"id\":\"1292\",\"type\":\"AllLabels\"},{\"attributes\":{\"coordinates\":null,\"group\":null,\"text\":\"Correlation between Heart Attacks and Continuous Variables\",\"text_color\":\"black\",\"text_font_size\":\"12pt\"},\"id\":\"1250\",\"type\":\"Title\"},{\"attributes\":{\"children\":[{\"id\":\"1245\"},{\"id\":\"1249\"},{\"id\":\"1313\"}],\"margin\":[0,0,0,0],\"name\":\"Row02135\",\"tags\":[\"embedded\"]},\"id\":\"1244\",\"type\":\"Row\"},{\"attributes\":{\"margin\":[5,5,5,5],\"name\":\"HSpacer02140\",\"sizing_mode\":\"stretch_width\"},\"id\":\"1313\",\"type\":\"Spacer\"},{\"attributes\":{},\"id\":\"1265\",\"type\":\"SaveTool\"},{\"attributes\":{},\"id\":\"1254\",\"type\":\"LinearScale\"},{\"attributes\":{\"overlay\":{\"id\":\"1270\"}},\"id\":\"1268\",\"type\":\"BoxZoomTool\"},{\"attributes\":{},\"id\":\"1269\",\"type\":\"ResetTool\"},{\"attributes\":{\"factors\":[\"age\",\"trestbps\",\"chol\",\"thalach\",\"oldpeak\"],\"tags\":[[[\"index\",\"index\",null]]]},\"id\":\"1247\",\"type\":\"FactorRange\"},{\"attributes\":{\"bottom_units\":\"screen\",\"coordinates\":null,\"fill_alpha\":0.5,\"fill_color\":\"lightgrey\",\"group\":null,\"left_units\":\"screen\",\"level\":\"overlay\",\"line_alpha\":1.0,\"line_color\":\"black\",\"line_dash\":[4,4],\"line_width\":2,\"right_units\":\"screen\",\"syncable\":false,\"top_units\":\"screen\"},\"id\":\"1270\",\"type\":\"BoxAnnotation\"},{\"attributes\":{\"fill_alpha\":{\"value\":1.0},\"fill_color\":{\"value\":\"#30a2da\"},\"hatch_alpha\":{\"value\":1.0},\"hatch_color\":{\"value\":\"#30a2da\"},\"hatch_scale\":{\"value\":12.0},\"hatch_weight\":{\"value\":1.0},\"height\":{\"value\":0.8},\"left\":{\"value\":0},\"line_alpha\":{\"value\":1.0},\"line_cap\":{\"value\":\"butt\"},\"line_color\":{\"value\":\"black\"},\"line_dash\":{\"value\":[]},\"line_dash_offset\":{\"value\":0},\"line_join\":{\"value\":\"bevel\"},\"line_width\":{\"value\":1},\"right\":{\"field\":\"A_0\"},\"y\":{\"field\":\"index\"}},\"id\":\"1286\",\"type\":\"HBar\"},{\"attributes\":{\"coordinates\":null,\"data_source\":{\"id\":\"1278\"},\"glyph\":{\"id\":\"1281\"},\"group\":null,\"hover_glyph\":null,\"muted_glyph\":{\"id\":\"1283\"},\"nonselection_glyph\":{\"id\":\"1282\"},\"selection_glyph\":{\"id\":\"1286\"},\"view\":{\"id\":\"1285\"}},\"id\":\"1284\",\"type\":\"GlyphRenderer\"},{\"attributes\":{\"source\":{\"id\":\"1278\"}},\"id\":\"1285\",\"type\":\"CDSView\"},{\"attributes\":{},\"id\":\"1279\",\"type\":\"Selection\"},{\"attributes\":{\"data\":{\"A_0\":{\"__ndarray__\":\"IFOO5lFZzL8ghtB77rjCv0mN54AR2bS/jOaUHovg2j9lpV0VIHfbvw==\",\"dtype\":\"float64\",\"order\":\"little\",\"shape\":[5]},\"index\":[\"age\",\"trestbps\",\"chol\",\"thalach\",\"oldpeak\"]},\"selected\":{\"id\":\"1279\"},\"selection_policy\":{\"id\":\"1300\"}},\"id\":\"1278\",\"type\":\"ColumnDataSource\"},{\"attributes\":{\"callback\":null,\"renderers\":[{\"id\":\"1284\"}],\"tags\":[\"hv_created\"],\"tooltips\":[[\"index\",\"@{index}\"],[\"0\",\"@{A_0}\"]]},\"id\":\"1248\",\"type\":\"HoverTool\"},{\"attributes\":{\"margin\":[5,5,5,5],\"name\":\"HSpacer02139\",\"sizing_mode\":\"stretch_width\"},\"id\":\"1245\",\"type\":\"Spacer\"},{\"attributes\":{\"below\":[{\"id\":\"1258\"}],\"center\":[{\"id\":\"1261\"},{\"id\":\"1264\"}],\"height\":300,\"left\":[{\"id\":\"1262\"}],\"margin\":[5,5,5,5],\"min_border_bottom\":10,\"min_border_left\":10,\"min_border_right\":10,\"min_border_top\":10,\"renderers\":[{\"id\":\"1284\"}],\"sizing_mode\":\"fixed\",\"title\":{\"id\":\"1250\"},\"toolbar\":{\"id\":\"1271\"},\"x_range\":{\"id\":\"1246\"},\"x_scale\":{\"id\":\"1254\"},\"y_range\":{\"id\":\"1247\"},\"y_scale\":{\"id\":\"1256\"}},\"id\":\"1249\",\"subtype\":\"Figure\",\"type\":\"Plot\"},{\"attributes\":{},\"id\":\"1259\",\"type\":\"BasicTicker\"},{\"attributes\":{},\"id\":\"1291\",\"type\":\"CategoricalTickFormatter\"},{\"attributes\":{},\"id\":\"1288\",\"type\":\"BasicTickFormatter\"},{\"attributes\":{\"tools\":[{\"id\":\"1248\"},{\"id\":\"1265\"},{\"id\":\"1266\"},{\"id\":\"1267\"},{\"id\":\"1268\"},{\"id\":\"1269\"}]},\"id\":\"1271\",\"type\":\"Toolbar\"},{\"attributes\":{\"fill_alpha\":{\"value\":0.1},\"fill_color\":{\"value\":\"#30a2da\"},\"hatch_alpha\":{\"value\":0.1},\"hatch_color\":{\"value\":\"#30a2da\"},\"height\":{\"value\":0.8},\"line_alpha\":{\"value\":0.1},\"right\":{\"field\":\"A_0\"},\"y\":{\"field\":\"index\"}},\"id\":\"1282\",\"type\":\"HBar\"},{\"attributes\":{},\"id\":\"1289\",\"type\":\"AllLabels\"},{\"attributes\":{\"axis_label\":\"Correlation\",\"coordinates\":null,\"formatter\":{\"id\":\"1288\"},\"group\":null,\"major_label_policy\":{\"id\":\"1289\"},\"ticker\":{\"id\":\"1259\"}},\"id\":\"1258\",\"type\":\"LinearAxis\"},{\"attributes\":{\"fill_alpha\":{\"value\":0.2},\"fill_color\":{\"value\":\"#30a2da\"},\"hatch_alpha\":{\"value\":0.2},\"hatch_color\":{\"value\":\"#30a2da\"},\"height\":{\"value\":0.8},\"line_alpha\":{\"value\":0.2},\"right\":{\"field\":\"A_0\"},\"y\":{\"field\":\"index\"}},\"id\":\"1283\",\"type\":\"HBar\"}],\"root_ids\":[\"1244\"]},\"title\":\"Bokeh Application\",\"version\":\"2.4.1\"}};\n",
       "    var render_items = [{\"docid\":\"30c53a29-e52a-4ba8-98fa-44109aedd037\",\"root_ids\":[\"1244\"],\"roots\":{\"1244\":\"4080a7c5-c7f2-48c1-9c56-6ccbf896e207\"}}];\n",
       "    root.Bokeh.embed.embed_items_notebook(docs_json, render_items);\n",
       "  }\n",
       "  if (root.Bokeh !== undefined && root.Bokeh.Panel !== undefined) {\n",
       "    embed_document(root);\n",
       "  } else {\n",
       "    var attempts = 0;\n",
       "    var timer = setInterval(function(root) {\n",
       "      if (root.Bokeh !== undefined && root.Bokeh.Panel !== undefined) {\n",
       "        clearInterval(timer);\n",
       "        embed_document(root);\n",
       "      } else if (document.readyState == \"complete\") {\n",
       "        attempts++;\n",
       "        if (attempts > 200) {\n",
       "          clearInterval(timer);\n",
       "          console.log(\"Bokeh: ERROR: Unable to run BokehJS code because BokehJS library is missing\");\n",
       "        }\n",
       "      }\n",
       "    }, 25, root)\n",
       "  }\n",
       "})(window);</script>"
      ],
      "text/plain": [
       ":Bars   [index]   (0)"
      ]
     },
     "execution_count": 47,
     "metadata": {
      "application/vnd.holoviews_exec.v0+json": {
       "id": "1244"
      }
     },
     "output_type": "execute_result"
    }
   ],
   "source": [
    "# Relationship between heart attacks and continuous variables graph\n",
    "patients[continuous_val].corrwith(patients.output).hvplot.barh(\n",
    "    width=600,\n",
    "    title=\"Correlation between Heart Attacks and Continuous Variables\", \n",
    "    ylabel='Correlation', \n",
    "    xlabel='Continuous Variables',\n",
    ")"
   ]
  },
  {
   "cell_type": "markdown",
   "id": "6c7aef21",
   "metadata": {},
   "source": [
    "### From the above Correlation matrix we can depict that:\n",
    "\n",
    "\n",
    "\n",
    "#### thalach (the maximal heart rate reached) has the largest positive link with the output, implying that the risk of a heart attack increases as the heart rate rises. \n",
    "\n",
    "\n",
    "\n",
    "#### oldpeak (exercise relative to rest) has the largest negative connection with output, implying that as oldpeak rises, the likelihood of a heart attack reduces. \n",
    "\n",
    "\n",
    "\n",
    "#### chol (cholesterol) has the lowest correlation value with the output, indicating that there is little link between cholesterol levels and the risk of heart attack."
   ]
  },
  {
   "cell_type": "markdown",
   "id": "6a1fd487",
   "metadata": {},
   "source": [
    "# Data Processing\n",
    "\n",
    "#### Convert the categorical variables using the `get_dummies` from `pandas` library into dummy values to create dummy columns because certain machine learning models are unable to handle categorical variables."
   ]
  },
  {
   "cell_type": "code",
   "execution_count": 48,
   "id": "270d0413",
   "metadata": {},
   "outputs": [
    {
     "data": {
      "text/html": [
       "<div>\n",
       "<style scoped>\n",
       "    .dataframe tbody tr th:only-of-type {\n",
       "        vertical-align: middle;\n",
       "    }\n",
       "\n",
       "    .dataframe tbody tr th {\n",
       "        vertical-align: top;\n",
       "    }\n",
       "\n",
       "    .dataframe thead th {\n",
       "        text-align: right;\n",
       "    }\n",
       "</style>\n",
       "<table border=\"1\" class=\"dataframe\">\n",
       "  <thead>\n",
       "    <tr style=\"text-align: right;\">\n",
       "      <th></th>\n",
       "      <th>age</th>\n",
       "      <th>trestbps</th>\n",
       "      <th>chol</th>\n",
       "      <th>thalach</th>\n",
       "      <th>oldpeak</th>\n",
       "      <th>output</th>\n",
       "      <th>sex_0</th>\n",
       "      <th>sex_1</th>\n",
       "      <th>cp_0</th>\n",
       "      <th>cp_1</th>\n",
       "      <th>...</th>\n",
       "      <th>slp_2</th>\n",
       "      <th>caa_0</th>\n",
       "      <th>caa_1</th>\n",
       "      <th>caa_2</th>\n",
       "      <th>caa_3</th>\n",
       "      <th>caa_4</th>\n",
       "      <th>thal_0</th>\n",
       "      <th>thal_1</th>\n",
       "      <th>thal_2</th>\n",
       "      <th>thal_3</th>\n",
       "    </tr>\n",
       "  </thead>\n",
       "  <tbody>\n",
       "    <tr>\n",
       "      <th>0</th>\n",
       "      <td>63</td>\n",
       "      <td>145</td>\n",
       "      <td>233</td>\n",
       "      <td>150</td>\n",
       "      <td>2.30</td>\n",
       "      <td>1</td>\n",
       "      <td>0</td>\n",
       "      <td>1</td>\n",
       "      <td>0</td>\n",
       "      <td>0</td>\n",
       "      <td>...</td>\n",
       "      <td>0</td>\n",
       "      <td>1</td>\n",
       "      <td>0</td>\n",
       "      <td>0</td>\n",
       "      <td>0</td>\n",
       "      <td>0</td>\n",
       "      <td>0</td>\n",
       "      <td>1</td>\n",
       "      <td>0</td>\n",
       "      <td>0</td>\n",
       "    </tr>\n",
       "    <tr>\n",
       "      <th>1</th>\n",
       "      <td>37</td>\n",
       "      <td>130</td>\n",
       "      <td>250</td>\n",
       "      <td>187</td>\n",
       "      <td>3.50</td>\n",
       "      <td>1</td>\n",
       "      <td>0</td>\n",
       "      <td>1</td>\n",
       "      <td>0</td>\n",
       "      <td>0</td>\n",
       "      <td>...</td>\n",
       "      <td>0</td>\n",
       "      <td>1</td>\n",
       "      <td>0</td>\n",
       "      <td>0</td>\n",
       "      <td>0</td>\n",
       "      <td>0</td>\n",
       "      <td>0</td>\n",
       "      <td>0</td>\n",
       "      <td>1</td>\n",
       "      <td>0</td>\n",
       "    </tr>\n",
       "    <tr>\n",
       "      <th>2</th>\n",
       "      <td>41</td>\n",
       "      <td>130</td>\n",
       "      <td>204</td>\n",
       "      <td>172</td>\n",
       "      <td>1.40</td>\n",
       "      <td>1</td>\n",
       "      <td>1</td>\n",
       "      <td>0</td>\n",
       "      <td>0</td>\n",
       "      <td>1</td>\n",
       "      <td>...</td>\n",
       "      <td>1</td>\n",
       "      <td>1</td>\n",
       "      <td>0</td>\n",
       "      <td>0</td>\n",
       "      <td>0</td>\n",
       "      <td>0</td>\n",
       "      <td>0</td>\n",
       "      <td>0</td>\n",
       "      <td>1</td>\n",
       "      <td>0</td>\n",
       "    </tr>\n",
       "    <tr>\n",
       "      <th>3</th>\n",
       "      <td>56</td>\n",
       "      <td>120</td>\n",
       "      <td>236</td>\n",
       "      <td>178</td>\n",
       "      <td>0.80</td>\n",
       "      <td>1</td>\n",
       "      <td>0</td>\n",
       "      <td>1</td>\n",
       "      <td>0</td>\n",
       "      <td>1</td>\n",
       "      <td>...</td>\n",
       "      <td>1</td>\n",
       "      <td>1</td>\n",
       "      <td>0</td>\n",
       "      <td>0</td>\n",
       "      <td>0</td>\n",
       "      <td>0</td>\n",
       "      <td>0</td>\n",
       "      <td>0</td>\n",
       "      <td>1</td>\n",
       "      <td>0</td>\n",
       "    </tr>\n",
       "    <tr>\n",
       "      <th>4</th>\n",
       "      <td>57</td>\n",
       "      <td>120</td>\n",
       "      <td>354</td>\n",
       "      <td>163</td>\n",
       "      <td>0.60</td>\n",
       "      <td>1</td>\n",
       "      <td>1</td>\n",
       "      <td>0</td>\n",
       "      <td>1</td>\n",
       "      <td>0</td>\n",
       "      <td>...</td>\n",
       "      <td>1</td>\n",
       "      <td>1</td>\n",
       "      <td>0</td>\n",
       "      <td>0</td>\n",
       "      <td>0</td>\n",
       "      <td>0</td>\n",
       "      <td>0</td>\n",
       "      <td>0</td>\n",
       "      <td>1</td>\n",
       "      <td>0</td>\n",
       "    </tr>\n",
       "  </tbody>\n",
       "</table>\n",
       "<p>5 rows × 31 columns</p>\n",
       "</div>"
      ],
      "text/plain": [
       "   age  trestbps  chol  thalach  oldpeak  output  sex_0  sex_1  cp_0  cp_1  \\\n",
       "0   63       145   233      150     2.30       1      0      1     0     0   \n",
       "1   37       130   250      187     3.50       1      0      1     0     0   \n",
       "2   41       130   204      172     1.40       1      1      0     0     1   \n",
       "3   56       120   236      178     0.80       1      0      1     0     1   \n",
       "4   57       120   354      163     0.60       1      1      0     1     0   \n",
       "\n",
       "   ...  slp_2  caa_0  caa_1  caa_2  caa_3  caa_4  thal_0  thal_1  thal_2  \\\n",
       "0  ...      0      1      0      0      0      0       0       1       0   \n",
       "1  ...      0      1      0      0      0      0       0       0       1   \n",
       "2  ...      1      1      0      0      0      0       0       0       1   \n",
       "3  ...      1      1      0      0      0      0       0       0       1   \n",
       "4  ...      1      1      0      0      0      0       0       0       1   \n",
       "\n",
       "   thal_3  \n",
       "0       0  \n",
       "1       0  \n",
       "2       0  \n",
       "3       0  \n",
       "4       0  \n",
       "\n",
       "[5 rows x 31 columns]"
      ]
     },
     "execution_count": 48,
     "metadata": {},
     "output_type": "execute_result"
    }
   ],
   "source": [
    "# conversion of categorical variables to dummy values\n",
    "categorical_val = [\"sex\", \"cp\", \"fbs\", \"restecg\", \"exang\", \"slp\", \"caa\", \"thal\"]\n",
    "updatedPatients = pd.get_dummies(patients, columns = categorical_val)\n",
    "updatedPatients.head()"
   ]
  },
  {
   "cell_type": "markdown",
   "id": "616589b2",
   "metadata": {},
   "source": [
    "#### Scale the continuous variables with `StandardScaler` from `sklearn.preprocessing` to make the models' learning and understanding of the problem more easier for the models."
   ]
  },
  {
   "cell_type": "code",
   "execution_count": 49,
   "id": "21c84e0d",
   "metadata": {},
   "outputs": [
    {
     "data": {
      "text/html": [
       "<div>\n",
       "<style scoped>\n",
       "    .dataframe tbody tr th:only-of-type {\n",
       "        vertical-align: middle;\n",
       "    }\n",
       "\n",
       "    .dataframe tbody tr th {\n",
       "        vertical-align: top;\n",
       "    }\n",
       "\n",
       "    .dataframe thead th {\n",
       "        text-align: right;\n",
       "    }\n",
       "</style>\n",
       "<table border=\"1\" class=\"dataframe\">\n",
       "  <thead>\n",
       "    <tr style=\"text-align: right;\">\n",
       "      <th></th>\n",
       "      <th>age</th>\n",
       "      <th>trestbps</th>\n",
       "      <th>chol</th>\n",
       "      <th>thalach</th>\n",
       "      <th>oldpeak</th>\n",
       "      <th>output</th>\n",
       "      <th>sex_0</th>\n",
       "      <th>sex_1</th>\n",
       "      <th>cp_0</th>\n",
       "      <th>cp_1</th>\n",
       "      <th>...</th>\n",
       "      <th>slp_2</th>\n",
       "      <th>caa_0</th>\n",
       "      <th>caa_1</th>\n",
       "      <th>caa_2</th>\n",
       "      <th>caa_3</th>\n",
       "      <th>caa_4</th>\n",
       "      <th>thal_0</th>\n",
       "      <th>thal_1</th>\n",
       "      <th>thal_2</th>\n",
       "      <th>thal_3</th>\n",
       "    </tr>\n",
       "  </thead>\n",
       "  <tbody>\n",
       "    <tr>\n",
       "      <th>0</th>\n",
       "      <td>0.95</td>\n",
       "      <td>0.76</td>\n",
       "      <td>-0.26</td>\n",
       "      <td>0.02</td>\n",
       "      <td>1.08</td>\n",
       "      <td>1</td>\n",
       "      <td>0</td>\n",
       "      <td>1</td>\n",
       "      <td>0</td>\n",
       "      <td>0</td>\n",
       "      <td>...</td>\n",
       "      <td>0</td>\n",
       "      <td>1</td>\n",
       "      <td>0</td>\n",
       "      <td>0</td>\n",
       "      <td>0</td>\n",
       "      <td>0</td>\n",
       "      <td>0</td>\n",
       "      <td>1</td>\n",
       "      <td>0</td>\n",
       "      <td>0</td>\n",
       "    </tr>\n",
       "    <tr>\n",
       "      <th>1</th>\n",
       "      <td>-1.93</td>\n",
       "      <td>-0.09</td>\n",
       "      <td>0.07</td>\n",
       "      <td>1.64</td>\n",
       "      <td>2.12</td>\n",
       "      <td>1</td>\n",
       "      <td>0</td>\n",
       "      <td>1</td>\n",
       "      <td>0</td>\n",
       "      <td>0</td>\n",
       "      <td>...</td>\n",
       "      <td>0</td>\n",
       "      <td>1</td>\n",
       "      <td>0</td>\n",
       "      <td>0</td>\n",
       "      <td>0</td>\n",
       "      <td>0</td>\n",
       "      <td>0</td>\n",
       "      <td>0</td>\n",
       "      <td>1</td>\n",
       "      <td>0</td>\n",
       "    </tr>\n",
       "    <tr>\n",
       "      <th>2</th>\n",
       "      <td>-1.49</td>\n",
       "      <td>-0.09</td>\n",
       "      <td>-0.82</td>\n",
       "      <td>0.98</td>\n",
       "      <td>0.31</td>\n",
       "      <td>1</td>\n",
       "      <td>1</td>\n",
       "      <td>0</td>\n",
       "      <td>0</td>\n",
       "      <td>1</td>\n",
       "      <td>...</td>\n",
       "      <td>1</td>\n",
       "      <td>1</td>\n",
       "      <td>0</td>\n",
       "      <td>0</td>\n",
       "      <td>0</td>\n",
       "      <td>0</td>\n",
       "      <td>0</td>\n",
       "      <td>0</td>\n",
       "      <td>1</td>\n",
       "      <td>0</td>\n",
       "    </tr>\n",
       "    <tr>\n",
       "      <th>3</th>\n",
       "      <td>0.17</td>\n",
       "      <td>-0.66</td>\n",
       "      <td>-0.20</td>\n",
       "      <td>1.24</td>\n",
       "      <td>-0.21</td>\n",
       "      <td>1</td>\n",
       "      <td>0</td>\n",
       "      <td>1</td>\n",
       "      <td>0</td>\n",
       "      <td>1</td>\n",
       "      <td>...</td>\n",
       "      <td>1</td>\n",
       "      <td>1</td>\n",
       "      <td>0</td>\n",
       "      <td>0</td>\n",
       "      <td>0</td>\n",
       "      <td>0</td>\n",
       "      <td>0</td>\n",
       "      <td>0</td>\n",
       "      <td>1</td>\n",
       "      <td>0</td>\n",
       "    </tr>\n",
       "    <tr>\n",
       "      <th>4</th>\n",
       "      <td>0.29</td>\n",
       "      <td>-0.66</td>\n",
       "      <td>2.08</td>\n",
       "      <td>0.59</td>\n",
       "      <td>-0.38</td>\n",
       "      <td>1</td>\n",
       "      <td>1</td>\n",
       "      <td>0</td>\n",
       "      <td>1</td>\n",
       "      <td>0</td>\n",
       "      <td>...</td>\n",
       "      <td>1</td>\n",
       "      <td>1</td>\n",
       "      <td>0</td>\n",
       "      <td>0</td>\n",
       "      <td>0</td>\n",
       "      <td>0</td>\n",
       "      <td>0</td>\n",
       "      <td>0</td>\n",
       "      <td>1</td>\n",
       "      <td>0</td>\n",
       "    </tr>\n",
       "  </tbody>\n",
       "</table>\n",
       "<p>5 rows × 31 columns</p>\n",
       "</div>"
      ],
      "text/plain": [
       "    age  trestbps  chol  thalach  oldpeak  output  sex_0  sex_1  cp_0  cp_1  \\\n",
       "0  0.95      0.76 -0.26     0.02     1.08       1      0      1     0     0   \n",
       "1 -1.93     -0.09  0.07     1.64     2.12       1      0      1     0     0   \n",
       "2 -1.49     -0.09 -0.82     0.98     0.31       1      1      0     0     1   \n",
       "3  0.17     -0.66 -0.20     1.24    -0.21       1      0      1     0     1   \n",
       "4  0.29     -0.66  2.08     0.59    -0.38       1      1      0     1     0   \n",
       "\n",
       "   ...  slp_2  caa_0  caa_1  caa_2  caa_3  caa_4  thal_0  thal_1  thal_2  \\\n",
       "0  ...      0      1      0      0      0      0       0       1       0   \n",
       "1  ...      0      1      0      0      0      0       0       0       1   \n",
       "2  ...      1      1      0      0      0      0       0       0       1   \n",
       "3  ...      1      1      0      0      0      0       0       0       1   \n",
       "4  ...      1      1      0      0      0      0       0       0       1   \n",
       "\n",
       "   thal_3  \n",
       "0       0  \n",
       "1       0  \n",
       "2       0  \n",
       "3       0  \n",
       "4       0  \n",
       "\n",
       "[5 rows x 31 columns]"
      ]
     },
     "execution_count": 49,
     "metadata": {},
     "output_type": "execute_result"
    }
   ],
   "source": [
    "# scaling the continous variables\n",
    "standardScaler = StandardScaler()\n",
    "updatedPatients[continuous_val] = standardScaler.fit_transform(updatedPatients[continuous_val])\n",
    "updatedPatients.head()"
   ]
  },
  {
   "cell_type": "markdown",
   "id": "80381e49",
   "metadata": {},
   "source": [
    "## Model Building\n",
    "\n",
    "\n",
    "#### Using the `train_test_split` method from `sklearn.model_selection`, split the dataset into training and validation sets."
   ]
  },
  {
   "cell_type": "code",
   "execution_count": 50,
   "id": "8e019ae2",
   "metadata": {},
   "outputs": [],
   "source": [
    "# divide the data into two sets: training and validation\n",
    "X = updatedPatients.drop('output', axis=1)\n",
    "y = updatedPatients.output\n",
    "\n",
    "X_train, X_test, y_train, y_test = train_test_split(X, y, test_size=0.2, random_state=42)"
   ]
  },
  {
   "cell_type": "markdown",
   "id": "6bc8a553",
   "metadata": {},
   "source": [
    "## Training the Model with Hyperparameter Tuning\n",
    "\n",
    "\n",
    "#### To check the accuracy, a machine learning method is utilized here."
   ]
  },
  {
   "cell_type": "markdown",
   "id": "9ffa3cec",
   "metadata": {},
   "source": [
    "### Decision Tree Classifier with Hyperparameter Tuning"
   ]
  },
  {
   "cell_type": "code",
   "execution_count": 51,
   "id": "7e8d1148",
   "metadata": {},
   "outputs": [
    {
     "name": "stdout",
     "output_type": "stream",
     "text": [
      "Fitting 3 folds for each of 300 candidates, totalling 900 fits\n",
      "{'criterion': 'gini', 'max_depth': 3, 'min_samples_leaf': 10, 'min_samples_split': 2, 'splitter': 'random'}\n",
      "DecisionTreeClassifier(max_depth=3, min_samples_leaf=10, random_state=42,\n",
      "                       splitter='random')\n",
      "              precision    recall  f1-score   support\n",
      "\n",
      "           0       0.90      0.90      0.90        29\n",
      "           1       0.91      0.91      0.91        32\n",
      "\n",
      "    accuracy                           0.90        61\n",
      "   macro avg       0.90      0.90      0.90        61\n",
      "weighted avg       0.90      0.90      0.90        61\n",
      "\n"
     ]
    }
   ],
   "source": [
    "# defining parameter range\n",
    "param_grid = {\"criterion\":(\"gini\", \"entropy\"), \n",
    "              \"splitter\":(\"best\", \"random\"),\n",
    "              'max_depth': [2, 3, 5, 10, 20],\n",
    "              \"min_samples_split\":[2, 3, 4],\n",
    "              'min_samples_leaf': [5, 10, 20, 50, 100]}\n",
    "\n",
    "grid = GridSearchCV(DecisionTreeClassifier(random_state=42), param_grid, scoring=\"accuracy\", n_jobs=-1, verbose=1, cv=3)\n",
    "\n",
    "# fitting the model for grid search\n",
    "grid.fit(X_train, y_train)\n",
    "\n",
    "# printing best parameter after tuning\n",
    "print(grid.best_params_)\n",
    " \n",
    "# printing how our model looks after hyper-parameter tuning\n",
    "print(grid.best_estimator_)\n",
    "\n",
    "grid_predictions = grid.predict(X_test)\n",
    " \n",
    "# printing the classification report\n",
    "print(classification_report(y_test, grid_predictions))"
   ]
  }
 ],
 "metadata": {
  "interpreter": {
   "hash": "21db23ee383f4e4f9f8b93f175a497838cd82a6ab75a0e554d3ffa5377266437"
  },
  "kernelspec": {
   "display_name": "Python 3.9.7 ('base')",
   "language": "python",
   "name": "python3"
  },
  "language_info": {
   "codemirror_mode": {
    "name": "ipython",
    "version": 3
   },
   "file_extension": ".py",
   "mimetype": "text/x-python",
   "name": "python",
   "nbconvert_exporter": "python",
   "pygments_lexer": "ipython3",
   "version": "3.9.7"
  }
 },
 "nbformat": 4,
 "nbformat_minor": 5
}
