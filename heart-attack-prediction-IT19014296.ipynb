{
 "cells": [
  {
   "cell_type": "code",
   "execution_count": 316,
   "metadata": {},
   "outputs": [
    {
     "data": {
      "text/html": [
       "<style>\n",
       "table {align:left; display:block}\n",
       "</style>\n"
      ],
      "text/plain": [
       "<IPython.core.display.HTML object>"
      ]
     },
     "metadata": {},
     "output_type": "display_data"
    }
   ],
   "source": [
    "%%html\n",
    "<style>\n",
    "table {align:left; display:block}\n",
    "</style>"
   ]
  },
  {
   "cell_type": "markdown",
   "metadata": {},
   "source": [
    "# Analysing and Predicting Heart Attacks using Clinical Parameters of Patients\n",
    "\n",
    "\n",
    "## Data Dictionary\n",
    "\n",
    "Below mentioned are several clinical parameters which would be required when moving forward. This section will clearly define what the particular variables stand for and what it explains where necessary.\n",
    "\n",
    "1. `age` - Age (in years)\n",
    "\n",
    "\n",
    "2. `sex` - Gender\n",
    "    * `0`: Female\n",
    "    * `1`: Male\n",
    "\n",
    "\n",
    "3. `cp` - Type of chest pain\n",
    "    * `0`: `Typical Angina`: It is a substernal chest pain which is provoked due to physical exertion or emotional stress, and relieved by nitroglycerine or rest (or both).\n",
    "    * `1`: `Atypical Angina`: It is a condition where a person experiences a chest pain which does not meet the criteria for Angina. Angina chest pain can be defined as a pressure or squeezing like sensation, that is typically caused when the coronary heart muscles does not receive the sufficient amount of oxygenated blood.\n",
    "    * `2`: `Non-Anginal Pain`: It is a type of chest pain which resembles a chest pain in people who does not have any heart disease. It is also known as \"Non-cardiac chest pain.\"\n",
    "    * `3`: `Asymptomatic`: It is the condition which has transient symptoms / few to no symptoms / symptoms that are unrecognisable as a heart attack. It is also known as \"Silent heart attack.\"\n",
    "\n",
    "\n",
    "\n",
    "4. `trestbps` - Resting / Normal blood pressure of a person (measured in mmHg)\n",
    "\n",
    "\n",
    "| BLOOD PRESSURE CATEGORY | SYSTOLIC mm Hg | DIASTOLIC mm Hg |\n",
    "| :- | :-: | :-: |\n",
    "| NORMAL | LESS THAN 120 | LESS THAN 80 |\n",
    "| ELEVATED | 120-129 | LESS THAN 80 |\n",
    "| HIGH BLOOD PRESSURE (HYPERTENSION) STAGE 1 | 130-139 | 80-89 |\n",
    "| HIGH BLOOD PRESSURE (HYPERTENSION) STAGE 2 | 140 OR HIGHER | 90 OR HIGHER |\n",
    "| HYPERTENSIVE CRISIS | HIGHER THAN 180 | HIGHER THAN 120 |\n",
    "\n",
    "\n",
    "5. `chol` - Cholesterol (measured in mg/dl)\n",
    "\n",
    "\n",
    "6. `fbs` - Fasting blood sugar > 120 mg/dl\n",
    "    * `0`: False\n",
    "    * `1`: True\n",
    "    \n",
    "    \n",
    "7. `restecg` - Resting electrocardiographic results\n",
    "    * 0: Normal\n",
    "    * 1: Has ST-T Wave abnormality\n",
    "    * 2: Has or shows signs of left ventricular hypertrophy\n",
    "\n",
    "\n",
    "8. `thalach` - The maximum heart rate achieved\n",
    "\n",
    "\n",
    "9. `exang` - Exercise induced Angina\n",
    "    * `0`: No\n",
    "    * `1`: Yes\n",
    "\n",
    "\n",
    "10. `oldpeak` - The previous peak\n",
    "\n",
    "\n",
    "11. `slp` - Slope of the exercise induced ST segment\n",
    "    * `0`: `Upsloping`: Heart rate becomes better with exercise\n",
    "    * `1`: `Flatsloping`: Healthy heart with barely any change\n",
    "    * `2`: `Downsloping`: Unhealthy heart\n",
    "\n",
    "\n",
    "12. `caa` - Number of major vessels (0-4)\n",
    "\n",
    "\n",
    "13. `thal` - Result of thallium stress test (0-3)\n",
    "\n",
    "\n",
    "14. `output` - Has had a heart attack or not\n",
    "    * `0`: No\n",
    "    * `1`: Yes"
   ]
  },
  {
   "cell_type": "markdown",
   "metadata": {},
   "source": [
    "# Import Libraries"
   ]
  },
  {
   "cell_type": "code",
   "execution_count": 317,
   "metadata": {},
   "outputs": [
    {
     "name": "stdout",
     "output_type": "stream",
     "text": [
      "Requirement already satisfied: xgboost in c:\\users\\nethmi\\anaconda3\\lib\\site-packages (1.6.1)\n",
      "Requirement already satisfied: scipy in c:\\users\\nethmi\\anaconda3\\lib\\site-packages (from xgboost) (1.7.1)\n",
      "Requirement already satisfied: numpy in c:\\users\\nethmi\\anaconda3\\lib\\site-packages (from xgboost) (1.20.3)\n",
      "Requirement already satisfied: hvplot in c:\\users\\nethmi\\anaconda3\\lib\\site-packages (0.8.0)\n",
      "Requirement already satisfied: colorcet>=2 in c:\\users\\nethmi\\anaconda3\\lib\\site-packages (from hvplot) (3.0.0)\n",
      "Requirement already satisfied: pandas in c:\\users\\nethmi\\anaconda3\\lib\\site-packages (from hvplot) (1.3.4)\n",
      "Requirement already satisfied: numpy>=1.15 in c:\\users\\nethmi\\anaconda3\\lib\\site-packages (from hvplot) (1.20.3)\n",
      "Requirement already satisfied: holoviews>=1.11.0 in c:\\users\\nethmi\\anaconda3\\lib\\site-packages (from hvplot) (1.14.9)\n",
      "Requirement already satisfied: bokeh>=1.0.0 in c:\\users\\nethmi\\anaconda3\\lib\\site-packages (from hvplot) (2.4.1)\n",
      "Requirement already satisfied: packaging in c:\\users\\nethmi\\anaconda3\\lib\\site-packages (from hvplot) (21.0)\n",
      "Requirement already satisfied: tornado>=5.1 in c:\\users\\nethmi\\anaconda3\\lib\\site-packages (from bokeh>=1.0.0->hvplot) (6.1)\n",
      "Requirement already satisfied: typing-extensions>=3.10.0 in c:\\users\\nethmi\\anaconda3\\lib\\site-packages (from bokeh>=1.0.0->hvplot) (3.10.0.2)\n",
      "Requirement already satisfied: Jinja2>=2.9 in c:\\users\\nethmi\\anaconda3\\lib\\site-packages (from bokeh>=1.0.0->hvplot) (2.11.3)\n",
      "Requirement already satisfied: PyYAML>=3.10 in c:\\users\\nethmi\\anaconda3\\lib\\site-packages (from bokeh>=1.0.0->hvplot) (6.0)\n",
      "Requirement already satisfied: pillow>=7.1.0 in c:\\users\\nethmi\\anaconda3\\lib\\site-packages (from bokeh>=1.0.0->hvplot) (8.4.0)\n",
      "Requirement already satisfied: pyct>=0.4.4 in c:\\users\\nethmi\\anaconda3\\lib\\site-packages (from colorcet>=2->hvplot) (0.4.8)\n",
      "Requirement already satisfied: param>=1.7.0 in c:\\users\\nethmi\\anaconda3\\lib\\site-packages (from colorcet>=2->hvplot) (1.12.1)\n",
      "Requirement already satisfied: pyviz-comms>=0.7.4 in c:\\users\\nethmi\\anaconda3\\lib\\site-packages (from holoviews>=1.11.0->hvplot) (2.2.0)\n",
      "Requirement already satisfied: panel>=0.8.0 in c:\\users\\nethmi\\anaconda3\\lib\\site-packages (from holoviews>=1.11.0->hvplot) (0.13.0)\n",
      "Requirement already satisfied: MarkupSafe>=0.23 in c:\\users\\nethmi\\anaconda3\\lib\\site-packages (from Jinja2>=2.9->bokeh>=1.0.0->hvplot) (1.1.1)\n",
      "Requirement already satisfied: pyparsing>=2.0.2 in c:\\users\\nethmi\\anaconda3\\lib\\site-packages (from packaging->hvplot) (3.0.4)\n",
      "Requirement already satisfied: pytz>=2017.3 in c:\\users\\nethmi\\anaconda3\\lib\\site-packages (from pandas->hvplot) (2021.3)\n",
      "Requirement already satisfied: python-dateutil>=2.7.3 in c:\\users\\nethmi\\anaconda3\\lib\\site-packages (from pandas->hvplot) (2.8.2)\n",
      "Requirement already satisfied: bleach in c:\\users\\nethmi\\anaconda3\\lib\\site-packages (from panel>=0.8.0->holoviews>=1.11.0->hvplot) (4.0.0)\n",
      "Requirement already satisfied: tqdm>=4.48.0 in c:\\users\\nethmi\\anaconda3\\lib\\site-packages (from panel>=0.8.0->holoviews>=1.11.0->hvplot) (4.62.3)\n",
      "Requirement already satisfied: requests in c:\\users\\nethmi\\anaconda3\\lib\\site-packages (from panel>=0.8.0->holoviews>=1.11.0->hvplot) (2.26.0)\n",
      "Requirement already satisfied: markdown in c:\\users\\nethmi\\anaconda3\\lib\\site-packages (from panel>=0.8.0->holoviews>=1.11.0->hvplot) (3.3.7)\n",
      "Requirement already satisfied: six>=1.5 in c:\\users\\nethmi\\anaconda3\\lib\\site-packages (from python-dateutil>=2.7.3->pandas->hvplot) (1.16.0)\n",
      "Requirement already satisfied: colorama in c:\\users\\nethmi\\anaconda3\\lib\\site-packages (from tqdm>=4.48.0->panel>=0.8.0->holoviews>=1.11.0->hvplot) (0.4.4)\n",
      "Requirement already satisfied: webencodings in c:\\users\\nethmi\\anaconda3\\lib\\site-packages (from bleach->panel>=0.8.0->holoviews>=1.11.0->hvplot) (0.5.1)\n",
      "Requirement already satisfied: importlib-metadata>=4.4 in c:\\users\\nethmi\\anaconda3\\lib\\site-packages (from markdown->panel>=0.8.0->holoviews>=1.11.0->hvplot) (4.8.1)\n",
      "Requirement already satisfied: zipp>=0.5 in c:\\users\\nethmi\\anaconda3\\lib\\site-packages (from importlib-metadata>=4.4->markdown->panel>=0.8.0->holoviews>=1.11.0->hvplot) (3.6.0)\n",
      "Requirement already satisfied: charset-normalizer~=2.0.0 in c:\\users\\nethmi\\anaconda3\\lib\\site-packages (from requests->panel>=0.8.0->holoviews>=1.11.0->hvplot) (2.0.4)\n",
      "Requirement already satisfied: urllib3<1.27,>=1.21.1 in c:\\users\\nethmi\\anaconda3\\lib\\site-packages (from requests->panel>=0.8.0->holoviews>=1.11.0->hvplot) (1.26.7)\n",
      "Requirement already satisfied: idna<4,>=2.5 in c:\\users\\nethmi\\anaconda3\\lib\\site-packages (from requests->panel>=0.8.0->holoviews>=1.11.0->hvplot) (3.2)\n",
      "Requirement already satisfied: certifi>=2017.4.17 in c:\\users\\nethmi\\anaconda3\\lib\\site-packages (from requests->panel>=0.8.0->holoviews>=1.11.0->hvplot) (2021.10.8)\n"
     ]
    }
   ],
   "source": [
    "import sys\n",
    "!{sys.executable} -m pip install xgboost\n",
    "!{sys.executable} -m pip install hvplot\n",
    "import seaborn as sns\n",
    "import numpy as np\n",
    "import pandas as pd\n",
    "import matplotlib.pyplot as plt\n",
    "from sklearn.model_selection import train_test_split\n",
    "from sklearn.model_selection import GridSearchCV\n",
    "from sklearn.preprocessing import StandardScaler \n",
    "from sklearn.svm import SVC\n",
    "from sklearn.linear_model import LogisticRegression\n",
    "import xgboost as xgb\n",
    "from sklearn.metrics import accuracy_score\n",
    "from sklearn.neighbors import KNeighborsClassifier  \n",
    "from sklearn.ensemble import RandomForestRegressor\n",
    "from sklearn.neighbors import KNeighborsClassifier\n",
    "from sklearn.naive_bayes import BernoulliNB\n",
    "from sklearn.naive_bayes import GaussianNB\n",
    "from sklearn.metrics import confusion_matrix, classification_report\n",
    "from sklearn.tree import DecisionTreeClassifier\n",
    "from sklearn.ensemble import RandomForestClassifier\n",
    "\n",
    "import hvplot.pandas\n",
    "from IPython.display import Markdown as md\n",
    "\n",
    "import warnings\n",
    "warnings.filterwarnings(\"ignore\", category=DeprecationWarning)"
   ]
  },
  {
   "cell_type": "code",
   "execution_count": 318,
   "metadata": {},
   "outputs": [],
   "source": [
    "# loading the dataset (patients.csv) file and assigning to the 'patients' variable\n",
    "patients=pd.read_csv('patients.csv')"
   ]
  },
  {
   "cell_type": "markdown",
   "id": "3c5b330d",
   "metadata": {},
   "source": [
    "## Exploratory Data Analysis (EDA)"
   ]
  },
  {
   "cell_type": "code",
   "execution_count": 319,
   "id": "1f3f4db0",
   "metadata": {},
   "outputs": [
    {
     "name": "stdout",
     "output_type": "stream",
     "text": [
      "This dataset consists of 303 rows and 14 columns\n"
     ]
    }
   ],
   "source": [
    "# dataset summary\n",
    "print(\"This dataset consists of \" + str(patients.shape[0]) + \" rows and \" + str(patients.shape[1]) + \" columns\")"
   ]
  },
  {
   "cell_type": "code",
   "execution_count": 320,
   "id": "a5dfb250",
   "metadata": {},
   "outputs": [
    {
     "data": {
      "text/html": [
       "<div>\n",
       "<style scoped>\n",
       "    .dataframe tbody tr th:only-of-type {\n",
       "        vertical-align: middle;\n",
       "    }\n",
       "\n",
       "    .dataframe tbody tr th {\n",
       "        vertical-align: top;\n",
       "    }\n",
       "\n",
       "    .dataframe thead th {\n",
       "        text-align: right;\n",
       "    }\n",
       "</style>\n",
       "<table border=\"1\" class=\"dataframe\">\n",
       "  <thead>\n",
       "    <tr style=\"text-align: right;\">\n",
       "      <th></th>\n",
       "      <th>age</th>\n",
       "      <th>sex</th>\n",
       "      <th>cp</th>\n",
       "      <th>trestbps</th>\n",
       "      <th>chol</th>\n",
       "      <th>fbs</th>\n",
       "      <th>restecg</th>\n",
       "      <th>thalach</th>\n",
       "      <th>exang</th>\n",
       "      <th>oldpeak</th>\n",
       "      <th>slp</th>\n",
       "      <th>caa</th>\n",
       "      <th>thal</th>\n",
       "      <th>output</th>\n",
       "    </tr>\n",
       "  </thead>\n",
       "  <tbody>\n",
       "    <tr>\n",
       "      <th>0</th>\n",
       "      <td>63</td>\n",
       "      <td>1</td>\n",
       "      <td>3</td>\n",
       "      <td>145</td>\n",
       "      <td>233</td>\n",
       "      <td>1</td>\n",
       "      <td>0</td>\n",
       "      <td>150</td>\n",
       "      <td>0</td>\n",
       "      <td>2.30</td>\n",
       "      <td>0</td>\n",
       "      <td>0</td>\n",
       "      <td>1</td>\n",
       "      <td>1</td>\n",
       "    </tr>\n",
       "    <tr>\n",
       "      <th>1</th>\n",
       "      <td>37</td>\n",
       "      <td>1</td>\n",
       "      <td>2</td>\n",
       "      <td>130</td>\n",
       "      <td>250</td>\n",
       "      <td>0</td>\n",
       "      <td>1</td>\n",
       "      <td>187</td>\n",
       "      <td>0</td>\n",
       "      <td>3.50</td>\n",
       "      <td>0</td>\n",
       "      <td>0</td>\n",
       "      <td>2</td>\n",
       "      <td>1</td>\n",
       "    </tr>\n",
       "    <tr>\n",
       "      <th>2</th>\n",
       "      <td>41</td>\n",
       "      <td>0</td>\n",
       "      <td>1</td>\n",
       "      <td>130</td>\n",
       "      <td>204</td>\n",
       "      <td>0</td>\n",
       "      <td>0</td>\n",
       "      <td>172</td>\n",
       "      <td>0</td>\n",
       "      <td>1.40</td>\n",
       "      <td>2</td>\n",
       "      <td>0</td>\n",
       "      <td>2</td>\n",
       "      <td>1</td>\n",
       "    </tr>\n",
       "    <tr>\n",
       "      <th>3</th>\n",
       "      <td>56</td>\n",
       "      <td>1</td>\n",
       "      <td>1</td>\n",
       "      <td>120</td>\n",
       "      <td>236</td>\n",
       "      <td>0</td>\n",
       "      <td>1</td>\n",
       "      <td>178</td>\n",
       "      <td>0</td>\n",
       "      <td>0.80</td>\n",
       "      <td>2</td>\n",
       "      <td>0</td>\n",
       "      <td>2</td>\n",
       "      <td>1</td>\n",
       "    </tr>\n",
       "    <tr>\n",
       "      <th>4</th>\n",
       "      <td>57</td>\n",
       "      <td>0</td>\n",
       "      <td>0</td>\n",
       "      <td>120</td>\n",
       "      <td>354</td>\n",
       "      <td>0</td>\n",
       "      <td>1</td>\n",
       "      <td>163</td>\n",
       "      <td>1</td>\n",
       "      <td>0.60</td>\n",
       "      <td>2</td>\n",
       "      <td>0</td>\n",
       "      <td>2</td>\n",
       "      <td>1</td>\n",
       "    </tr>\n",
       "  </tbody>\n",
       "</table>\n",
       "</div>"
      ],
      "text/plain": [
       "   age  sex  cp  trestbps  chol  fbs  restecg  thalach  exang  oldpeak  slp  \\\n",
       "0   63    1   3       145   233    1        0      150      0     2.30    0   \n",
       "1   37    1   2       130   250    0        1      187      0     3.50    0   \n",
       "2   41    0   1       130   204    0        0      172      0     1.40    2   \n",
       "3   56    1   1       120   236    0        1      178      0     0.80    2   \n",
       "4   57    0   0       120   354    0        1      163      1     0.60    2   \n",
       "\n",
       "   caa  thal  output  \n",
       "0    0     1       1  \n",
       "1    0     2       1  \n",
       "2    0     2       1  \n",
       "3    0     2       1  \n",
       "4    0     2       1  "
      ]
     },
     "execution_count": 320,
     "metadata": {},
     "output_type": "execute_result"
    }
   ],
   "source": [
    "# first 5 records of the dataset prints here\n",
    "patients.head()"
   ]
  },
  {
   "cell_type": "markdown",
   "id": "e79800de",
   "metadata": {},
   "source": [
    "As shown in the above table,both categorical and continuous variables are present in the columns.Therefor those variables are categorized and listed below to have a better idea when moving forward.\n",
    "\n",
    "\n",
    "1. The categorial columns\n",
    "    * `sex`\n",
    "    * `cp`\n",
    "    * `fbs`\n",
    "    * `restecg`\n",
    "    * `exang`\n",
    "    * `slp`\n",
    "    * `caa`\n",
    "    * `thal`\n",
    "    * `output`\n",
    "    \n",
    "    \n",
    "2. The continuous columns\n",
    "    * `age`\n",
    "    * `trestbps`\n",
    "    * `chol`\n",
    "    * `thalach`\n",
    "    * `oldpeak`\n",
    "    \n",
    "\n",
    "Next, focus is towards the data types of the attributes."
   ]
  },
  {
   "cell_type": "code",
   "execution_count": 321,
   "id": "b726f2fc",
   "metadata": {},
   "outputs": [
    {
     "name": "stdout",
     "output_type": "stream",
     "text": [
      "<class 'pandas.core.frame.DataFrame'>\n",
      "RangeIndex: 303 entries, 0 to 302\n",
      "Data columns (total 14 columns):\n",
      " #   Column    Non-Null Count  Dtype  \n",
      "---  ------    --------------  -----  \n",
      " 0   age       303 non-null    int64  \n",
      " 1   sex       303 non-null    int64  \n",
      " 2   cp        303 non-null    int64  \n",
      " 3   trestbps  303 non-null    int64  \n",
      " 4   chol      303 non-null    int64  \n",
      " 5   fbs       303 non-null    int64  \n",
      " 6   restecg   303 non-null    int64  \n",
      " 7   thalach   303 non-null    int64  \n",
      " 8   exang     303 non-null    int64  \n",
      " 9   oldpeak   303 non-null    float64\n",
      " 10  slp       303 non-null    int64  \n",
      " 11  caa       303 non-null    int64  \n",
      " 12  thal      303 non-null    int64  \n",
      " 13  output    303 non-null    int64  \n",
      "dtypes: float64(1), int64(13)\n",
      "memory usage: 33.3 KB\n"
     ]
    }
   ],
   "source": [
    "# display data types \n",
    "patients.info()"
   ]
  },
  {
   "cell_type": "markdown",
   "id": "3f7d7909",
   "metadata": {},
   "source": [
    "Next, check for any null values that might be present in the dataset."
   ]
  },
  {
   "cell_type": "code",
   "execution_count": 322,
   "id": "43f8fb4b",
   "metadata": {},
   "outputs": [
    {
     "data": {
      "text/plain": [
       "age         0\n",
       "sex         0\n",
       "cp          0\n",
       "trestbps    0\n",
       "chol        0\n",
       "fbs         0\n",
       "restecg     0\n",
       "thalach     0\n",
       "exang       0\n",
       "oldpeak     0\n",
       "slp         0\n",
       "caa         0\n",
       "thal        0\n",
       "output      0\n",
       "dtype: int64"
      ]
     },
     "execution_count": 322,
     "metadata": {},
     "output_type": "execute_result"
    }
   ],
   "source": [
    "#  null values are checked in this step\n",
    "patients.isnull().sum()"
   ]
  },
  {
   "cell_type": "markdown",
   "id": "bd5c6d3a",
   "metadata": {},
   "source": [
    "The above output has manifested that there are no null values in the dataset. \n",
    "Next, check for any duplicate records which might cause the model to overfit due to the bias."
   ]
  },
  {
   "cell_type": "code",
   "execution_count": 323,
   "id": "c6c56a38",
   "metadata": {},
   "outputs": [
    {
     "data": {
      "text/html": [
       "<div>\n",
       "<style scoped>\n",
       "    .dataframe tbody tr th:only-of-type {\n",
       "        vertical-align: middle;\n",
       "    }\n",
       "\n",
       "    .dataframe tbody tr th {\n",
       "        vertical-align: top;\n",
       "    }\n",
       "\n",
       "    .dataframe thead th {\n",
       "        text-align: right;\n",
       "    }\n",
       "</style>\n",
       "<table border=\"1\" class=\"dataframe\">\n",
       "  <thead>\n",
       "    <tr style=\"text-align: right;\">\n",
       "      <th></th>\n",
       "      <th>age</th>\n",
       "      <th>sex</th>\n",
       "      <th>cp</th>\n",
       "      <th>trestbps</th>\n",
       "      <th>chol</th>\n",
       "      <th>fbs</th>\n",
       "      <th>restecg</th>\n",
       "      <th>thalach</th>\n",
       "      <th>exang</th>\n",
       "      <th>oldpeak</th>\n",
       "      <th>slp</th>\n",
       "      <th>caa</th>\n",
       "      <th>thal</th>\n",
       "      <th>output</th>\n",
       "    </tr>\n",
       "  </thead>\n",
       "  <tbody>\n",
       "    <tr>\n",
       "      <th>164</th>\n",
       "      <td>38</td>\n",
       "      <td>1</td>\n",
       "      <td>2</td>\n",
       "      <td>138</td>\n",
       "      <td>175</td>\n",
       "      <td>0</td>\n",
       "      <td>1</td>\n",
       "      <td>173</td>\n",
       "      <td>0</td>\n",
       "      <td>0.00</td>\n",
       "      <td>2</td>\n",
       "      <td>4</td>\n",
       "      <td>2</td>\n",
       "      <td>1</td>\n",
       "    </tr>\n",
       "  </tbody>\n",
       "</table>\n",
       "</div>"
      ],
      "text/plain": [
       "     age  sex  cp  trestbps  chol  fbs  restecg  thalach  exang  oldpeak  slp  \\\n",
       "164   38    1   2       138   175    0        1      173      0     0.00    2   \n",
       "\n",
       "     caa  thal  output  \n",
       "164    4     2       1  "
      ]
     },
     "execution_count": 323,
     "metadata": {},
     "output_type": "execute_result"
    }
   ],
   "source": [
    "# find whether records are duplicated\n",
    "patients[patients.duplicated()]"
   ]
  },
  {
   "cell_type": "markdown",
   "id": "6c109ca1",
   "metadata": {},
   "source": [
    "Above result shows that there is a duplicated record.That needed to be removed before continuing any further process."
   ]
  },
  {
   "cell_type": "code",
   "execution_count": 324,
   "id": "48769c61",
   "metadata": {},
   "outputs": [],
   "source": [
    "# removing duplicates from the data frame\n",
    "patients.drop_duplicates(keep='first',inplace=True)"
   ]
  },
  {
   "cell_type": "markdown",
   "id": "ad8d5130",
   "metadata": {},
   "source": [
    "Check whether the duplicated record has been removed. If duplicated record has been removed, 302 records should be present as there were 303 records earlier."
   ]
  },
  {
   "cell_type": "code",
   "execution_count": 325,
   "id": "b880a269",
   "metadata": {},
   "outputs": [
    {
     "name": "stdout",
     "output_type": "stream",
     "text": [
      "This dataset consists of 302 rows\n"
     ]
    }
   ],
   "source": [
    "# the dataset is re-analyze in this step\n",
    "print(\"This dataset consists of \" + str(patients.shape[0]) + \" rows\")"
   ]
  },
  {
   "cell_type": "markdown",
   "id": "6e24a6cc",
   "metadata": {},
   "source": [
    "The above result shows that the duplicated record has been removed.\n",
    "Now, statistics summary of the dataset is going to be checked."
   ]
  },
  {
   "cell_type": "code",
   "execution_count": 326,
   "id": "fe564322",
   "metadata": {},
   "outputs": [
    {
     "data": {
      "text/html": [
       "<div>\n",
       "<style scoped>\n",
       "    .dataframe tbody tr th:only-of-type {\n",
       "        vertical-align: middle;\n",
       "    }\n",
       "\n",
       "    .dataframe tbody tr th {\n",
       "        vertical-align: top;\n",
       "    }\n",
       "\n",
       "    .dataframe thead th {\n",
       "        text-align: right;\n",
       "    }\n",
       "</style>\n",
       "<table border=\"1\" class=\"dataframe\">\n",
       "  <thead>\n",
       "    <tr style=\"text-align: right;\">\n",
       "      <th></th>\n",
       "      <th>age</th>\n",
       "      <th>trestbps</th>\n",
       "      <th>chol</th>\n",
       "      <th>thalach</th>\n",
       "      <th>oldpeak</th>\n",
       "    </tr>\n",
       "  </thead>\n",
       "  <tbody>\n",
       "    <tr>\n",
       "      <th>count</th>\n",
       "      <td>302.00</td>\n",
       "      <td>302.00</td>\n",
       "      <td>302.00</td>\n",
       "      <td>302.00</td>\n",
       "      <td>302.00</td>\n",
       "    </tr>\n",
       "    <tr>\n",
       "      <th>mean</th>\n",
       "      <td>54.42</td>\n",
       "      <td>131.60</td>\n",
       "      <td>246.50</td>\n",
       "      <td>149.57</td>\n",
       "      <td>1.04</td>\n",
       "    </tr>\n",
       "    <tr>\n",
       "      <th>std</th>\n",
       "      <td>9.05</td>\n",
       "      <td>17.56</td>\n",
       "      <td>51.75</td>\n",
       "      <td>22.90</td>\n",
       "      <td>1.16</td>\n",
       "    </tr>\n",
       "    <tr>\n",
       "      <th>min</th>\n",
       "      <td>29.00</td>\n",
       "      <td>94.00</td>\n",
       "      <td>126.00</td>\n",
       "      <td>71.00</td>\n",
       "      <td>0.00</td>\n",
       "    </tr>\n",
       "    <tr>\n",
       "      <th>25%</th>\n",
       "      <td>48.00</td>\n",
       "      <td>120.00</td>\n",
       "      <td>211.00</td>\n",
       "      <td>133.25</td>\n",
       "      <td>0.00</td>\n",
       "    </tr>\n",
       "    <tr>\n",
       "      <th>50%</th>\n",
       "      <td>55.50</td>\n",
       "      <td>130.00</td>\n",
       "      <td>240.50</td>\n",
       "      <td>152.50</td>\n",
       "      <td>0.80</td>\n",
       "    </tr>\n",
       "    <tr>\n",
       "      <th>75%</th>\n",
       "      <td>61.00</td>\n",
       "      <td>140.00</td>\n",
       "      <td>274.75</td>\n",
       "      <td>166.00</td>\n",
       "      <td>1.60</td>\n",
       "    </tr>\n",
       "    <tr>\n",
       "      <th>max</th>\n",
       "      <td>77.00</td>\n",
       "      <td>200.00</td>\n",
       "      <td>564.00</td>\n",
       "      <td>202.00</td>\n",
       "      <td>6.20</td>\n",
       "    </tr>\n",
       "  </tbody>\n",
       "</table>\n",
       "</div>"
      ],
      "text/plain": [
       "         age  trestbps   chol  thalach  oldpeak\n",
       "count 302.00    302.00 302.00   302.00   302.00\n",
       "mean   54.42    131.60 246.50   149.57     1.04\n",
       "std     9.05     17.56  51.75    22.90     1.16\n",
       "min    29.00     94.00 126.00    71.00     0.00\n",
       "25%    48.00    120.00 211.00   133.25     0.00\n",
       "50%    55.50    130.00 240.50   152.50     0.80\n",
       "75%    61.00    140.00 274.75   166.00     1.60\n",
       "max    77.00    200.00 564.00   202.00     6.20"
      ]
     },
     "execution_count": 326,
     "metadata": {},
     "output_type": "execute_result"
    }
   ],
   "source": [
    "# setting the floating value to 2 decimal places\n",
    "pd.set_option(\"display.float\", \"{:.2f}\".format)\n",
    "\n",
    "# assign the coloumn names of the continuous variables(skip categorical variables as no any useful information is given)\n",
    "#this will be use to generate statistical summary\n",
    "continuous_val = [\"age\",\"trestbps\",\"chol\",\"thalach\",\"oldpeak\"]\n",
    "patients[continuous_val].describe()"
   ]
  },
  {
   "cell_type": "markdown",
   "id": "9afcb7f9",
   "metadata": {},
   "source": [
    "Plot a graph to contrast the number of patients that have had a heart attack and those who have not."
   ]
  },
  {
   "cell_type": "code",
   "execution_count": 327,
   "id": "6c898553",
   "metadata": {},
   "outputs": [
    {
     "data": {},
     "metadata": {},
     "output_type": "display_data"
    },
    {
     "data": {
      "application/vnd.holoviews_exec.v0+json": "",
      "text/html": [
       "<div id='2817'>\n",
       "\n",
       "\n",
       "\n",
       "\n",
       "\n",
       "  <div class=\"bk-root\" id=\"c160924d-adc6-43e2-9167-da18f969cfab\" data-root-id=\"2817\"></div>\n",
       "</div>\n",
       "<script type=\"application/javascript\">(function(root) {\n",
       "  function embed_document(root) {\n",
       "    var docs_json = {\"845b12ac-c004-420b-9972-ee9a5ee474b7\":{\"defs\":[{\"extends\":null,\"module\":null,\"name\":\"ReactiveHTML1\",\"overrides\":[],\"properties\":[]},{\"extends\":null,\"module\":null,\"name\":\"FlexBox1\",\"overrides\":[],\"properties\":[{\"default\":\"flex-start\",\"kind\":null,\"name\":\"align_content\"},{\"default\":\"flex-start\",\"kind\":null,\"name\":\"align_items\"},{\"default\":\"row\",\"kind\":null,\"name\":\"flex_direction\"},{\"default\":\"wrap\",\"kind\":null,\"name\":\"flex_wrap\"},{\"default\":\"flex-start\",\"kind\":null,\"name\":\"justify_content\"}]},{\"extends\":null,\"module\":null,\"name\":\"GridStack1\",\"overrides\":[],\"properties\":[{\"default\":\"warn\",\"kind\":null,\"name\":\"mode\"},{\"default\":null,\"kind\":null,\"name\":\"ncols\"},{\"default\":null,\"kind\":null,\"name\":\"nrows\"},{\"default\":true,\"kind\":null,\"name\":\"allow_resize\"},{\"default\":true,\"kind\":null,\"name\":\"allow_drag\"},{\"default\":[],\"kind\":null,\"name\":\"state\"}]},{\"extends\":null,\"module\":null,\"name\":\"click1\",\"overrides\":[],\"properties\":[{\"default\":\"\",\"kind\":null,\"name\":\"terminal_output\"},{\"default\":\"\",\"kind\":null,\"name\":\"debug_name\"},{\"default\":0,\"kind\":null,\"name\":\"clears\"}]},{\"extends\":null,\"module\":null,\"name\":\"TemplateActions1\",\"overrides\":[],\"properties\":[{\"default\":0,\"kind\":null,\"name\":\"open_modal\"},{\"default\":0,\"kind\":null,\"name\":\"close_modal\"}]},{\"extends\":null,\"module\":null,\"name\":\"MaterialTemplateActions1\",\"overrides\":[],\"properties\":[{\"default\":0,\"kind\":null,\"name\":\"open_modal\"},{\"default\":0,\"kind\":null,\"name\":\"close_modal\"}]}],\"roots\":{\"references\":[{\"attributes\":{},\"id\":\"2873\",\"type\":\"UnionRenderers\"},{\"attributes\":{\"overlay\":{\"id\":\"2843\"}},\"id\":\"2841\",\"type\":\"BoxZoomTool\"},{\"attributes\":{\"source\":{\"id\":\"2851\"}},\"id\":\"2858\",\"type\":\"CDSView\"},{\"attributes\":{\"bottom\":{\"value\":0},\"fill_alpha\":{\"value\":1.0},\"fill_color\":{\"value\":\"#30a2da\"},\"hatch_alpha\":{\"value\":1.0},\"hatch_color\":{\"value\":\"#30a2da\"},\"hatch_scale\":{\"value\":12.0},\"hatch_weight\":{\"value\":1.0},\"line_alpha\":{\"value\":1.0},\"line_cap\":{\"value\":\"butt\"},\"line_color\":{\"value\":\"black\"},\"line_dash\":{\"value\":[]},\"line_dash_offset\":{\"value\":0},\"line_join\":{\"value\":\"bevel\"},\"line_width\":{\"value\":1},\"top\":{\"field\":\"output\"},\"width\":{\"value\":0.8},\"x\":{\"field\":\"index\"}},\"id\":\"2859\",\"type\":\"VBar\"},{\"attributes\":{},\"id\":\"2829\",\"type\":\"LinearScale\"},{\"attributes\":{\"axis\":{\"id\":\"2834\"},\"coordinates\":null,\"dimension\":1,\"grid_line_color\":null,\"group\":null,\"ticker\":null},\"id\":\"2837\",\"type\":\"Grid\"},{\"attributes\":{},\"id\":\"2839\",\"type\":\"PanTool\"},{\"attributes\":{},\"id\":\"2827\",\"type\":\"CategoricalScale\"},{\"attributes\":{\"coordinates\":null,\"data_source\":{\"id\":\"2851\"},\"glyph\":{\"id\":\"2854\"},\"group\":null,\"hover_glyph\":null,\"muted_glyph\":{\"id\":\"2856\"},\"nonselection_glyph\":{\"id\":\"2855\"},\"selection_glyph\":{\"id\":\"2859\"},\"view\":{\"id\":\"2858\"}},\"id\":\"2857\",\"type\":\"GlyphRenderer\"},{\"attributes\":{},\"id\":\"2852\",\"type\":\"Selection\"},{\"attributes\":{},\"id\":\"2840\",\"type\":\"WheelZoomTool\"},{\"attributes\":{\"callback\":null,\"renderers\":[{\"id\":\"2857\"}],\"tags\":[\"hv_created\"],\"tooltips\":[[\"index\",\"@{index}\"],[\"output\",\"@{output}\"]]},\"id\":\"2821\",\"type\":\"HoverTool\"},{\"attributes\":{\"end\":166.6,\"reset_end\":166.6,\"reset_start\":0.0,\"tags\":[[[\"output\",\"output\",null]]]},\"id\":\"2820\",\"type\":\"Range1d\"},{\"attributes\":{\"margin\":[5,5,5,5],\"name\":\"HSpacer05019\",\"sizing_mode\":\"stretch_width\"},\"id\":\"2818\",\"type\":\"Spacer\"},{\"attributes\":{},\"id\":\"2864\",\"type\":\"BasicTickFormatter\"},{\"attributes\":{\"children\":[{\"id\":\"2818\"},{\"id\":\"2822\"},{\"id\":\"2886\"}],\"margin\":[0,0,0,0],\"name\":\"Row05015\",\"tags\":[\"embedded\"]},\"id\":\"2817\",\"type\":\"Row\"},{\"attributes\":{\"data\":{\"index\":[\"1\",\"0\"],\"output\":[164,138]},\"selected\":{\"id\":\"2852\"},\"selection_policy\":{\"id\":\"2873\"}},\"id\":\"2851\",\"type\":\"ColumnDataSource\"},{\"attributes\":{},\"id\":\"2835\",\"type\":\"BasicTicker\"},{\"attributes\":{},\"id\":\"2865\",\"type\":\"AllLabels\"},{\"attributes\":{\"factors\":[\"1\",\"0\"],\"tags\":[[[\"index\",\"index\",null]]]},\"id\":\"2819\",\"type\":\"FactorRange\"},{\"attributes\":{\"axis_label\":\"patients who suffered a Heart Attack\",\"coordinates\":null,\"formatter\":{\"id\":\"2861\"},\"group\":null,\"major_label_policy\":{\"id\":\"2862\"},\"ticker\":{\"id\":\"2832\"}},\"id\":\"2831\",\"type\":\"CategoricalAxis\"},{\"attributes\":{},\"id\":\"2862\",\"type\":\"AllLabels\"},{\"attributes\":{},\"id\":\"2838\",\"type\":\"SaveTool\"},{\"attributes\":{\"fill_color\":{\"value\":\"#30a2da\"},\"hatch_color\":{\"value\":\"#30a2da\"},\"top\":{\"field\":\"output\"},\"width\":{\"value\":0.8},\"x\":{\"field\":\"index\"}},\"id\":\"2854\",\"type\":\"VBar\"},{\"attributes\":{\"axis_label\":\"Count\",\"coordinates\":null,\"formatter\":{\"id\":\"2864\"},\"group\":null,\"major_label_policy\":{\"id\":\"2865\"},\"ticker\":{\"id\":\"2835\"}},\"id\":\"2834\",\"type\":\"LinearAxis\"},{\"attributes\":{\"tools\":[{\"id\":\"2821\"},{\"id\":\"2838\"},{\"id\":\"2839\"},{\"id\":\"2840\"},{\"id\":\"2841\"},{\"id\":\"2842\"}]},\"id\":\"2844\",\"type\":\"Toolbar\"},{\"attributes\":{\"axis\":{\"id\":\"2831\"},\"coordinates\":null,\"grid_line_color\":null,\"group\":null,\"ticker\":null},\"id\":\"2833\",\"type\":\"Grid\"},{\"attributes\":{},\"id\":\"2842\",\"type\":\"ResetTool\"},{\"attributes\":{\"coordinates\":null,\"group\":null,\"text\":\"Number of patients who have suffered a heart attack (1) vs who have not (0)\",\"text_color\":\"black\",\"text_font_size\":\"12pt\"},\"id\":\"2823\",\"type\":\"Title\"},{\"attributes\":{\"fill_alpha\":{\"value\":0.1},\"fill_color\":{\"value\":\"#30a2da\"},\"hatch_alpha\":{\"value\":0.1},\"hatch_color\":{\"value\":\"#30a2da\"},\"line_alpha\":{\"value\":0.1},\"top\":{\"field\":\"output\"},\"width\":{\"value\":0.8},\"x\":{\"field\":\"index\"}},\"id\":\"2855\",\"type\":\"VBar\"},{\"attributes\":{},\"id\":\"2861\",\"type\":\"CategoricalTickFormatter\"},{\"attributes\":{\"bottom_units\":\"screen\",\"coordinates\":null,\"fill_alpha\":0.5,\"fill_color\":\"lightgrey\",\"group\":null,\"left_units\":\"screen\",\"level\":\"overlay\",\"line_alpha\":1.0,\"line_color\":\"black\",\"line_dash\":[4,4],\"line_width\":2,\"right_units\":\"screen\",\"syncable\":false,\"top_units\":\"screen\"},\"id\":\"2843\",\"type\":\"BoxAnnotation\"},{\"attributes\":{\"fill_alpha\":{\"value\":0.2},\"fill_color\":{\"value\":\"#30a2da\"},\"hatch_alpha\":{\"value\":0.2},\"hatch_color\":{\"value\":\"#30a2da\"},\"line_alpha\":{\"value\":0.2},\"top\":{\"field\":\"output\"},\"width\":{\"value\":0.8},\"x\":{\"field\":\"index\"}},\"id\":\"2856\",\"type\":\"VBar\"},{\"attributes\":{\"margin\":[5,5,5,5],\"name\":\"HSpacer05020\",\"sizing_mode\":\"stretch_width\"},\"id\":\"2886\",\"type\":\"Spacer\"},{\"attributes\":{},\"id\":\"2832\",\"type\":\"CategoricalTicker\"},{\"attributes\":{\"below\":[{\"id\":\"2831\"}],\"center\":[{\"id\":\"2833\"},{\"id\":\"2837\"}],\"height\":300,\"left\":[{\"id\":\"2834\"}],\"margin\":[5,5,5,5],\"min_border_bottom\":10,\"min_border_left\":10,\"min_border_right\":10,\"min_border_top\":10,\"renderers\":[{\"id\":\"2857\"}],\"sizing_mode\":\"fixed\",\"title\":{\"id\":\"2823\"},\"toolbar\":{\"id\":\"2844\"},\"width\":400,\"x_range\":{\"id\":\"2819\"},\"x_scale\":{\"id\":\"2827\"},\"y_range\":{\"id\":\"2820\"},\"y_scale\":{\"id\":\"2829\"}},\"id\":\"2822\",\"subtype\":\"Figure\",\"type\":\"Plot\"}],\"root_ids\":[\"2817\"]},\"title\":\"Bokeh Application\",\"version\":\"2.4.1\"}};\n",
       "    var render_items = [{\"docid\":\"845b12ac-c004-420b-9972-ee9a5ee474b7\",\"root_ids\":[\"2817\"],\"roots\":{\"2817\":\"c160924d-adc6-43e2-9167-da18f969cfab\"}}];\n",
       "    root.Bokeh.embed.embed_items_notebook(docs_json, render_items);\n",
       "  }\n",
       "  if (root.Bokeh !== undefined && root.Bokeh.Panel !== undefined) {\n",
       "    embed_document(root);\n",
       "  } else {\n",
       "    var attempts = 0;\n",
       "    var timer = setInterval(function(root) {\n",
       "      if (root.Bokeh !== undefined && root.Bokeh.Panel !== undefined) {\n",
       "        clearInterval(timer);\n",
       "        embed_document(root);\n",
       "      } else if (document.readyState == \"complete\") {\n",
       "        attempts++;\n",
       "        if (attempts > 200) {\n",
       "          clearInterval(timer);\n",
       "          console.log(\"Bokeh: ERROR: Unable to run BokehJS code because BokehJS library is missing\");\n",
       "        }\n",
       "      }\n",
       "    }, 25, root)\n",
       "  }\n",
       "})(window);</script>"
      ],
      "text/plain": [
       ":Bars   [index]   (output)"
      ]
     },
     "execution_count": 327,
     "metadata": {
      "application/vnd.holoviews_exec.v0+json": {
       "id": "2817"
      }
     },
     "output_type": "execute_result"
    }
   ],
   "source": [
    "# plot the number of patients who have suffered a heart attack and who have not\n",
    "patients.output.value_counts().hvplot.bar(\n",
    "    title=\"Number of patients who have suffered a heart attack (1) vs who have not (0)\", \n",
    "    xlabel='patients who suffered a Heart Attack', \n",
    "    ylabel='Count', \n",
    "    width=400\n",
    ")"
   ]
  },
  {
   "cell_type": "code",
   "execution_count": 328,
   "id": "4541edb7",
   "metadata": {},
   "outputs": [
    {
     "data": {
      "text/markdown": [
       "#### The above graph depicts that 164 patients out of 302 have suffered from a heart attack, while the remaining 138 have not."
      ],
      "text/plain": [
       "<IPython.core.display.Markdown object>"
      ]
     },
     "execution_count": 328,
     "metadata": {},
     "output_type": "execute_result"
    }
   ],
   "source": [
    "md(f\"#### The above graph depicts that {patients.output.value_counts()[1]} patients out of {patients.shape[0]} have suffered from a heart attack, while the remaining {patients.output.value_counts()[0]} have not.\")"
   ]
  },
  {
   "cell_type": "markdown",
   "id": "c2db602e",
   "metadata": {},
   "source": [
    "### Plot the Graphs depecting the number of patients who have suffered from a heart attack and those who have not, against the categorical variables "
   ]
  },
  {
   "cell_type": "code",
   "execution_count": 329,
   "id": "68686d35",
   "metadata": {},
   "outputs": [
    {
     "data": {
      "image/png": "[encoded data removed]",
      "text/plain": [
       "<Figure size 432x288 with 1 Axes>"
      ]
     },
     "metadata": {
      "needs_background": "light"
     },
     "output_type": "display_data"
    }
   ],
   "source": [
    "# graph displaying heart attacks vs sex\n",
    "sex_output_ct=pd.crosstab(patients.sex,patients.output) \n",
    "sex_output_plot = sex_output_ct.plot(kind='bar', stacked=True)\n",
    "sex_output_plot.legend(title='output', bbox_to_anchor=(1, 1), loc='upper left')\n",
    "for var in sex_output_plot.containers:\n",
    "    sex_output_plot.bar_label(var, label_type='center')\n",
    "plt.title('Heart Attacks vs Sex ') \n",
    "plt.show()"
   ]
  },
  {
   "cell_type": "code",
   "execution_count": 330,
   "id": "faef24f1",
   "metadata": {},
   "outputs": [
    {
     "data": {
      "text/markdown": [
       "#### The above resulted graph depicts: <br><br> Out of 96 female patients, 72 have had a heart attack which is around 75% of all females <br><br> Out of 206 male patients, 92 have had a heart attack which is around 45% of all males"
      ],
      "text/plain": [
       "<IPython.core.display.Markdown object>"
      ]
     },
     "execution_count": 330,
     "metadata": {},
     "output_type": "execute_result"
    }
   ],
   "source": [
    "females_affected = 72\n",
    "males_affected = 92\n",
    "females_affected_percentage = round((females_affected/patients.sex.value_counts()[0])*100)\n",
    "males_affected_percentage = round((males_affected/patients.sex.value_counts()[1])*100)\n",
    "md(f\"#### The above resulted graph depicts: <br><br> Out of {patients.sex.value_counts()[0]} female patients, {females_affected} have had a heart attack which is around {females_affected_percentage}% of all females <br><br> Out of {patients.sex.value_counts()[1]} male patients, {males_affected} have had a heart attack which is around {males_affected_percentage}% of all males\")"
   ]
  },
  {
   "cell_type": "code",
   "execution_count": 331,
   "id": "1fea63a1",
   "metadata": {},
   "outputs": [
    {
     "data": {
      "image/png": "[encoded data removed]",
      "text/plain": [
       "<Figure size 432x288 with 1 Axes>"
      ]
     },
     "metadata": {
      "needs_background": "light"
     },
     "output_type": "display_data"
    }
   ],
   "source": [
    "# graph displaying heart attacks vs the type of chest pain\n",
    "cp_output_ct=pd.crosstab(patients.cp,patients.output) \n",
    "cp_output_plot = cp_output_ct.plot(kind='bar', stacked=True)\n",
    "cp_output_plot.legend(title='output', bbox_to_anchor=(1, 1), loc='upper left')\n",
    "for var in cp_output_plot.containers:\n",
    "    cp_output_plot.bar_label(var, label_type='center')\n",
    "plt.title('Heart Attacks vs Type of chest pain') \n",
    "plt.show()"
   ]
  },
  {
   "cell_type": "code",
   "execution_count": 332,
   "id": "5a71d140",
   "metadata": {},
   "outputs": [
    {
     "data": {
      "text/markdown": [
       "#### The above resulted graph depicts: <br><br> Out of 143 patients that suffered from a Typical Angina (0), 39 have had a heart attack which is around 27% of all the patients that suffered a Typical Angina (0)  <br><br> Out of 50 patients that suffered from a Atypical Angina (1), 41 have had a heart attack which is around 82% of all the patients that suffered a Atypical Angina (1) <br><br> Out of 86 patients that suffered from a Non-Anginal Pain (2), 68 have had a heart attack which is around 79% of all the patients that suffered a Non-Anginal Pain (2) <br><br> Out of 23 patients that suffered from a Asymptomatic (3), 16 have had a heart attack which is around 70% of all the patients that suffered a Asymptomatic (3) <br><br>"
      ],
      "text/plain": [
       "<IPython.core.display.Markdown object>"
      ]
     },
     "execution_count": 332,
     "metadata": {},
     "output_type": "execute_result"
    }
   ],
   "source": [
    "affected_0 = 39\n",
    "affected_1 = 41\n",
    "affected_2 = 68\n",
    "affected_3 = 16\n",
    "affected_0_percentage = round((affected_0/patients.cp.value_counts()[0])*100)\n",
    "affected_1_percentage = round((affected_1/patients.cp.value_counts()[1])*100)\n",
    "affected_2_percentage = round((affected_2/patients.cp.value_counts()[2])*100)\n",
    "affected_3_percentage = round((affected_3/patients.cp.value_counts()[3])*100)\n",
    "md(f\"#### The above resulted graph depicts: <br><br> Out of {patients.cp.value_counts()[0]} patients that suffered from a Typical Angina (0), {affected_0} have had a heart attack which is around {affected_0_percentage}% of all the patients that suffered a Typical Angina (0)  <br><br> Out of {patients.cp.value_counts()[1]} patients that suffered from a Atypical Angina (1), {affected_1} have had a heart attack which is around {affected_1_percentage}% of all the patients that suffered a Atypical Angina (1) <br><br> Out of {patients.cp.value_counts()[2]} patients that suffered from a Non-Anginal Pain (2), {affected_2} have had a heart attack which is around {affected_2_percentage}% of all the patients that suffered a Non-Anginal Pain (2) <br><br> Out of {patients.cp.value_counts()[3]} patients that suffered from a Asymptomatic (3), {affected_3} have had a heart attack which is around {affected_3_percentage}% of all the patients that suffered a Asymptomatic (3) <br><br>\")"
   ]
  },
  {
   "cell_type": "code",
   "execution_count": 333,
   "id": "690ac4a4",
   "metadata": {},
   "outputs": [
    {
     "data": {
      "image/png": "[encoded data removed]",
      "text/plain": [
       "<Figure size 432x288 with 1 Axes>"
      ]
     },
     "metadata": {
      "needs_background": "light"
     },
     "output_type": "display_data"
    }
   ],
   "source": [
    "# graph of heart attacks vs the fasting blood sugar\n",
    "fbs_output_ct=pd.crosstab(patients.fbs,patients.output) \n",
    "fbs_output_plot = fbs_output_ct.plot(kind='bar', stacked=True)\n",
    "fbs_output_plot.legend(title='output', bbox_to_anchor=(1, 1), loc='upper left')\n",
    "for var in fbs_output_plot.containers:\n",
    "    fbs_output_plot.bar_label(var, label_type='center')\n",
    "plt.title('Heart Attacks vs Fasting blood sugar') \n",
    "plt.show()"
   ]
  },
  {
   "cell_type": "code",
   "execution_count": 334,
   "id": "35cba429",
   "metadata": {},
   "outputs": [
    {
     "data": {
      "text/markdown": [
       "#### The above resulted graph depicts : <br><br>  Out of 257 patients that had fasting blood sugar levels <= 120 mg/dl, 141 have had a heart attack which is around 55% of all the patients that has fasting blood sugar levels <= 120 mg/dl <br><br>  Out of 45 patients that had fasting blood sugar levels > 120 mg/dl, 23 have had a heart attack which is around 51% of all the patients that has fasting blood sugar levels > 120 mg/dl <br><br>"
      ],
      "text/plain": [
       "<IPython.core.display.Markdown object>"
      ]
     },
     "execution_count": 334,
     "metadata": {},
     "output_type": "execute_result"
    }
   ],
   "source": [
    "affected_0_fbs = 141\n",
    "affected_1_fbs = 23\n",
    "affected_0_fbs_percentage = round((affected_0_fbs/patients.fbs.value_counts()[0])*100)\n",
    "affected_1_fbs_percentage = round((affected_1_fbs/patients.fbs.value_counts()[1])*100)\n",
    "md(f\"#### The above resulted graph depicts : <br><br>  Out of {patients.fbs.value_counts()[0]} patients that had fasting blood sugar levels <= 120 mg/dl, {affected_0_fbs} have had a heart attack which is around {affected_0_fbs_percentage}% of all the patients that has fasting blood sugar levels <= 120 mg/dl <br><br>  Out of {patients.fbs.value_counts()[1]} patients that had fasting blood sugar levels > 120 mg/dl, {affected_1_fbs} have had a heart attack which is around {affected_1_fbs_percentage}% of all the patients that has fasting blood sugar levels > 120 mg/dl <br><br>\")"
   ]
  },
  {
   "cell_type": "code",
   "execution_count": 335,
   "id": "d832e0f9",
   "metadata": {},
   "outputs": [
    {
     "data": {
      "image/png": "[encoded data removed]",
      "text/plain": [
       "<Figure size 720x720 with 1 Axes>"
      ]
     },
     "metadata": {
      "needs_background": "light"
     },
     "output_type": "display_data"
    }
   ],
   "source": [
    "# graph of heart attacks against the resting ECG results\n",
    "restecg_output_ct=pd.crosstab(patients.restecg,patients.output) \n",
    "restecg_output_plot = restecg_output_ct.plot(kind='bar', stacked=True, figsize=(10,10))\n",
    "restecg_output_plot.legend(title='output', bbox_to_anchor=(1, 1), loc='upper left')\n",
    "for var in restecg_output_plot.containers:\n",
    "    restecg_output_plot.bar_label(var, label_type='center')\n",
    "plt.title('Heart Attacks against Resting ECG results') \n",
    "plt.show()"
   ]
  },
  {
   "cell_type": "code",
   "execution_count": 336,
   "id": "41e990a7",
   "metadata": {},
   "outputs": [
    {
     "data": {
      "text/markdown": [
       "#### The above graph shows that : <br><br>  Out of 147 patients that showed Normal (0) results from the rested ECG, 68 have had a heart attack which is around 46% of all the patients that showed Normal (0) results from the rested ECG <br><br> Out of 151 patients that showed ST-T Wave abnormality (1) from the rested ECG results, 95 have had a heart attack which is around 63% of all the patients that showed ST-T Wave abnormality (1) from the rested ECG results <br><br> Out of 4 patients that has or showed signs of left ventricular hypertrophy (2) from the rested ECG results, 1 have had a heart attack which is around 25% of all the patients that has or showed signs of left ventricular hypertrophy (2) from the rested ECG results <br><br>"
      ],
      "text/plain": [
       "<IPython.core.display.Markdown object>"
      ]
     },
     "execution_count": 336,
     "metadata": {},
     "output_type": "execute_result"
    }
   ],
   "source": [
    "affected_0_restecg = 68\n",
    "affected_1_restecg = 95\n",
    "affected_2_restecg = 1\n",
    "affected_0_restecg_percentage = round((affected_0_restecg/patients.restecg.value_counts()[0])*100)\n",
    "affected_1_restecg_percentage = round((affected_1_restecg/patients.restecg.value_counts()[1])*100)\n",
    "affected_2_restecg_percentage = round((affected_2_restecg/patients.restecg.value_counts()[2])*100)\n",
    "md(f\"#### The above graph shows that : <br><br>  Out of {patients.restecg.value_counts()[0]} patients that showed Normal (0) results from the rested ECG, {affected_0_restecg} have had a heart attack which is around {affected_0_restecg_percentage}% of all the patients that showed Normal (0) results from the rested ECG <br><br> Out of {patients.restecg.value_counts()[1]} patients that showed ST-T Wave abnormality (1) from the rested ECG results, {affected_1_restecg} have had a heart attack which is around {affected_1_restecg_percentage}% of all the patients that showed ST-T Wave abnormality (1) from the rested ECG results <br><br> Out of {patients.restecg.value_counts()[2]} patients that has or showed signs of left ventricular hypertrophy (2) from the rested ECG results, {affected_2_restecg} have had a heart attack which is around {affected_2_restecg_percentage}% of all the patients that has or showed signs of left ventricular hypertrophy (2) from the rested ECG results <br><br>\")"
   ]
  },
  {
   "cell_type": "code",
   "execution_count": 337,
   "id": "88cc4df4",
   "metadata": {},
   "outputs": [
    {
     "data": {
      "image/png": "[encoded data removed]",
      "text/plain": [
       "<Figure size 432x288 with 1 Axes>"
      ]
     },
     "metadata": {
      "needs_background": "light"
     },
     "output_type": "display_data"
    }
   ],
   "source": [
    "# graph displaying heart attacks vs the exercise induced angina\n",
    "exang_output_ct=pd.crosstab(patients.exang,patients.output) \n",
    "exang_output_plot = exang_output_ct.plot(kind='bar', stacked=True)\n",
    "exang_output_plot.legend(title='output', bbox_to_anchor=(1, 1), loc='upper left')\n",
    "for var in exang_output_plot.containers:\n",
    "    exang_output_plot.bar_label(var, label_type='center')\n",
    "plt.title('Heart Attacks vs Exercise Induced Angina') \n",
    "plt.show()"
   ]
  },
  {
   "cell_type": "code",
   "execution_count": 338,
   "id": "dbaf0f2b",
   "metadata": {},
   "outputs": [
    {
     "data": {
      "text/markdown": [
       "#### The above resulted graph depicts: <br><br>   Out of 203 patients that did not show Angina induced through exercise, 141 have had a heart attack which is around 69% of all the patients that did not show Angina induced through exercise <br><br>  Out of 99 patients that showed Angina induced through exercise, 23 have had a heart attack which is around 23% of all the patients that showed Angina induced through exercise <br><br>"
      ],
      "text/plain": [
       "<IPython.core.display.Markdown object>"
      ]
     },
     "execution_count": 338,
     "metadata": {},
     "output_type": "execute_result"
    }
   ],
   "source": [
    "affected_0_exang = 141\n",
    "affected_1_exang = 23\n",
    "affected_0_exang_percentage = round((affected_0_exang/patients.exang.value_counts()[0])*100)\n",
    "affected_1_exang_percentage = round((affected_1_exang/patients.exang.value_counts()[1])*100)\n",
    "md(f\"#### The above resulted graph depicts: <br><br>   Out of {patients.exang.value_counts()[0]} patients that did not show Angina induced through exercise, {affected_0_exang} have had a heart attack which is around {affected_0_exang_percentage}% of all the patients that did not show Angina induced through exercise <br><br>  Out of {patients.exang.value_counts()[1]} patients that showed Angina induced through exercise, {affected_1_exang} have had a heart attack which is around {affected_1_exang_percentage}% of all the patients that showed Angina induced through exercise <br><br>\")"
   ]
  },
  {
   "cell_type": "code",
   "execution_count": 339,
   "id": "b12dfed5",
   "metadata": {},
   "outputs": [
    {
     "data": {
      "image/png": "[encoded data removed]",
      "text/plain": [
       "<Figure size 432x288 with 1 Axes>"
      ]
     },
     "metadata": {
      "needs_background": "light"
     },
     "output_type": "display_data"
    }
   ],
   "source": [
    "#graph displaying heart attacks against the slope of exercise induced ST segment\n",
    "slp_output_ct=pd.crosstab(patients.slp,patients.output) \n",
    "slp_output_plot = slp_output_ct.plot(kind='bar', stacked=True)\n",
    "slp_output_plot.legend(title='output', bbox_to_anchor=(1, 1), loc='upper left')\n",
    "for var in slp_output_plot.containers:\n",
    "    slp_output_plot.bar_label(var, label_type='center')\n",
    "plt.title('Heart Attacks vs Slope of exercise induced ST segment') \n",
    "plt.show()"
   ]
  },
  {
   "cell_type": "code",
   "execution_count": 340,
   "id": "4e400623",
   "metadata": {},
   "outputs": [
    {
     "data": {
      "text/markdown": [
       "#### The above resulted graph depicts: <br><br>  Out of 21 patients with Upsloping exercise induced ST segment, 9 have had a heart attack which is around 43% of all the patients with Upsloping exercise induced ST segment <br><br> Out of 140 patients with Flatloping exercise induced ST segment, 49 have had a heart attack which is around 35% of all the patients with Flatsloping exercise induced ST segment <br><br> Out of 141 patients with Downsloping exercise induced ST segment, 106 have had a heart attack which is around 75% of all the patients with Downsloping exercise induced ST segment <br><br>"
      ],
      "text/plain": [
       "<IPython.core.display.Markdown object>"
      ]
     },
     "execution_count": 340,
     "metadata": {},
     "output_type": "execute_result"
    }
   ],
   "source": [
    "affected_0_slp = 9\n",
    "affected_1_slp = 49\n",
    "affected_2_slp = 106\n",
    "affected_0_slp_percentage = round((affected_0_slp/patients.slp.value_counts()[0])*100)\n",
    "affected_1_slp_percentage = round((affected_1_slp/patients.slp.value_counts()[1])*100)\n",
    "affected_2_slp_percentage = round((affected_2_slp/patients.slp.value_counts()[2])*100)\n",
    "md(f\"#### The above resulted graph depicts: <br><br>  Out of {patients.slp.value_counts()[0]} patients with Upsloping exercise induced ST segment, {affected_0_slp} have had a heart attack which is around {affected_0_slp_percentage}% of all the patients with Upsloping exercise induced ST segment <br><br> Out of {patients.slp.value_counts()[1]} patients with Flatloping exercise induced ST segment, {affected_1_slp} have had a heart attack which is around {affected_1_slp_percentage}% of all the patients with Flatsloping exercise induced ST segment <br><br> Out of {patients.slp.value_counts()[2]} patients with Downsloping exercise induced ST segment, {affected_2_slp} have had a heart attack which is around {affected_2_slp_percentage}% of all the patients with Downsloping exercise induced ST segment <br><br>\")"
   ]
  },
  {
   "cell_type": "code",
   "execution_count": 341,
   "id": "428a2210",
   "metadata": {},
   "outputs": [
    {
     "data": {
      "image/png": "[encoded data removed]",
      "text/plain": [
       "<Figure size 936x1080 with 1 Axes>"
      ]
     },
     "metadata": {
      "needs_background": "light"
     },
     "output_type": "display_data"
    }
   ],
   "source": [
    "# graph displaying heart attacks vs the number of major vessels\n",
    "caa_output_ct=pd.crosstab(patients.caa,patients.output) \n",
    "caa_output_plot = caa_output_ct.plot(kind='bar', stacked=True, figsize=(13,15))\n",
    "caa_output_plot.legend(title='output', bbox_to_anchor=(1, 1), loc='upper left')\n",
    "for var in caa_output_plot.containers:\n",
    "    caa_output_plot.bar_label(var, label_type='center')\n",
    "plt.title('Heart Attacks vs Number of major vessels') \n",
    "plt.show()"
   ]
  },
  {
   "cell_type": "code",
   "execution_count": 342,
   "id": "2c31d2b8",
   "metadata": {},
   "outputs": [
    {
     "data": {
      "text/markdown": [
       "#### The above resulted graph depicts: <br><br>  Out of 175 patients with 0 Major Vessels, 130 have had a heart attack which is around 74% of all the patients with 0 Major Vessels <br><br>  Out of 65 patients with 1 Major Vessels, 21 have had a heart attack which is around 32% of all the patients with 1 Major Vessels <br><br> Out of 38 patients with 2 Major Vessels, 7 have had a heart attack which is around 18% of all the patients with 2 Major Vessels <br><br>  Out of 20 patients with 3 Major Vessels, 3 have had a heart attack which is around 15% of all the patients with 3 Major Vessels <br><br> Out of 4 patients with 4 Major Vessels, 3 have had a heart attack which is around 75% of all the patients with 4 Major Vessels <br><br>"
      ],
      "text/plain": [
       "<IPython.core.display.Markdown object>"
      ]
     },
     "execution_count": 342,
     "metadata": {},
     "output_type": "execute_result"
    }
   ],
   "source": [
    "affected_0_caa = 130\n",
    "affected_1_caa = 21\n",
    "affected_2_caa = 7\n",
    "affected_3_caa = 3\n",
    "affected_4_caa = 3\n",
    "affected_0_caa_percentage = round((affected_0_caa/patients.caa.value_counts()[0])*100)\n",
    "affected_1_caa_percentage = round((affected_1_caa/patients.caa.value_counts()[1])*100)\n",
    "affected_2_caa_percentage = round((affected_2_caa/patients.caa.value_counts()[2])*100)\n",
    "affected_3_caa_percentage = round((affected_3_caa/patients.caa.value_counts()[3])*100)\n",
    "affected_4_caa_percentage = round((affected_4_caa/patients.caa.value_counts()[4])*100)\n",
    "md(f\"#### The above resulted graph depicts: <br><br>  Out of {patients.caa.value_counts()[0]} patients with 0 Major Vessels, {affected_0_caa} have had a heart attack which is around {affected_0_caa_percentage}% of all the patients with 0 Major Vessels <br><br>  Out of {patients.caa.value_counts()[1]} patients with 1 Major Vessels, {affected_1_caa} have had a heart attack which is around {affected_1_caa_percentage}% of all the patients with 1 Major Vessels <br><br> Out of {patients.caa.value_counts()[2]} patients with 2 Major Vessels, {affected_2_caa} have had a heart attack which is around {affected_2_caa_percentage}% of all the patients with 2 Major Vessels <br><br>  Out of {patients.caa.value_counts()[3]} patients with 3 Major Vessels, {affected_3_caa} have had a heart attack which is around {affected_3_caa_percentage}% of all the patients with 3 Major Vessels <br><br> Out of {patients.caa.value_counts()[4]} patients with 4 Major Vessels, {affected_4_caa} have had a heart attack which is around {affected_4_caa_percentage}% of all the patients with 4 Major Vessels <br><br>\")"
   ]
  },
  {
   "cell_type": "code",
   "execution_count": 343,
   "id": "1c518240",
   "metadata": {},
   "outputs": [
    {
     "data": {
      "image/png": "[encoded data removed]",
      "text/plain": [
       "<Figure size 936x1080 with 1 Axes>"
      ]
     },
     "metadata": {
      "needs_background": "light"
     },
     "output_type": "display_data"
    }
   ],
   "source": [
    "# graph displaying heart attacks vs the thallium stress result\n",
    "thal_output_ct=pd.crosstab(patients.thal,patients.output) \n",
    "thal_output_plot = thal_output_ct.plot(kind='bar', stacked=True, figsize=(13,15))\n",
    "thal_output_plot.legend(title='output', bbox_to_anchor=(1, 1), loc='upper left')\n",
    "for var in thal_output_plot.containers:\n",
    "    thal_output_plot.bar_label(var, label_type='center')\n",
    "plt.title('Heart Attacks vs Thallium stress result') \n",
    "plt.show()"
   ]
  },
  {
   "cell_type": "code",
   "execution_count": 344,
   "id": "d56f6d6f",
   "metadata": {},
   "outputs": [
    {
     "data": {
      "text/markdown": [
       "#### The above resulted graph depicts: <br><br>  Out of 2 patients with 0 as the result of the thallium stress test, 1 have had a heart attack which is around 50% of all the patients with 0 as the result of the thallium stress test <br><br>  Out of 18 patients with 1 as the result of the thallium stress test, 6 have had a heart attack which is around 33% of all the patients with 1 as the result of the thallium stress test <br><br>  Out of 165 patients with 2 as the result of the thallium stress test, 129 have had a heart attack which is around 78% of all the patients with 2 as the result of the thallium stress test <br><br>  Out of 117 patients with 3 as the result of the thallium stress test, 28 have had a heart attack which is around 24% of all the patients with 3 as the result of the thallium stress test <br><br>"
      ],
      "text/plain": [
       "<IPython.core.display.Markdown object>"
      ]
     },
     "execution_count": 344,
     "metadata": {},
     "output_type": "execute_result"
    }
   ],
   "source": [
    "affected_0_thal = 1\n",
    "affected_1_thal = 6\n",
    "affected_2_thal = 129\n",
    "affected_3_thal = 28\n",
    "affected_0_thal_percentage = round((affected_0_thal/patients.thal.value_counts()[0])*100)\n",
    "affected_1_thal_percentage = round((affected_1_thal/patients.thal.value_counts()[1])*100)\n",
    "affected_2_thal_percentage = round((affected_2_thal/patients.thal.value_counts()[2])*100)\n",
    "affected_3_thal_percentage = round((affected_3_thal/patients.thal.value_counts()[3])*100)\n",
    "md(f\"#### The above resulted graph depicts: <br><br>  Out of {patients.thal.value_counts()[0]} patients with 0 as the result of the thallium stress test, {affected_0_thal} have had a heart attack which is around {affected_0_thal_percentage}% of all the patients with 0 as the result of the thallium stress test <br><br>  Out of {patients.thal.value_counts()[1]} patients with 1 as the result of the thallium stress test, {affected_1_thal} have had a heart attack which is around {affected_1_thal_percentage}% of all the patients with 1 as the result of the thallium stress test <br><br>  Out of {patients.thal.value_counts()[2]} patients with 2 as the result of the thallium stress test, {affected_2_thal} have had a heart attack which is around {affected_2_thal_percentage}% of all the patients with 2 as the result of the thallium stress test <br><br>  Out of {patients.thal.value_counts()[3]} patients with 3 as the result of the thallium stress test, {affected_3_thal} have had a heart attack which is around {affected_3_thal_percentage}% of all the patients with 3 as the result of the thallium stress test <br><br>\")"
   ]
  },
  {
   "cell_type": "markdown",
   "id": "25432ae5",
   "metadata": {},
   "source": [
    "### Correlation Matrix\n",
    "\n",
    "#### Plot the Correlation matrix for the Continuous variables"
   ]
  },
  {
   "cell_type": "code",
   "execution_count": 345,
   "id": "a49638b4",
   "metadata": {},
   "outputs": [
    {
     "data": {
      "text/plain": [
       "(5.0, 0.0)"
      ]
     },
     "execution_count": 345,
     "metadata": {},
     "output_type": "execute_result"
    },
    {
     "data": {
      "image/png": "[encoded data removed]",
      "text/plain": [
       "<Figure size 936x936 with 2 Axes>"
      ]
     },
     "metadata": {
      "needs_background": "light"
     },
     "output_type": "display_data"
    }
   ],
   "source": [
    "# plotting the correlation matrix for the above mentioned continuous variables\n",
    "corr_matrix = patients[continuous_val].corr()\n",
    "fig, ax = plt.subplots(figsize=(13, 13))\n",
    "ax = sns.heatmap(corr_matrix,\n",
    "                 annot=True,\n",
    "                 linewidths=0.5,\n",
    "                 fmt=\".2f\",\n",
    "                 cmap=\"YlGnBu\"\n",
    "                );\n",
    "bottom, top = ax.get_ylim()\n",
    "ax.set_ylim(bottom, top)"
   ]
  },
  {
   "cell_type": "code",
   "execution_count": 346,
   "id": "810a0844",
   "metadata": {},
   "outputs": [
    {
     "data": {},
     "metadata": {},
     "output_type": "display_data"
    },
    {
     "data": {
      "application/vnd.holoviews_exec.v0+json": "",
      "text/html": [
       "<div id='2938'>\n",
       "\n",
       "\n",
       "\n",
       "\n",
       "\n",
       "  <div class=\"bk-root\" id=\"a3c5d718-92ae-4f42-8ccc-bc9604c80381\" data-root-id=\"2938\"></div>\n",
       "</div>\n",
       "<script type=\"application/javascript\">(function(root) {\n",
       "  function embed_document(root) {\n",
       "    var docs_json = {\"a1f49142-7284-468c-984e-344534e30bcf\":{\"defs\":[{\"extends\":null,\"module\":null,\"name\":\"ReactiveHTML1\",\"overrides\":[],\"properties\":[]},{\"extends\":null,\"module\":null,\"name\":\"FlexBox1\",\"overrides\":[],\"properties\":[{\"default\":\"flex-start\",\"kind\":null,\"name\":\"align_content\"},{\"default\":\"flex-start\",\"kind\":null,\"name\":\"align_items\"},{\"default\":\"row\",\"kind\":null,\"name\":\"flex_direction\"},{\"default\":\"wrap\",\"kind\":null,\"name\":\"flex_wrap\"},{\"default\":\"flex-start\",\"kind\":null,\"name\":\"justify_content\"}]},{\"extends\":null,\"module\":null,\"name\":\"GridStack1\",\"overrides\":[],\"properties\":[{\"default\":\"warn\",\"kind\":null,\"name\":\"mode\"},{\"default\":null,\"kind\":null,\"name\":\"ncols\"},{\"default\":null,\"kind\":null,\"name\":\"nrows\"},{\"default\":true,\"kind\":null,\"name\":\"allow_resize\"},{\"default\":true,\"kind\":null,\"name\":\"allow_drag\"},{\"default\":[],\"kind\":null,\"name\":\"state\"}]},{\"extends\":null,\"module\":null,\"name\":\"click1\",\"overrides\":[],\"properties\":[{\"default\":\"\",\"kind\":null,\"name\":\"terminal_output\"},{\"default\":\"\",\"kind\":null,\"name\":\"debug_name\"},{\"default\":0,\"kind\":null,\"name\":\"clears\"}]},{\"extends\":null,\"module\":null,\"name\":\"TemplateActions1\",\"overrides\":[],\"properties\":[{\"default\":0,\"kind\":null,\"name\":\"open_modal\"},{\"default\":0,\"kind\":null,\"name\":\"close_modal\"}]},{\"extends\":null,\"module\":null,\"name\":\"MaterialTemplateActions1\",\"overrides\":[],\"properties\":[{\"default\":0,\"kind\":null,\"name\":\"open_modal\"},{\"default\":0,\"kind\":null,\"name\":\"close_modal\"}]}],\"roots\":{\"references\":[{\"attributes\":{\"fill_color\":{\"value\":\"#30a2da\"},\"hatch_color\":{\"value\":\"#30a2da\"},\"height\":{\"value\":0.8},\"right\":{\"field\":\"A_0\"},\"y\":{\"field\":\"index\"}},\"id\":\"2975\",\"type\":\"HBar\"},{\"attributes\":{\"margin\":[5,5,5,5],\"name\":\"HSpacer05267\",\"sizing_mode\":\"stretch_width\"},\"id\":\"2939\",\"type\":\"Spacer\"},{\"attributes\":{},\"id\":\"2983\",\"type\":\"AllLabels\"},{\"attributes\":{\"data\":{\"A_0\":{\"__ndarray__\":\"IFOO5lFZzL8ghtB77rjCv0mN54AR2bS/jOaUHovg2j9lpV0VIHfbvw==\",\"dtype\":\"float64\",\"order\":\"little\",\"shape\":[5]},\"index\":[\"age\",\"trestbps\",\"chol\",\"thalach\",\"oldpeak\"]},\"selected\":{\"id\":\"2973\"},\"selection_policy\":{\"id\":\"2994\"}},\"id\":\"2972\",\"type\":\"ColumnDataSource\"},{\"attributes\":{\"axis_label\":\"Continuous Variables\",\"coordinates\":null,\"formatter\":{\"id\":\"2985\"},\"group\":null,\"major_label_policy\":{\"id\":\"2986\"},\"ticker\":{\"id\":\"2957\"}},\"id\":\"2956\",\"type\":\"CategoricalAxis\"},{\"attributes\":{},\"id\":\"2963\",\"type\":\"ResetTool\"},{\"attributes\":{\"margin\":[5,5,5,5],\"name\":\"HSpacer05268\",\"sizing_mode\":\"stretch_width\"},\"id\":\"3007\",\"type\":\"Spacer\"},{\"attributes\":{},\"id\":\"2985\",\"type\":\"CategoricalTickFormatter\"},{\"attributes\":{\"callback\":null,\"renderers\":[{\"id\":\"2978\"}],\"tags\":[\"hv_created\"],\"tooltips\":[[\"index\",\"@{index}\"],[\"0\",\"@{A_0}\"]]},\"id\":\"2942\",\"type\":\"HoverTool\"},{\"attributes\":{\"fill_alpha\":{\"value\":0.2},\"fill_color\":{\"value\":\"#30a2da\"},\"hatch_alpha\":{\"value\":0.2},\"hatch_color\":{\"value\":\"#30a2da\"},\"height\":{\"value\":0.8},\"line_alpha\":{\"value\":0.2},\"right\":{\"field\":\"A_0\"},\"y\":{\"field\":\"index\"}},\"id\":\"2977\",\"type\":\"HBar\"},{\"attributes\":{},\"id\":\"2953\",\"type\":\"BasicTicker\"},{\"attributes\":{\"axis\":{\"id\":\"2956\"},\"coordinates\":null,\"dimension\":1,\"grid_line_color\":null,\"group\":null,\"ticker\":null},\"id\":\"2958\",\"type\":\"Grid\"},{\"attributes\":{\"fill_alpha\":{\"value\":0.1},\"fill_color\":{\"value\":\"#30a2da\"},\"hatch_alpha\":{\"value\":0.1},\"hatch_color\":{\"value\":\"#30a2da\"},\"height\":{\"value\":0.8},\"line_alpha\":{\"value\":0.1},\"right\":{\"field\":\"A_0\"},\"y\":{\"field\":\"index\"}},\"id\":\"2976\",\"type\":\"HBar\"},{\"attributes\":{\"coordinates\":null,\"data_source\":{\"id\":\"2972\"},\"glyph\":{\"id\":\"2975\"},\"group\":null,\"hover_glyph\":null,\"muted_glyph\":{\"id\":\"2977\"},\"nonselection_glyph\":{\"id\":\"2976\"},\"selection_glyph\":{\"id\":\"2980\"},\"view\":{\"id\":\"2979\"}},\"id\":\"2978\",\"type\":\"GlyphRenderer\"},{\"attributes\":{\"axis_label\":\"Correlation\",\"coordinates\":null,\"formatter\":{\"id\":\"2982\"},\"group\":null,\"major_label_policy\":{\"id\":\"2983\"},\"ticker\":{\"id\":\"2953\"}},\"id\":\"2952\",\"type\":\"LinearAxis\"},{\"attributes\":{},\"id\":\"2973\",\"type\":\"Selection\"},{\"attributes\":{},\"id\":\"2961\",\"type\":\"WheelZoomTool\"},{\"attributes\":{\"source\":{\"id\":\"2972\"}},\"id\":\"2979\",\"type\":\"CDSView\"},{\"attributes\":{\"below\":[{\"id\":\"2952\"}],\"center\":[{\"id\":\"2955\"},{\"id\":\"2958\"}],\"height\":300,\"left\":[{\"id\":\"2956\"}],\"margin\":[5,5,5,5],\"min_border_bottom\":10,\"min_border_left\":10,\"min_border_right\":10,\"min_border_top\":10,\"renderers\":[{\"id\":\"2978\"}],\"sizing_mode\":\"fixed\",\"title\":{\"id\":\"2944\"},\"toolbar\":{\"id\":\"2965\"},\"x_range\":{\"id\":\"2940\"},\"x_scale\":{\"id\":\"2948\"},\"y_range\":{\"id\":\"2941\"},\"y_scale\":{\"id\":\"2950\"}},\"id\":\"2943\",\"subtype\":\"Figure\",\"type\":\"Plot\"},{\"attributes\":{},\"id\":\"2960\",\"type\":\"PanTool\"},{\"attributes\":{\"factors\":[\"age\",\"trestbps\",\"chol\",\"thalach\",\"oldpeak\"],\"tags\":[[[\"index\",\"index\",null]]]},\"id\":\"2941\",\"type\":\"FactorRange\"},{\"attributes\":{},\"id\":\"2948\",\"type\":\"LinearScale\"},{\"attributes\":{},\"id\":\"2957\",\"type\":\"CategoricalTicker\"},{\"attributes\":{},\"id\":\"2986\",\"type\":\"AllLabels\"},{\"attributes\":{\"axis\":{\"id\":\"2952\"},\"coordinates\":null,\"grid_line_color\":null,\"group\":null,\"ticker\":null},\"id\":\"2955\",\"type\":\"Grid\"},{\"attributes\":{\"bottom_units\":\"screen\",\"coordinates\":null,\"fill_alpha\":0.5,\"fill_color\":\"lightgrey\",\"group\":null,\"left_units\":\"screen\",\"level\":\"overlay\",\"line_alpha\":1.0,\"line_color\":\"black\",\"line_dash\":[4,4],\"line_width\":2,\"right_units\":\"screen\",\"syncable\":false,\"top_units\":\"screen\"},\"id\":\"2964\",\"type\":\"BoxAnnotation\"},{\"attributes\":{\"tools\":[{\"id\":\"2942\"},{\"id\":\"2959\"},{\"id\":\"2960\"},{\"id\":\"2961\"},{\"id\":\"2962\"},{\"id\":\"2963\"}]},\"id\":\"2965\",\"type\":\"Toolbar\"},{\"attributes\":{\"children\":[{\"id\":\"2939\"},{\"id\":\"2943\"},{\"id\":\"3007\"}],\"margin\":[0,0,0,0],\"name\":\"Row05263\",\"tags\":[\"embedded\"]},\"id\":\"2938\",\"type\":\"Row\"},{\"attributes\":{},\"id\":\"2950\",\"type\":\"CategoricalScale\"},{\"attributes\":{},\"id\":\"2982\",\"type\":\"BasicTickFormatter\"},{\"attributes\":{},\"id\":\"2994\",\"type\":\"UnionRenderers\"},{\"attributes\":{},\"id\":\"2959\",\"type\":\"SaveTool\"},{\"attributes\":{\"fill_alpha\":{\"value\":1.0},\"fill_color\":{\"value\":\"#30a2da\"},\"hatch_alpha\":{\"value\":1.0},\"hatch_color\":{\"value\":\"#30a2da\"},\"hatch_scale\":{\"value\":12.0},\"hatch_weight\":{\"value\":1.0},\"height\":{\"value\":0.8},\"left\":{\"value\":0},\"line_alpha\":{\"value\":1.0},\"line_cap\":{\"value\":\"butt\"},\"line_color\":{\"value\":\"black\"},\"line_dash\":{\"value\":[]},\"line_dash_offset\":{\"value\":0},\"line_join\":{\"value\":\"bevel\"},\"line_width\":{\"value\":1},\"right\":{\"field\":\"A_0\"},\"y\":{\"field\":\"index\"}},\"id\":\"2980\",\"type\":\"HBar\"},{\"attributes\":{\"end\":0.5048651313189302,\"reset_end\":0.5048651313189302,\"reset_start\":-0.5140559205417985,\"start\":-0.5140559205417985,\"tags\":[[[\"0\",\"0\",null]]]},\"id\":\"2940\",\"type\":\"Range1d\"},{\"attributes\":{\"overlay\":{\"id\":\"2964\"}},\"id\":\"2962\",\"type\":\"BoxZoomTool\"},{\"attributes\":{\"coordinates\":null,\"group\":null,\"text\":\"Correlation between Heart Attacks and Continuous Variables\",\"text_color\":\"black\",\"text_font_size\":\"12pt\"},\"id\":\"2944\",\"type\":\"Title\"}],\"root_ids\":[\"2938\"]},\"title\":\"Bokeh Application\",\"version\":\"2.4.1\"}};\n",
       "    var render_items = [{\"docid\":\"a1f49142-7284-468c-984e-344534e30bcf\",\"root_ids\":[\"2938\"],\"roots\":{\"2938\":\"a3c5d718-92ae-4f42-8ccc-bc9604c80381\"}}];\n",
       "    root.Bokeh.embed.embed_items_notebook(docs_json, render_items);\n",
       "  }\n",
       "  if (root.Bokeh !== undefined && root.Bokeh.Panel !== undefined) {\n",
       "    embed_document(root);\n",
       "  } else {\n",
       "    var attempts = 0;\n",
       "    var timer = setInterval(function(root) {\n",
       "      if (root.Bokeh !== undefined && root.Bokeh.Panel !== undefined) {\n",
       "        clearInterval(timer);\n",
       "        embed_document(root);\n",
       "      } else if (document.readyState == \"complete\") {\n",
       "        attempts++;\n",
       "        if (attempts > 200) {\n",
       "          clearInterval(timer);\n",
       "          console.log(\"Bokeh: ERROR: Unable to run BokehJS code because BokehJS library is missing\");\n",
       "        }\n",
       "      }\n",
       "    }, 25, root)\n",
       "  }\n",
       "})(window);</script>"
      ],
      "text/plain": [
       ":Bars   [index]   (0)"
      ]
     },
     "execution_count": 346,
     "metadata": {
      "application/vnd.holoviews_exec.v0+json": {
       "id": "2938"
      }
     },
     "output_type": "execute_result"
    }
   ],
   "source": [
    "# a graph displaying correlation between heart attacks and continuous variables\n",
    "patients[continuous_val].corrwith(patients.output).hvplot.barh(\n",
    "    width=600,\n",
    "    title=\"Correlation between Heart Attacks and Continuous Variables\", \n",
    "    ylabel='Correlation', \n",
    "    xlabel='Continuous Variables',\n",
    ")"
   ]
  },
  {
   "cell_type": "markdown",
   "id": "bf6ce4c3",
   "metadata": {},
   "source": [
    "#### According to the above Correlation matrix:\n",
    "\n",
    "\n",
    "#### thalach (the maximum heart rate that was achieved) has the strongest positive correlation with the output, which means the chances of getting a heart attack increases with the increase of the heart rate.\n",
    "\n",
    "\n",
    "\n",
    "#### oldpeak has the strongest negative correlation with the output, which means the chances of getting a heart attack decreases with the increase of oldpeak.\n",
    "\n",
    "\n",
    "#### chol (cholesterol) has the lowest correlation value with the output, which means there is very little association between the cholesterol level and the chances of getting a heart attack.\n",
    "\n",
    "\n",
    "## Data Processing\n",
    "\n",
    "\n",
    "#### Convert the categorical variables into dummy values using the `get_dummies` from `pandas` library to create dummy columns since some machine learning models are unable to handle categorical variables."
   ]
  },
  {
   "cell_type": "code",
   "execution_count": 347,
   "id": "0f399013",
   "metadata": {},
   "outputs": [
    {
     "data": {
      "text/html": [
       "<div>\n",
       "<style scoped>\n",
       "    .dataframe tbody tr th:only-of-type {\n",
       "        vertical-align: middle;\n",
       "    }\n",
       "\n",
       "    .dataframe tbody tr th {\n",
       "        vertical-align: top;\n",
       "    }\n",
       "\n",
       "    .dataframe thead th {\n",
       "        text-align: right;\n",
       "    }\n",
       "</style>\n",
       "<table border=\"1\" class=\"dataframe\">\n",
       "  <thead>\n",
       "    <tr style=\"text-align: right;\">\n",
       "      <th></th>\n",
       "      <th>age</th>\n",
       "      <th>trestbps</th>\n",
       "      <th>chol</th>\n",
       "      <th>thalach</th>\n",
       "      <th>oldpeak</th>\n",
       "      <th>output</th>\n",
       "      <th>sex_0</th>\n",
       "      <th>sex_1</th>\n",
       "      <th>cp_0</th>\n",
       "      <th>cp_1</th>\n",
       "      <th>...</th>\n",
       "      <th>slp_2</th>\n",
       "      <th>caa_0</th>\n",
       "      <th>caa_1</th>\n",
       "      <th>caa_2</th>\n",
       "      <th>caa_3</th>\n",
       "      <th>caa_4</th>\n",
       "      <th>thal_0</th>\n",
       "      <th>thal_1</th>\n",
       "      <th>thal_2</th>\n",
       "      <th>thal_3</th>\n",
       "    </tr>\n",
       "  </thead>\n",
       "  <tbody>\n",
       "    <tr>\n",
       "      <th>0</th>\n",
       "      <td>63</td>\n",
       "      <td>145</td>\n",
       "      <td>233</td>\n",
       "      <td>150</td>\n",
       "      <td>2.30</td>\n",
       "      <td>1</td>\n",
       "      <td>0</td>\n",
       "      <td>1</td>\n",
       "      <td>0</td>\n",
       "      <td>0</td>\n",
       "      <td>...</td>\n",
       "      <td>0</td>\n",
       "      <td>1</td>\n",
       "      <td>0</td>\n",
       "      <td>0</td>\n",
       "      <td>0</td>\n",
       "      <td>0</td>\n",
       "      <td>0</td>\n",
       "      <td>1</td>\n",
       "      <td>0</td>\n",
       "      <td>0</td>\n",
       "    </tr>\n",
       "    <tr>\n",
       "      <th>1</th>\n",
       "      <td>37</td>\n",
       "      <td>130</td>\n",
       "      <td>250</td>\n",
       "      <td>187</td>\n",
       "      <td>3.50</td>\n",
       "      <td>1</td>\n",
       "      <td>0</td>\n",
       "      <td>1</td>\n",
       "      <td>0</td>\n",
       "      <td>0</td>\n",
       "      <td>...</td>\n",
       "      <td>0</td>\n",
       "      <td>1</td>\n",
       "      <td>0</td>\n",
       "      <td>0</td>\n",
       "      <td>0</td>\n",
       "      <td>0</td>\n",
       "      <td>0</td>\n",
       "      <td>0</td>\n",
       "      <td>1</td>\n",
       "      <td>0</td>\n",
       "    </tr>\n",
       "    <tr>\n",
       "      <th>2</th>\n",
       "      <td>41</td>\n",
       "      <td>130</td>\n",
       "      <td>204</td>\n",
       "      <td>172</td>\n",
       "      <td>1.40</td>\n",
       "      <td>1</td>\n",
       "      <td>1</td>\n",
       "      <td>0</td>\n",
       "      <td>0</td>\n",
       "      <td>1</td>\n",
       "      <td>...</td>\n",
       "      <td>1</td>\n",
       "      <td>1</td>\n",
       "      <td>0</td>\n",
       "      <td>0</td>\n",
       "      <td>0</td>\n",
       "      <td>0</td>\n",
       "      <td>0</td>\n",
       "      <td>0</td>\n",
       "      <td>1</td>\n",
       "      <td>0</td>\n",
       "    </tr>\n",
       "    <tr>\n",
       "      <th>3</th>\n",
       "      <td>56</td>\n",
       "      <td>120</td>\n",
       "      <td>236</td>\n",
       "      <td>178</td>\n",
       "      <td>0.80</td>\n",
       "      <td>1</td>\n",
       "      <td>0</td>\n",
       "      <td>1</td>\n",
       "      <td>0</td>\n",
       "      <td>1</td>\n",
       "      <td>...</td>\n",
       "      <td>1</td>\n",
       "      <td>1</td>\n",
       "      <td>0</td>\n",
       "      <td>0</td>\n",
       "      <td>0</td>\n",
       "      <td>0</td>\n",
       "      <td>0</td>\n",
       "      <td>0</td>\n",
       "      <td>1</td>\n",
       "      <td>0</td>\n",
       "    </tr>\n",
       "    <tr>\n",
       "      <th>4</th>\n",
       "      <td>57</td>\n",
       "      <td>120</td>\n",
       "      <td>354</td>\n",
       "      <td>163</td>\n",
       "      <td>0.60</td>\n",
       "      <td>1</td>\n",
       "      <td>1</td>\n",
       "      <td>0</td>\n",
       "      <td>1</td>\n",
       "      <td>0</td>\n",
       "      <td>...</td>\n",
       "      <td>1</td>\n",
       "      <td>1</td>\n",
       "      <td>0</td>\n",
       "      <td>0</td>\n",
       "      <td>0</td>\n",
       "      <td>0</td>\n",
       "      <td>0</td>\n",
       "      <td>0</td>\n",
       "      <td>1</td>\n",
       "      <td>0</td>\n",
       "    </tr>\n",
       "  </tbody>\n",
       "</table>\n",
       "<p>5 rows × 31 columns</p>\n",
       "</div>"
      ],
      "text/plain": [
       "   age  trestbps  chol  thalach  oldpeak  output  sex_0  sex_1  cp_0  cp_1  \\\n",
       "0   63       145   233      150     2.30       1      0      1     0     0   \n",
       "1   37       130   250      187     3.50       1      0      1     0     0   \n",
       "2   41       130   204      172     1.40       1      1      0     0     1   \n",
       "3   56       120   236      178     0.80       1      0      1     0     1   \n",
       "4   57       120   354      163     0.60       1      1      0     1     0   \n",
       "\n",
       "   ...  slp_2  caa_0  caa_1  caa_2  caa_3  caa_4  thal_0  thal_1  thal_2  \\\n",
       "0  ...      0      1      0      0      0      0       0       1       0   \n",
       "1  ...      0      1      0      0      0      0       0       0       1   \n",
       "2  ...      1      1      0      0      0      0       0       0       1   \n",
       "3  ...      1      1      0      0      0      0       0       0       1   \n",
       "4  ...      1      1      0      0      0      0       0       0       1   \n",
       "\n",
       "   thal_3  \n",
       "0       0  \n",
       "1       0  \n",
       "2       0  \n",
       "3       0  \n",
       "4       0  \n",
       "\n",
       "[5 rows x 31 columns]"
      ]
     },
     "execution_count": 347,
     "metadata": {},
     "output_type": "execute_result"
    }
   ],
   "source": [
    "# converting categorical variables into dummy values\n",
    "categorical_val = [\"sex\", \"cp\", \"fbs\", \"restecg\", \"exang\", \"slp\", \"caa\", \"thal\"]\n",
    "updatedPatients = pd.get_dummies(patients, columns = categorical_val)\n",
    "updatedPatients.head()"
   ]
  },
  {
   "cell_type": "markdown",
   "id": "2cc96f95",
   "metadata": {},
   "source": [
    "#### Scale the continuous variables using `StandardScaler` from `sklearn.preprocessing` which will make learning and understanding of the problem much easier for the models."
   ]
  },
  {
   "cell_type": "code",
   "execution_count": 348,
   "id": "d1a45acc",
   "metadata": {},
   "outputs": [
    {
     "data": {
      "text/html": [
       "<div>\n",
       "<style scoped>\n",
       "    .dataframe tbody tr th:only-of-type {\n",
       "        vertical-align: middle;\n",
       "    }\n",
       "\n",
       "    .dataframe tbody tr th {\n",
       "        vertical-align: top;\n",
       "    }\n",
       "\n",
       "    .dataframe thead th {\n",
       "        text-align: right;\n",
       "    }\n",
       "</style>\n",
       "<table border=\"1\" class=\"dataframe\">\n",
       "  <thead>\n",
       "    <tr style=\"text-align: right;\">\n",
       "      <th></th>\n",
       "      <th>age</th>\n",
       "      <th>trestbps</th>\n",
       "      <th>chol</th>\n",
       "      <th>thalach</th>\n",
       "      <th>oldpeak</th>\n",
       "      <th>output</th>\n",
       "      <th>sex_0</th>\n",
       "      <th>sex_1</th>\n",
       "      <th>cp_0</th>\n",
       "      <th>cp_1</th>\n",
       "      <th>...</th>\n",
       "      <th>slp_2</th>\n",
       "      <th>caa_0</th>\n",
       "      <th>caa_1</th>\n",
       "      <th>caa_2</th>\n",
       "      <th>caa_3</th>\n",
       "      <th>caa_4</th>\n",
       "      <th>thal_0</th>\n",
       "      <th>thal_1</th>\n",
       "      <th>thal_2</th>\n",
       "      <th>thal_3</th>\n",
       "    </tr>\n",
       "  </thead>\n",
       "  <tbody>\n",
       "    <tr>\n",
       "      <th>0</th>\n",
       "      <td>0.95</td>\n",
       "      <td>0.76</td>\n",
       "      <td>-0.26</td>\n",
       "      <td>0.02</td>\n",
       "      <td>1.08</td>\n",
       "      <td>1</td>\n",
       "      <td>0</td>\n",
       "      <td>1</td>\n",
       "      <td>0</td>\n",
       "      <td>0</td>\n",
       "      <td>...</td>\n",
       "      <td>0</td>\n",
       "      <td>1</td>\n",
       "      <td>0</td>\n",
       "      <td>0</td>\n",
       "      <td>0</td>\n",
       "      <td>0</td>\n",
       "      <td>0</td>\n",
       "      <td>1</td>\n",
       "      <td>0</td>\n",
       "      <td>0</td>\n",
       "    </tr>\n",
       "    <tr>\n",
       "      <th>1</th>\n",
       "      <td>-1.93</td>\n",
       "      <td>-0.09</td>\n",
       "      <td>0.07</td>\n",
       "      <td>1.64</td>\n",
       "      <td>2.12</td>\n",
       "      <td>1</td>\n",
       "      <td>0</td>\n",
       "      <td>1</td>\n",
       "      <td>0</td>\n",
       "      <td>0</td>\n",
       "      <td>...</td>\n",
       "      <td>0</td>\n",
       "      <td>1</td>\n",
       "      <td>0</td>\n",
       "      <td>0</td>\n",
       "      <td>0</td>\n",
       "      <td>0</td>\n",
       "      <td>0</td>\n",
       "      <td>0</td>\n",
       "      <td>1</td>\n",
       "      <td>0</td>\n",
       "    </tr>\n",
       "    <tr>\n",
       "      <th>2</th>\n",
       "      <td>-1.49</td>\n",
       "      <td>-0.09</td>\n",
       "      <td>-0.82</td>\n",
       "      <td>0.98</td>\n",
       "      <td>0.31</td>\n",
       "      <td>1</td>\n",
       "      <td>1</td>\n",
       "      <td>0</td>\n",
       "      <td>0</td>\n",
       "      <td>1</td>\n",
       "      <td>...</td>\n",
       "      <td>1</td>\n",
       "      <td>1</td>\n",
       "      <td>0</td>\n",
       "      <td>0</td>\n",
       "      <td>0</td>\n",
       "      <td>0</td>\n",
       "      <td>0</td>\n",
       "      <td>0</td>\n",
       "      <td>1</td>\n",
       "      <td>0</td>\n",
       "    </tr>\n",
       "    <tr>\n",
       "      <th>3</th>\n",
       "      <td>0.17</td>\n",
       "      <td>-0.66</td>\n",
       "      <td>-0.20</td>\n",
       "      <td>1.24</td>\n",
       "      <td>-0.21</td>\n",
       "      <td>1</td>\n",
       "      <td>0</td>\n",
       "      <td>1</td>\n",
       "      <td>0</td>\n",
       "      <td>1</td>\n",
       "      <td>...</td>\n",
       "      <td>1</td>\n",
       "      <td>1</td>\n",
       "      <td>0</td>\n",
       "      <td>0</td>\n",
       "      <td>0</td>\n",
       "      <td>0</td>\n",
       "      <td>0</td>\n",
       "      <td>0</td>\n",
       "      <td>1</td>\n",
       "      <td>0</td>\n",
       "    </tr>\n",
       "    <tr>\n",
       "      <th>4</th>\n",
       "      <td>0.29</td>\n",
       "      <td>-0.66</td>\n",
       "      <td>2.08</td>\n",
       "      <td>0.59</td>\n",
       "      <td>-0.38</td>\n",
       "      <td>1</td>\n",
       "      <td>1</td>\n",
       "      <td>0</td>\n",
       "      <td>1</td>\n",
       "      <td>0</td>\n",
       "      <td>...</td>\n",
       "      <td>1</td>\n",
       "      <td>1</td>\n",
       "      <td>0</td>\n",
       "      <td>0</td>\n",
       "      <td>0</td>\n",
       "      <td>0</td>\n",
       "      <td>0</td>\n",
       "      <td>0</td>\n",
       "      <td>1</td>\n",
       "      <td>0</td>\n",
       "    </tr>\n",
       "  </tbody>\n",
       "</table>\n",
       "<p>5 rows × 31 columns</p>\n",
       "</div>"
      ],
      "text/plain": [
       "    age  trestbps  chol  thalach  oldpeak  output  sex_0  sex_1  cp_0  cp_1  \\\n",
       "0  0.95      0.76 -0.26     0.02     1.08       1      0      1     0     0   \n",
       "1 -1.93     -0.09  0.07     1.64     2.12       1      0      1     0     0   \n",
       "2 -1.49     -0.09 -0.82     0.98     0.31       1      1      0     0     1   \n",
       "3  0.17     -0.66 -0.20     1.24    -0.21       1      0      1     0     1   \n",
       "4  0.29     -0.66  2.08     0.59    -0.38       1      1      0     1     0   \n",
       "\n",
       "   ...  slp_2  caa_0  caa_1  caa_2  caa_3  caa_4  thal_0  thal_1  thal_2  \\\n",
       "0  ...      0      1      0      0      0      0       0       1       0   \n",
       "1  ...      0      1      0      0      0      0       0       0       1   \n",
       "2  ...      1      1      0      0      0      0       0       0       1   \n",
       "3  ...      1      1      0      0      0      0       0       0       1   \n",
       "4  ...      1      1      0      0      0      0       0       0       1   \n",
       "\n",
       "   thal_3  \n",
       "0       0  \n",
       "1       0  \n",
       "2       0  \n",
       "3       0  \n",
       "4       0  \n",
       "\n",
       "[5 rows x 31 columns]"
      ]
     },
     "execution_count": 348,
     "metadata": {},
     "output_type": "execute_result"
    }
   ],
   "source": [
    "#  continous variables are scaled here\n",
    "standardScaler = StandardScaler()\n",
    "updatedPatients[continuous_val] = standardScaler.fit_transform(updatedPatients[continuous_val])\n",
    "updatedPatients.head()"
   ]
  },
  {
   "cell_type": "markdown",
   "id": "4e1c34c6",
   "metadata": {},
   "source": [
    "## Model Building\n",
    "\n",
    "\n",
    "#### Splitting the dataset into training and validation sets and,  `train_test_split` method from `sklearn.model_selection` used here."
   ]
  },
  {
   "cell_type": "code",
   "execution_count": 349,
   "id": "7f42b49d",
   "metadata": {},
   "outputs": [],
   "source": [
    "# splitting the data into training and validation sets\n",
    "X = updatedPatients.drop('output', axis=1)\n",
    "y = updatedPatients.output\n",
    "\n",
    "X_train, X_test, y_train, y_test = train_test_split(X, y, test_size=0.2, random_state=42)"
   ]
  },
  {
   "cell_type": "markdown",
   "id": "e4e3fa33",
   "metadata": {},
   "source": [
    "## Training the Model with Hyperparameter Tuning\n",
    "\n",
    "\n",
    "#### Here, a Machine learning algorithm is used to check its accuracy"
   ]
  },
  {
   "cell_type": "markdown",
   "id": "ba22249e",
   "metadata": {},
   "source": [
    "### Support Vector Machine with Hyperparameter Tuning"
   ]
  },
  {
   "cell_type": "code",
   "execution_count": 350,
   "id": "5fa3e50e",
   "metadata": {},
   "outputs": [
    {
     "name": "stdout",
     "output_type": "stream",
     "text": [
      "Fitting 3 folds for each of 108 candidates, totalling 324 fits\n",
      "{'C': 1, 'gamma': 0.1, 'kernel': 'rbf'}\n",
      "SVC(C=1, gamma=0.1)\n",
      "              precision    recall  f1-score   support\n",
      "\n",
      "           0       0.88      0.97      0.92        29\n",
      "           1       0.97      0.88      0.92        32\n",
      "\n",
      "    accuracy                           0.92        61\n",
      "   macro avg       0.92      0.92      0.92        61\n",
      "weighted avg       0.92      0.92      0.92        61\n",
      "\n"
     ]
    },
    {
     "data": {
      "text/markdown": [
       "#### The highest accuracy of `92`% is achieved from this algorithm by assigning following values for C and gamma : <br><br> C = 1 <br> gamma = 0.1 <br> kernel = rbf"
      ],
      "text/plain": [
       "<IPython.core.display.Markdown object>"
      ]
     },
     "execution_count": 350,
     "metadata": {},
     "output_type": "execute_result"
    }
   ],
   "source": [
    "# defining parameter range\n",
    "param_grid = {'C': [0.01, 0.1, 1, 10, 100, 100],\n",
    "              'gamma': [0.0001, 0.001, 0.01, 0.1, 1, 10],\n",
    "              'kernel': ['linear', 'poly', 'rbf']}\n",
    "\n",
    "#grid = GridSearchCV(SVC(), param_grid, refit = True, verbose = 3)\n",
    "grid = GridSearchCV(SVC(), param_grid, cv = 3, refit = True, verbose = True, n_jobs=-1)\n",
    "\n",
    "# fitting the model for grid search\n",
    "grid.fit(X_train, y_train)\n",
    "\n",
    "# print best parameter after tuning\n",
    "print(grid.best_params_)\n",
    " \n",
    "# print how our model looks after hyper-parameter tuning\n",
    "print(grid.best_estimator_)\n",
    "\n",
    "grid_predictions = grid.predict(X_test)\n",
    " \n",
    "# print classification report\n",
    "print(classification_report(y_test, grid_predictions))\n",
    "\n",
    "#assign values to output accuracy as a percentage\n",
    "report = classification_report(y_test,grid_predictions,output_dict=True)\n",
    "accuracy = report['accuracy']\n",
    "md(f\"#### The highest accuracy of `{int(round(accuracy, 2)*100)}`% is achieved from this algorithm by assigning following values for C and gamma : <br><br> C = 1 <br> gamma = 0.1 <br> kernel = rbf\")"
   ]
  }
 ],
 "metadata": {
  "interpreter": {
   "hash": "8d78d38485a20d3342aa4697fd9fc36d3234259b9882e6c0b69d27603c5a90a7"
  },
  "kernelspec": {
   "display_name": "Python 3.9.7 ('base')",
   "language": "python",
   "name": "python3"
  },
  "language_info": {
   "codemirror_mode": {
    "name": "ipython",
    "version": 3
   },
   "file_extension": ".py",
   "mimetype": "text/x-python",
   "name": "python",
   "nbconvert_exporter": "python",
   "pygments_lexer": "ipython3",
   "version": "3.9.7"
  }
 },
 "nbformat": 4,
 "nbformat_minor": 5
}
