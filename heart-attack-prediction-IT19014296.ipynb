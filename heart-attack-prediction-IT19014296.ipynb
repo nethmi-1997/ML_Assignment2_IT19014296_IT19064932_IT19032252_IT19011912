{
 "cells": [
  {
   "cell_type": "code",
   "execution_count": 1,
   "metadata": {},
   "outputs": [
    {
     "data": {
      "text/html": [
       "<style>\n",
       "table {align:left; display:block}\n",
       "</style>\n"
      ],
      "text/plain": [
       "<IPython.core.display.HTML object>"
      ]
     },
     "metadata": {},
     "output_type": "display_data"
    }
   ],
   "source": [
    "%%html\n",
    "<style>\n",
    "table {align:left; display:block}\n",
    "</style>"
   ]
  },
  {
   "cell_type": "markdown",
   "metadata": {},
   "source": [
    "# Analysing and Predicting Heart Attacks using Clinical Parameters of Patients\n",
    "\n",
    "\n",
    "## Data Dictionary\n",
    "\n",
    "Below mentioned are several clinical parameters which would be required when moving forward. This section will clearly define what the particular variables stand for and what it explains where necessary.\n",
    "\n",
    "1. `age` - Age (in years)\n",
    "\n",
    "\n",
    "2. `sex` - Gender\n",
    "    * `0`: Female\n",
    "    * `1`: Male\n",
    "\n",
    "\n",
    "3. `cp` - Type of chest pain\n",
    "    * `0`: `Typical Angina`: It is a substernal chest pain which is provoked due to physical exertion or emotional stress, and relieved by nitroglycerine or rest (or both).\n",
    "    * `1`: `Atypical Angina`: It is a condition where a person experiences a chest pain which does not meet the criteria for Angina. Angina chest pain can be defined as a pressure or squeezing like sensation, that is typically caused when the coronary heart muscles does not receive the sufficient amount of oxygenated blood.\n",
    "    * `2`: `Non-Anginal Pain`: It is a type of chest pain which resembles a chest pain in people who does not have any heart disease. It is also known as \"Non-cardiac chest pain.\"\n",
    "    * `3`: `Asymptomatic`: It is the condition which has transient symptoms / few to no symptoms / symptoms that are unrecognisable as a heart attack. It is also known as \"Silent heart attack.\"\n",
    "\n",
    "\n",
    "\n",
    "4. `trestbps` - Resting / Normal blood pressure of a person (measured in mmHg)\n",
    "\n",
    "\n",
    "| BLOOD PRESSURE CATEGORY | SYSTOLIC mm Hg | DIASTOLIC mm Hg |\n",
    "| :- | :-: | :-: |\n",
    "| NORMAL | LESS THAN 120 | LESS THAN 80 |\n",
    "| ELEVATED | 120-129 | LESS THAN 80 |\n",
    "| HIGH BLOOD PRESSURE (HYPERTENSION) STAGE 1 | 130-139 | 80-89 |\n",
    "| HIGH BLOOD PRESSURE (HYPERTENSION) STAGE 2 | 140 OR HIGHER | 90 OR HIGHER |\n",
    "| HYPERTENSIVE CRISIS | HIGHER THAN 180 | HIGHER THAN 120 |\n",
    "\n",
    "\n",
    "5. `chol` - Cholesterol (measured in mg/dl)\n",
    "\n",
    "\n",
    "6. `fbs` - Fasting blood sugar > 120 mg/dl\n",
    "    * `0`: False\n",
    "    * `1`: True\n",
    "    \n",
    "    \n",
    "7. `restecg` - Resting electrocardiographic results\n",
    "    * 0: Normal\n",
    "    * 1: Has ST-T Wave abnormality\n",
    "    * 2: Has or shows signs of left ventricular hypertrophy\n",
    "\n",
    "\n",
    "8. `thalach` - The maximum heart rate achieved\n",
    "\n",
    "\n",
    "9. `exang` - Exercise induced Angina\n",
    "    * `0`: No\n",
    "    * `1`: Yes\n",
    "\n",
    "\n",
    "10. `oldpeak` - The previous peak\n",
    "\n",
    "\n",
    "11. `slp` - Slope of the exercise induced ST segment\n",
    "    * `0`: `Upsloping`: Heart rate becomes better with exercise\n",
    "    * `1`: `Flatsloping`: Healthy heart with barely any change\n",
    "    * `2`: `Downsloping`: Unhealthy heart\n",
    "\n",
    "\n",
    "12. `caa` - Number of major vessels (0-4)\n",
    "\n",
    "\n",
    "13. `thal` - Result of thallium stress test (0-3)\n",
    "\n",
    "\n",
    "14. `output` - Has had a heart attack or not\n",
    "    * `0`: No\n",
    "    * `1`: Yes"
   ]
  },
  {
   "cell_type": "markdown",
   "metadata": {},
   "source": [
    "# Import Libraries"
   ]
  },
  {
   "cell_type": "code",
   "execution_count": null,
   "metadata": {},
   "outputs": [],
   "source": [
    "import sys\n",
    "!{sys.executable} -m pip install xgboost\n",
    "!{sys.executable} -m pip install hvplot\n",
    "import seaborn as sns\n",
    "import numpy as np\n",
    "import pandas as pd\n",
    "import matplotlib.pyplot as plt\n",
    "from sklearn.model_selection import train_test_split\n",
    "from sklearn.model_selection import GridSearchCV\n",
    "from sklearn.preprocessing import StandardScaler \n",
    "from sklearn.svm import SVC\n",
    "from sklearn.linear_model import LogisticRegression\n",
    "import xgboost as xgb\n",
    "from sklearn.metrics import accuracy_score\n",
    "from sklearn.neighbors import KNeighborsClassifier  \n",
    "from sklearn.ensemble import RandomForestRegressor\n",
    "from sklearn.neighbors import KNeighborsClassifier\n",
    "from sklearn.naive_bayes import BernoulliNB\n",
    "from sklearn.naive_bayes import GaussianNB\n",
    "from sklearn.metrics import confusion_matrix, classification_report\n",
    "from sklearn.tree import DecisionTreeClassifier\n",
    "from sklearn.ensemble import RandomForestClassifier\n",
    "\n",
    "import hvplot.pandas\n",
    "from IPython.display import Markdown as md\n",
    "\n",
    "import warnings\n",
    "warnings.filterwarnings(\"ignore\", category=DeprecationWarning)"
   ]
  },
  {
   "cell_type": "code",
   "execution_count": 3,
   "metadata": {},
   "outputs": [],
   "source": [
    "# loading the dataset (patients.csv) file and assigning to the 'patients' variable\n",
    "patients=pd.read_csv('patients.csv')"
   ]
  },
  {
   "cell_type": "markdown",
   "id": "3c5b330d",
   "metadata": {},
   "source": [
    "## Exploratory Data Analysis (EDA)"
   ]
  },
  {
   "cell_type": "code",
   "execution_count": null,
   "id": "b726f2fc",
   "metadata": {},
   "outputs": [],
   "source": [
    "# display data types \n",
    "patients.info()"
   ]
  },
  {
   "cell_type": "code",
   "execution_count": null,
   "id": "43f8fb4b",
   "metadata": {},
   "outputs": [],
   "source": [
    "#  null values are checked in this step\n",
    "patients.isnull().sum()"
   ]
  },
  {
   "cell_type": "code",
   "execution_count": null,
   "id": "56ed54fe",
   "metadata": {},
   "outputs": [],
   "source": [
    "#  null values are checked in this step\n",
    "patients.isnull().sum()"
   ]
  },
  {
   "cell_type": "code",
   "execution_count": null,
   "id": "c6c56a38",
   "metadata": {},
   "outputs": [],
   "source": [
    "# find whether records are duplicated\n",
    "patients[patients.duplicated()]"
   ]
  },
  {
   "cell_type": "code",
   "execution_count": null,
   "id": "48769c61",
   "metadata": {},
   "outputs": [],
   "source": [
    "# removing duplicates from the data frame\n",
    "patients.drop_duplicates(keep='first',inplace=True)"
   ]
  },
  {
   "cell_type": "code",
   "execution_count": null,
   "id": "b880a269",
   "metadata": {},
   "outputs": [],
   "source": [
    "# the dataset is re-analyze in this step\n",
    "print(\"This dataset consists of \" + str(patients.shape[0]) + \" rows\")"
   ]
  },
  {
   "cell_type": "code",
   "execution_count": null,
   "id": "fe564322",
   "metadata": {},
   "outputs": [],
   "source": [
    "# setting the floating value to 2 decimal places\n",
    "pd.set_option(\"display.float\", \"{:.2f}\".format)\n",
    "\n",
    "# assign the coloumn names of the continuous variables(skip categorical variables as no any useful information is given)\n",
    "#this will be use to generate statistical summary\n",
    "continuous_val = [\"age\",\"trestbps\",\"chol\",\"thalach\",\"oldpeak\"]\n",
    "patients[continuous_val].describe()"
   ]
  },
  {
   "cell_type": "code",
   "execution_count": null,
   "id": "6c898553",
   "metadata": {},
   "outputs": [],
   "source": [
    "# plot the number of patients who have suffered a heart attack and who have not\n",
    "patients.output.value_counts().hvplot.bar(\n",
    "    title=\"Number of patients who have suffered a heart attack (1) vs who have not (0)\", \n",
    "    xlabel='patients who suffered a Heart Attack', \n",
    "    ylabel='Count', \n",
    "    width=640\n",
    ")"
   ]
  },
  {
   "cell_type": "code",
   "execution_count": null,
   "id": "4541edb7",
   "metadata": {},
   "outputs": [],
   "source": [
    "md(f\"#### The above graph depicts that {patients.output.value_counts()[1]} patients out of {patients.shape[0]} have suffered from a heart attack, while the remaining {patients.output.value_counts()[0]} have not.\")"
   ]
  },
  {
   "cell_type": "markdown",
   "id": "c2db602e",
   "metadata": {},
   "source": [
    "### Plot the Graphs depecting the number of patients who have suffered from a heart attack and those who have not, against the categorical variables "
   ]
  },
  {
   "cell_type": "code",
   "execution_count": null,
   "id": "68686d35",
   "metadata": {},
   "outputs": [],
   "source": [
    "# graph displaying heart attacks vs sex\n",
    "sex_output_ct=pd.crosstab(patients.sex,patients.output) \n",
    "sex_output_plot = sex_output_ct.plot(kind='bar', stacked=True)\n",
    "sex_output_plot.legend(title='output', bbox_to_anchor=(1, 1), loc='upper left')\n",
    "for var in sex_output_plot.containers:\n",
    "    sex_output_plot.bar_label(var, label_type='center')\n",
    "plt.title('Heart Attacks vs Sex ') \n",
    "plt.show()"
   ]
  }
 ],
 "metadata": {
  "kernelspec": {
   "display_name": "Python 3 (ipykernel)",
   "language": "python",
   "name": "python3"
  },
  "language_info": {
   "codemirror_mode": {
    "name": "ipython",
    "version": 3
   },
   "file_extension": ".py",
   "mimetype": "text/x-python",
   "name": "python",
   "nbconvert_exporter": "python",
   "pygments_lexer": "ipython3",
   "version": "3.9.7"
  }
 },
 "nbformat": 4,
 "nbformat_minor": 5
}
