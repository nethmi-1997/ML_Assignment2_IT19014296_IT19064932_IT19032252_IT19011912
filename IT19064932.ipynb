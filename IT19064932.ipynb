{
 "cells": [
  {
   "cell_type": "code",
   "execution_count": 72,
   "id": "17bc7b71",
   "metadata": {},
   "outputs": [
    {
     "data": {
      "text/html": [
       "<style>\n",
       "table {align:left; display:block}\n",
       "</style>\n"
      ],
      "text/plain": [
       "<IPython.core.display.HTML object>"
      ]
     },
     "metadata": {},
     "output_type": "display_data"
    }
   ],
   "source": [
    "%%html\n",
    "<style>\n",
    "table {align:left; display:block}\n",
    "</style>"
   ]
  },
  {
   "cell_type": "markdown",
   "id": "ceadcc4d",
   "metadata": {},
   "source": [
    "# Analysing and Predicting Heart Attacks using Clinical Parameters of Patients\n",
    "\n",
    "\n",
    "## Data Dictionary\n",
    "\n",
    "Let us familiarise ourselves with the clinical parameters before moving foward. The variable names used below (left) will be explained in detail and what each value within that variable stands for.\n",
    "\n",
    "1. `age` - age in years\n",
    "\n",
    "\n",
    "2. `sex` - gender\n",
    "    * `0`: female\n",
    "    * `1`: male\n",
    "\n",
    "\n",
    "3. `cp` - type of chest pain\n",
    "    * `0`: `Typical Angina`: chest pain caused by emotional stress or physical exertion and relieved by nitroglycerin or rest\n",
    "    * `1`: `Atypical Angina`: chest pain that does not meet the critiria of Angina.Angina is a squeezing or pressure like sensation that is caused when the heart muscles do not get sufficient supply of oxygenated blood.\n",
    "    * `2`: `Non-Anginal Pain`: chest pain that resembles Angina in patients that do not have heart diseases\n",
    "    * `3`: `Asymptomatic`: also known as a  silent heart attack that has very few to no symptoms, or symptoms one does not recognise as a heart attack\n",
    "\n",
    "\n",
    "\n",
    "4. `trestbps` - resting/normal blood pressure (measured in mmHg)\n",
    "\n",
    "\n",
    "| BLOOD PRESSURE CATEGORY | SYSTOLIC mm Hg | DIASTOLIC mm Hg |\n",
    "| :- | :-: | :-: |\n",
    "| NORMAL | LESS THAN 120 | LESS THAN 80 |\n",
    "| ELEVATED | 120-129 | LESS THAN 80 |\n",
    "| HIGH BLOOD PRESSURE (HYPERTENSION) STAGE 1 | 130-139 | 80-89 |\n",
    "| HIGH BLOOD PRESSURE (HYPERTENSION) STAGE 2 | 140 OR HIGHER | 90 OR HIGHER |\n",
    "| HYPERTENSIVE CRISIS | HIGHER THAN 180 | HIGHER THAN 120 |\n",
    "\n",
    "\n",
    "5. `chol` - cholesterol (measured in mg/dl)\n",
    "\n",
    "\n",
    "6. `fbs` - fasting blood sugar > 120 mg/dl\n",
    "    * `0`: false\n",
    "    * `1`: true\n",
    "    \n",
    "    \n",
    "7. `restecg` - resting electrocardiographic results\n",
    "    * 0: Normal\n",
    "    * 1: has ST-T Wave abnormality\n",
    "    * 2: has or shows signs of left ventricular hypertrophy\n",
    "\n",
    "\n",
    "8. `thalach` - the maximum heart rate that was achieved\n",
    "\n",
    "\n",
    "9. `exang` - Angina induced through exercise\n",
    "    * `0`: no\n",
    "    * `1`: yes\n",
    "\n",
    "10. `oldpeak` - the previous peak\n",
    "\n",
    "\n",
    "11. `slp` - slope of the exercise induced ST segment\n",
    "    * `0`: `Upsloping`: heart rate becomes better with exercise\n",
    "    * `1`: `Flatsloping`: healthy heart with barely any change\n",
    "    * `2`: `Downsloping`: unhealthy heart\n",
    "\n",
    "\n",
    "12. `caa` - number of major vessels (0-4)\n",
    "\n",
    "\n",
    "13. `thal` - result of thalium stress test (0-3)\n",
    "\n",
    "\n",
    "14. `output` - has had a heart attack or not\n",
    "    * `0`: no\n",
    "    * `1`: yes"
   ]
  },
  {
   "cell_type": "code",
   "execution_count": 73,
   "id": "25fc12fb",
   "metadata": {},
   "outputs": [
    {
     "name": "stdout",
     "output_type": "stream",
     "text": [
      "Requirement already satisfied: hvplot in d:\\users\\shamikh\\anaconda3\\lib\\site-packages (0.8.0)\n",
      "Requirement already satisfied: numpy>=1.15 in d:\\users\\shamikh\\anaconda3\\lib\\site-packages (from hvplot) (1.20.3)\n",
      "Requirement already satisfied: pandas in d:\\users\\shamikh\\anaconda3\\lib\\site-packages (from hvplot) (1.3.4)\n",
      "Requirement already satisfied: colorcet>=2 in d:\\users\\shamikh\\anaconda3\\lib\\site-packages (from hvplot) (3.0.0)\n",
      "Requirement already satisfied: bokeh>=1.0.0 in d:\\users\\shamikh\\anaconda3\\lib\\site-packages (from hvplot) (2.4.1)\n",
      "Requirement already satisfied: holoviews>=1.11.0 in d:\\users\\shamikh\\anaconda3\\lib\\site-packages (from hvplot) (1.14.9)\n",
      "Requirement already satisfied: packaging in d:\\users\\shamikh\\anaconda3\\lib\\site-packages (from hvplot) (21.0)\n",
      "Requirement already satisfied: pillow>=7.1.0 in d:\\users\\shamikh\\anaconda3\\lib\\site-packages (from bokeh>=1.0.0->hvplot) (8.4.0)\n",
      "Requirement already satisfied: typing-extensions>=3.10.0 in d:\\users\\shamikh\\anaconda3\\lib\\site-packages (from bokeh>=1.0.0->hvplot) (3.10.0.2)\n",
      "Requirement already satisfied: Jinja2>=2.9 in d:\\users\\shamikh\\anaconda3\\lib\\site-packages (from bokeh>=1.0.0->hvplot) (2.11.3)\n",
      "Requirement already satisfied: tornado>=5.1 in d:\\users\\shamikh\\anaconda3\\lib\\site-packages (from bokeh>=1.0.0->hvplot) (6.1)\n",
      "Requirement already satisfied: PyYAML>=3.10 in d:\\users\\shamikh\\anaconda3\\lib\\site-packages (from bokeh>=1.0.0->hvplot) (6.0)\n",
      "Requirement already satisfied: pyct>=0.4.4 in d:\\users\\shamikh\\anaconda3\\lib\\site-packages (from colorcet>=2->hvplot) (0.4.8)\n",
      "Requirement already satisfied: param>=1.7.0 in d:\\users\\shamikh\\anaconda3\\lib\\site-packages (from colorcet>=2->hvplot) (1.12.1)\n",
      "Requirement already satisfied: pyviz-comms>=0.7.4 in d:\\users\\shamikh\\anaconda3\\lib\\site-packages (from holoviews>=1.11.0->hvplot) (2.2.0)\n",
      "Requirement already satisfied: panel>=0.8.0 in d:\\users\\shamikh\\anaconda3\\lib\\site-packages (from holoviews>=1.11.0->hvplot) (0.13.0)\n",
      "Requirement already satisfied: MarkupSafe>=0.23 in d:\\users\\shamikh\\anaconda3\\lib\\site-packages (from Jinja2>=2.9->bokeh>=1.0.0->hvplot) (1.1.1)\n",
      "Requirement already satisfied: pyparsing>=2.0.2 in d:\\users\\shamikh\\anaconda3\\lib\\site-packages (from packaging->hvplot) (3.0.4)\n",
      "Requirement already satisfied: pytz>=2017.3 in d:\\users\\shamikh\\anaconda3\\lib\\site-packages (from pandas->hvplot) (2021.3)\n",
      "Requirement already satisfied: python-dateutil>=2.7.3 in d:\\users\\shamikh\\anaconda3\\lib\\site-packages (from pandas->hvplot) (2.8.2)\n",
      "Requirement already satisfied: tqdm>=4.48.0 in d:\\users\\shamikh\\anaconda3\\lib\\site-packages (from panel>=0.8.0->holoviews>=1.11.0->hvplot) (4.62.3)\n",
      "Requirement already satisfied: bleach in d:\\users\\shamikh\\anaconda3\\lib\\site-packages (from panel>=0.8.0->holoviews>=1.11.0->hvplot) (4.0.0)\n",
      "Requirement already satisfied: requests in d:\\users\\shamikh\\anaconda3\\lib\\site-packages (from panel>=0.8.0->holoviews>=1.11.0->hvplot) (2.26.0)\n",
      "Requirement already satisfied: markdown in d:\\users\\shamikh\\anaconda3\\lib\\site-packages (from panel>=0.8.0->holoviews>=1.11.0->hvplot) (3.3.7)\n",
      "Requirement already satisfied: six>=1.5 in d:\\users\\shamikh\\anaconda3\\lib\\site-packages (from python-dateutil>=2.7.3->pandas->hvplot) (1.16.0)\n",
      "Requirement already satisfied: colorama in d:\\users\\shamikh\\anaconda3\\lib\\site-packages (from tqdm>=4.48.0->panel>=0.8.0->holoviews>=1.11.0->hvplot) (0.4.4)\n",
      "Requirement already satisfied: webencodings in d:\\users\\shamikh\\anaconda3\\lib\\site-packages (from bleach->panel>=0.8.0->holoviews>=1.11.0->hvplot) (0.5.1)\n",
      "Requirement already satisfied: importlib-metadata>=4.4 in d:\\users\\shamikh\\anaconda3\\lib\\site-packages (from markdown->panel>=0.8.0->holoviews>=1.11.0->hvplot) (4.8.1)\n",
      "Requirement already satisfied: zipp>=0.5 in d:\\users\\shamikh\\anaconda3\\lib\\site-packages (from importlib-metadata>=4.4->markdown->panel>=0.8.0->holoviews>=1.11.0->hvplot) (3.6.0)\n",
      "Requirement already satisfied: urllib3<1.27,>=1.21.1 in d:\\users\\shamikh\\anaconda3\\lib\\site-packages (from requests->panel>=0.8.0->holoviews>=1.11.0->hvplot) (1.26.7)\n",
      "Requirement already satisfied: charset-normalizer~=2.0.0 in d:\\users\\shamikh\\anaconda3\\lib\\site-packages (from requests->panel>=0.8.0->holoviews>=1.11.0->hvplot) (2.0.4)\n",
      "Requirement already satisfied: certifi>=2017.4.17 in d:\\users\\shamikh\\anaconda3\\lib\\site-packages (from requests->panel>=0.8.0->holoviews>=1.11.0->hvplot) (2021.10.8)\n",
      "Requirement already satisfied: idna<4,>=2.5 in d:\\users\\shamikh\\anaconda3\\lib\\site-packages (from requests->panel>=0.8.0->holoviews>=1.11.0->hvplot) (3.2)\n"
     ]
    }
   ],
   "source": [
    "import sys\n",
    "!{sys.executable} -m pip install hvplot\n",
    "import seaborn as sns\n",
    "import numpy as np\n",
    "import pandas as pd\n",
    "import matplotlib.pyplot as plt\n",
    "from sklearn.model_selection import train_test_split\n",
    "from sklearn.model_selection import GridSearchCV\n",
    "from sklearn.preprocessing import StandardScaler \n",
    "from sklearn.svm import SVC\n",
    "from sklearn.linear_model import LogisticRegression\n",
    "from sklearn.metrics import classification_report\n",
    "import hvplot.pandas\n",
    "# md will be used in place of print() inorder to style the statement that is printed\n",
    "from IPython.display import Markdown as md\n",
    "\n",
    "import warnings\n",
    "warnings.filterwarnings(\"ignore\", category=DeprecationWarning)"
   ]
  },
  {
   "cell_type": "code",
   "execution_count": 74,
   "id": "43274549",
   "metadata": {},
   "outputs": [],
   "source": [
    "# reading the dataset and assigning the data to the variable 'patients'\n",
    "patients=pd.read_csv('patients.csv')"
   ]
  },
  {
   "cell_type": "markdown",
   "id": "4dcd1006",
   "metadata": {},
   "source": [
    "## Exploratory Data Analysis (EDA)"
   ]
  },
  {
   "cell_type": "code",
   "execution_count": 75,
   "id": "b0f8353c",
   "metadata": {},
   "outputs": [
    {
     "data": {
      "text/markdown": [
       "#### This dataset consists of `303 rows` and `14 columns`"
      ],
      "text/plain": [
       "<IPython.core.display.Markdown object>"
      ]
     },
     "execution_count": 75,
     "metadata": {},
     "output_type": "execute_result"
    }
   ],
   "source": [
    "# printing the number of rows and columns in the dataset\n",
    "md(f\"#### This dataset consists of `{patients.shape[0]} rows` and `{patients.shape[1]} columns`\")"
   ]
  },
  {
   "cell_type": "code",
   "execution_count": 76,
   "id": "07816fc1",
   "metadata": {},
   "outputs": [
    {
     "data": {
      "text/html": [
       "<div>\n",
       "<style scoped>\n",
       "    .dataframe tbody tr th:only-of-type {\n",
       "        vertical-align: middle;\n",
       "    }\n",
       "\n",
       "    .dataframe tbody tr th {\n",
       "        vertical-align: top;\n",
       "    }\n",
       "\n",
       "    .dataframe thead th {\n",
       "        text-align: right;\n",
       "    }\n",
       "</style>\n",
       "<table border=\"1\" class=\"dataframe\">\n",
       "  <thead>\n",
       "    <tr style=\"text-align: right;\">\n",
       "      <th></th>\n",
       "      <th>age</th>\n",
       "      <th>sex</th>\n",
       "      <th>cp</th>\n",
       "      <th>trtbps</th>\n",
       "      <th>chol</th>\n",
       "      <th>fbs</th>\n",
       "      <th>restecg</th>\n",
       "      <th>thalachh</th>\n",
       "      <th>exng</th>\n",
       "      <th>oldpeak</th>\n",
       "      <th>slp</th>\n",
       "      <th>caa</th>\n",
       "      <th>thall</th>\n",
       "      <th>output</th>\n",
       "    </tr>\n",
       "  </thead>\n",
       "  <tbody>\n",
       "    <tr>\n",
       "      <th>0</th>\n",
       "      <td>63</td>\n",
       "      <td>1</td>\n",
       "      <td>3</td>\n",
       "      <td>145</td>\n",
       "      <td>233</td>\n",
       "      <td>1</td>\n",
       "      <td>0</td>\n",
       "      <td>150</td>\n",
       "      <td>0</td>\n",
       "      <td>2.30</td>\n",
       "      <td>0</td>\n",
       "      <td>0</td>\n",
       "      <td>1</td>\n",
       "      <td>1</td>\n",
       "    </tr>\n",
       "    <tr>\n",
       "      <th>1</th>\n",
       "      <td>37</td>\n",
       "      <td>1</td>\n",
       "      <td>2</td>\n",
       "      <td>130</td>\n",
       "      <td>250</td>\n",
       "      <td>0</td>\n",
       "      <td>1</td>\n",
       "      <td>187</td>\n",
       "      <td>0</td>\n",
       "      <td>3.50</td>\n",
       "      <td>0</td>\n",
       "      <td>0</td>\n",
       "      <td>2</td>\n",
       "      <td>1</td>\n",
       "    </tr>\n",
       "    <tr>\n",
       "      <th>2</th>\n",
       "      <td>41</td>\n",
       "      <td>0</td>\n",
       "      <td>1</td>\n",
       "      <td>130</td>\n",
       "      <td>204</td>\n",
       "      <td>0</td>\n",
       "      <td>0</td>\n",
       "      <td>172</td>\n",
       "      <td>0</td>\n",
       "      <td>1.40</td>\n",
       "      <td>2</td>\n",
       "      <td>0</td>\n",
       "      <td>2</td>\n",
       "      <td>1</td>\n",
       "    </tr>\n",
       "    <tr>\n",
       "      <th>3</th>\n",
       "      <td>56</td>\n",
       "      <td>1</td>\n",
       "      <td>1</td>\n",
       "      <td>120</td>\n",
       "      <td>236</td>\n",
       "      <td>0</td>\n",
       "      <td>1</td>\n",
       "      <td>178</td>\n",
       "      <td>0</td>\n",
       "      <td>0.80</td>\n",
       "      <td>2</td>\n",
       "      <td>0</td>\n",
       "      <td>2</td>\n",
       "      <td>1</td>\n",
       "    </tr>\n",
       "    <tr>\n",
       "      <th>4</th>\n",
       "      <td>57</td>\n",
       "      <td>0</td>\n",
       "      <td>0</td>\n",
       "      <td>120</td>\n",
       "      <td>354</td>\n",
       "      <td>0</td>\n",
       "      <td>1</td>\n",
       "      <td>163</td>\n",
       "      <td>1</td>\n",
       "      <td>0.60</td>\n",
       "      <td>2</td>\n",
       "      <td>0</td>\n",
       "      <td>2</td>\n",
       "      <td>1</td>\n",
       "    </tr>\n",
       "  </tbody>\n",
       "</table>\n",
       "</div>"
      ],
      "text/plain": [
       "   age  sex  cp  trtbps  chol  fbs  restecg  thalachh  exng  oldpeak  slp  \\\n",
       "0   63    1   3     145   233    1        0       150     0     2.30    0   \n",
       "1   37    1   2     130   250    0        1       187     0     3.50    0   \n",
       "2   41    0   1     130   204    0        0       172     0     1.40    2   \n",
       "3   56    1   1     120   236    0        1       178     0     0.80    2   \n",
       "4   57    0   0     120   354    0        1       163     1     0.60    2   \n",
       "\n",
       "   caa  thall  output  \n",
       "0    0      1       1  \n",
       "1    0      2       1  \n",
       "2    0      2       1  \n",
       "3    0      2       1  \n",
       "4    0      2       1  "
      ]
     },
     "execution_count": 76,
     "metadata": {},
     "output_type": "execute_result"
    }
   ],
   "source": [
    "# prints the first 5 records in the dataset\n",
    "patients.head()"
   ]
  },
  {
   "cell_type": "markdown",
   "id": "50361b6f",
   "metadata": {},
   "source": [
    "#### The first 5 records of the dataset is displayed in the above table. Looking at the table it is evident that some of the columns use categorical variables while others use continous variables. Let us list them down seperately so that we have a better idea about the values in the columns moving forward\n",
    "\n",
    "\n",
    "1. The categorial columns\n",
    "    * `sex`\n",
    "    * `cp`\n",
    "    * `fbs`\n",
    "    * `restecg`\n",
    "    * `exng`\n",
    "    * `slp`\n",
    "    * `caa`\n",
    "    * `thall`\n",
    "    * `output`\n",
    "    \n",
    "    \n",
    "2. The continuous columns\n",
    "    * `age`\n",
    "    * `trtbps`\n",
    "    * `chol`\n",
    "    * `thalachh`\n",
    "    * `oldpeak`\n",
    "    \n",
    "\n",
    "#### Next, let us look at the datatype of the attributes  in the dataset"
   ]
  },
  {
   "cell_type": "code",
   "execution_count": 77,
   "id": "450c7820",
   "metadata": {},
   "outputs": [
    {
     "name": "stdout",
     "output_type": "stream",
     "text": [
      "<class 'pandas.core.frame.DataFrame'>\n",
      "RangeIndex: 303 entries, 0 to 302\n",
      "Data columns (total 14 columns):\n",
      " #   Column    Non-Null Count  Dtype  \n",
      "---  ------    --------------  -----  \n",
      " 0   age       303 non-null    int64  \n",
      " 1   sex       303 non-null    int64  \n",
      " 2   cp        303 non-null    int64  \n",
      " 3   trtbps    303 non-null    int64  \n",
      " 4   chol      303 non-null    int64  \n",
      " 5   fbs       303 non-null    int64  \n",
      " 6   restecg   303 non-null    int64  \n",
      " 7   thalachh  303 non-null    int64  \n",
      " 8   exng      303 non-null    int64  \n",
      " 9   oldpeak   303 non-null    float64\n",
      " 10  slp       303 non-null    int64  \n",
      " 11  caa       303 non-null    int64  \n",
      " 12  thall     303 non-null    int64  \n",
      " 13  output    303 non-null    int64  \n",
      "dtypes: float64(1), int64(13)\n",
      "memory usage: 33.3 KB\n"
     ]
    }
   ],
   "source": [
    "patients.info()"
   ]
  },
  {
   "cell_type": "markdown",
   "id": "5f2f20e5",
   "metadata": {},
   "source": [
    "#### As we can see from above, all the attributes are of type `int` except  for `oldpeak`, which is of type `float`\n",
    "\n",
    "\n",
    "#### Next, let us check for any null values that might be present in the dataset"
   ]
  },
  {
   "cell_type": "code",
   "execution_count": 78,
   "id": "3d8f5913",
   "metadata": {},
   "outputs": [
    {
     "data": {
      "text/plain": [
       "age         0\n",
       "sex         0\n",
       "cp          0\n",
       "trtbps      0\n",
       "chol        0\n",
       "fbs         0\n",
       "restecg     0\n",
       "thalachh    0\n",
       "exng        0\n",
       "oldpeak     0\n",
       "slp         0\n",
       "caa         0\n",
       "thall       0\n",
       "output      0\n",
       "dtype: int64"
      ]
     },
     "execution_count": 78,
     "metadata": {},
     "output_type": "execute_result"
    }
   ],
   "source": [
    "patients.isnull().sum()"
   ]
  },
  {
   "cell_type": "markdown",
   "id": "47dbf98f",
   "metadata": {},
   "source": [
    "#### As you can see from above, there are no null values in the dataset. Next let us check for any duplicate records which might cause our model to overfit due to the bias."
   ]
  },
  {
   "cell_type": "code",
   "execution_count": 79,
   "id": "d5b3c3e0",
   "metadata": {},
   "outputs": [
    {
     "data": {
      "text/html": [
       "<div>\n",
       "<style scoped>\n",
       "    .dataframe tbody tr th:only-of-type {\n",
       "        vertical-align: middle;\n",
       "    }\n",
       "\n",
       "    .dataframe tbody tr th {\n",
       "        vertical-align: top;\n",
       "    }\n",
       "\n",
       "    .dataframe thead th {\n",
       "        text-align: right;\n",
       "    }\n",
       "</style>\n",
       "<table border=\"1\" class=\"dataframe\">\n",
       "  <thead>\n",
       "    <tr style=\"text-align: right;\">\n",
       "      <th></th>\n",
       "      <th>age</th>\n",
       "      <th>sex</th>\n",
       "      <th>cp</th>\n",
       "      <th>trtbps</th>\n",
       "      <th>chol</th>\n",
       "      <th>fbs</th>\n",
       "      <th>restecg</th>\n",
       "      <th>thalachh</th>\n",
       "      <th>exng</th>\n",
       "      <th>oldpeak</th>\n",
       "      <th>slp</th>\n",
       "      <th>caa</th>\n",
       "      <th>thall</th>\n",
       "      <th>output</th>\n",
       "    </tr>\n",
       "  </thead>\n",
       "  <tbody>\n",
       "    <tr>\n",
       "      <th>164</th>\n",
       "      <td>38</td>\n",
       "      <td>1</td>\n",
       "      <td>2</td>\n",
       "      <td>138</td>\n",
       "      <td>175</td>\n",
       "      <td>0</td>\n",
       "      <td>1</td>\n",
       "      <td>173</td>\n",
       "      <td>0</td>\n",
       "      <td>0.00</td>\n",
       "      <td>2</td>\n",
       "      <td>4</td>\n",
       "      <td>2</td>\n",
       "      <td>1</td>\n",
       "    </tr>\n",
       "  </tbody>\n",
       "</table>\n",
       "</div>"
      ],
      "text/plain": [
       "     age  sex  cp  trtbps  chol  fbs  restecg  thalachh  exng  oldpeak  slp  \\\n",
       "164   38    1   2     138   175    0        1       173     0     0.00    2   \n",
       "\n",
       "     caa  thall  output  \n",
       "164    4      2       1  "
      ]
     },
     "execution_count": 79,
     "metadata": {},
     "output_type": "execute_result"
    }
   ],
   "source": [
    "patients[patients.duplicated()]"
   ]
  },
  {
   "cell_type": "markdown",
   "id": "3e48d15f",
   "metadata": {},
   "source": [
    "#### As you can see from above, we have a record that has been duplicated. Hence, let us get rid of it before moving forward."
   ]
  },
  {
   "cell_type": "code",
   "execution_count": 80,
   "id": "9f876b13",
   "metadata": {},
   "outputs": [],
   "source": [
    "patients.drop_duplicates(keep='first',inplace=True)"
   ]
  },
  {
   "cell_type": "markdown",
   "id": "422d9705",
   "metadata": {},
   "source": [
    "#### Now let us check whether the duplicated record was removed. If it was, we should have 302 records, since we had 303 before."
   ]
  },
  {
   "cell_type": "code",
   "execution_count": 81,
   "id": "d6769666",
   "metadata": {},
   "outputs": [
    {
     "data": {
      "text/markdown": [
       "#### This dataset consists of `302` rows"
      ],
      "text/plain": [
       "<IPython.core.display.Markdown object>"
      ]
     },
     "execution_count": 81,
     "metadata": {},
     "output_type": "execute_result"
    }
   ],
   "source": [
    "md(f\"#### This dataset consists of `{patients.shape[0]}` rows\")"
   ]
  },
  {
   "cell_type": "markdown",
   "id": "8622ca9f",
   "metadata": {},
   "source": [
    "#### As you can see from above, the duplicate record has been removed.\n",
    "\n",
    "#### Now let us look at the summary of the statistics of the dataset."
   ]
  },
  {
   "cell_type": "code",
   "execution_count": 82,
   "id": "f9c4786f",
   "metadata": {},
   "outputs": [
    {
     "data": {
      "text/html": [
       "<div>\n",
       "<style scoped>\n",
       "    .dataframe tbody tr th:only-of-type {\n",
       "        vertical-align: middle;\n",
       "    }\n",
       "\n",
       "    .dataframe tbody tr th {\n",
       "        vertical-align: top;\n",
       "    }\n",
       "\n",
       "    .dataframe thead th {\n",
       "        text-align: right;\n",
       "    }\n",
       "</style>\n",
       "<table border=\"1\" class=\"dataframe\">\n",
       "  <thead>\n",
       "    <tr style=\"text-align: right;\">\n",
       "      <th></th>\n",
       "      <th>age</th>\n",
       "      <th>trtbps</th>\n",
       "      <th>chol</th>\n",
       "      <th>thalachh</th>\n",
       "      <th>oldpeak</th>\n",
       "    </tr>\n",
       "  </thead>\n",
       "  <tbody>\n",
       "    <tr>\n",
       "      <th>count</th>\n",
       "      <td>302.00</td>\n",
       "      <td>302.00</td>\n",
       "      <td>302.00</td>\n",
       "      <td>302.00</td>\n",
       "      <td>302.00</td>\n",
       "    </tr>\n",
       "    <tr>\n",
       "      <th>mean</th>\n",
       "      <td>54.42</td>\n",
       "      <td>131.60</td>\n",
       "      <td>246.50</td>\n",
       "      <td>149.57</td>\n",
       "      <td>1.04</td>\n",
       "    </tr>\n",
       "    <tr>\n",
       "      <th>std</th>\n",
       "      <td>9.05</td>\n",
       "      <td>17.56</td>\n",
       "      <td>51.75</td>\n",
       "      <td>22.90</td>\n",
       "      <td>1.16</td>\n",
       "    </tr>\n",
       "    <tr>\n",
       "      <th>min</th>\n",
       "      <td>29.00</td>\n",
       "      <td>94.00</td>\n",
       "      <td>126.00</td>\n",
       "      <td>71.00</td>\n",
       "      <td>0.00</td>\n",
       "    </tr>\n",
       "    <tr>\n",
       "      <th>25%</th>\n",
       "      <td>48.00</td>\n",
       "      <td>120.00</td>\n",
       "      <td>211.00</td>\n",
       "      <td>133.25</td>\n",
       "      <td>0.00</td>\n",
       "    </tr>\n",
       "    <tr>\n",
       "      <th>50%</th>\n",
       "      <td>55.50</td>\n",
       "      <td>130.00</td>\n",
       "      <td>240.50</td>\n",
       "      <td>152.50</td>\n",
       "      <td>0.80</td>\n",
       "    </tr>\n",
       "    <tr>\n",
       "      <th>75%</th>\n",
       "      <td>61.00</td>\n",
       "      <td>140.00</td>\n",
       "      <td>274.75</td>\n",
       "      <td>166.00</td>\n",
       "      <td>1.60</td>\n",
       "    </tr>\n",
       "    <tr>\n",
       "      <th>max</th>\n",
       "      <td>77.00</td>\n",
       "      <td>200.00</td>\n",
       "      <td>564.00</td>\n",
       "      <td>202.00</td>\n",
       "      <td>6.20</td>\n",
       "    </tr>\n",
       "  </tbody>\n",
       "</table>\n",
       "</div>"
      ],
      "text/plain": [
       "         age  trtbps   chol  thalachh  oldpeak\n",
       "count 302.00  302.00 302.00    302.00   302.00\n",
       "mean   54.42  131.60 246.50    149.57     1.04\n",
       "std     9.05   17.56  51.75     22.90     1.16\n",
       "min    29.00   94.00 126.00     71.00     0.00\n",
       "25%    48.00  120.00 211.00    133.25     0.00\n",
       "50%    55.50  130.00 240.50    152.50     0.80\n",
       "75%    61.00  140.00 274.75    166.00     1.60\n",
       "max    77.00  200.00 564.00    202.00     6.20"
      ]
     },
     "execution_count": 82,
     "metadata": {},
     "output_type": "execute_result"
    }
   ],
   "source": [
    "# setting the floating value to 2 decimal places\n",
    "pd.set_option(\"display.float\", \"{:.2f}\".format)\n",
    "# assigning the column names of the continuous variables to be used to generate the summary, since getting the statistical \n",
    "# values of the categorical variables does not give any useful information \n",
    "continuous_val = [\"age\",\"trtbps\",\"chol\",\"thalachh\",\"oldpeak\"]\n",
    "patients[continuous_val].describe()"
   ]
  },
  {
   "cell_type": "markdown",
   "id": "d7566c6c",
   "metadata": {},
   "source": [
    "#### Let us plot a graph to look at the number of patients that have had a heart attack and those who have not"
   ]
  },
  {
   "cell_type": "code",
   "execution_count": 83,
   "id": "c960fb33",
   "metadata": {},
   "outputs": [
    {
     "data": {},
     "metadata": {},
     "output_type": "display_data"
    },
    {
     "data": {
      "application/vnd.holoviews_exec.v0+json": "",
      "text/html": [
       "<div id='1486'>\n",
       "\n",
       "\n",
       "\n",
       "\n",
       "\n",
       "  <div class=\"bk-root\" id=\"73388b61-3af5-450b-8622-8b83c2448e76\" data-root-id=\"1486\"></div>\n",
       "</div>\n",
       "<script type=\"application/javascript\">(function(root) {\n",
       "  function embed_document(root) {\n",
       "    var docs_json = {\"50347b86-d43c-42b2-bae3-f5f2a84feb32\":{\"defs\":[{\"extends\":null,\"module\":null,\"name\":\"ReactiveHTML1\",\"overrides\":[],\"properties\":[]},{\"extends\":null,\"module\":null,\"name\":\"FlexBox1\",\"overrides\":[],\"properties\":[{\"default\":\"flex-start\",\"kind\":null,\"name\":\"align_content\"},{\"default\":\"flex-start\",\"kind\":null,\"name\":\"align_items\"},{\"default\":\"row\",\"kind\":null,\"name\":\"flex_direction\"},{\"default\":\"wrap\",\"kind\":null,\"name\":\"flex_wrap\"},{\"default\":\"flex-start\",\"kind\":null,\"name\":\"justify_content\"}]},{\"extends\":null,\"module\":null,\"name\":\"GridStack1\",\"overrides\":[],\"properties\":[{\"default\":\"warn\",\"kind\":null,\"name\":\"mode\"},{\"default\":null,\"kind\":null,\"name\":\"ncols\"},{\"default\":null,\"kind\":null,\"name\":\"nrows\"},{\"default\":true,\"kind\":null,\"name\":\"allow_resize\"},{\"default\":true,\"kind\":null,\"name\":\"allow_drag\"},{\"default\":[],\"kind\":null,\"name\":\"state\"}]},{\"extends\":null,\"module\":null,\"name\":\"click1\",\"overrides\":[],\"properties\":[{\"default\":\"\",\"kind\":null,\"name\":\"terminal_output\"},{\"default\":\"\",\"kind\":null,\"name\":\"debug_name\"},{\"default\":0,\"kind\":null,\"name\":\"clears\"}]},{\"extends\":null,\"module\":null,\"name\":\"TemplateActions1\",\"overrides\":[],\"properties\":[{\"default\":0,\"kind\":null,\"name\":\"open_modal\"},{\"default\":0,\"kind\":null,\"name\":\"close_modal\"}]},{\"extends\":null,\"module\":null,\"name\":\"MaterialTemplateActions1\",\"overrides\":[],\"properties\":[{\"default\":0,\"kind\":null,\"name\":\"open_modal\"},{\"default\":0,\"kind\":null,\"name\":\"close_modal\"}]}],\"roots\":{\"references\":[{\"attributes\":{\"overlay\":{\"id\":\"1512\"}},\"id\":\"1510\",\"type\":\"BoxZoomTool\"},{\"attributes\":{},\"id\":\"1531\",\"type\":\"AllLabels\"},{\"attributes\":{\"margin\":[5,5,5,5],\"name\":\"HSpacer02593\",\"sizing_mode\":\"stretch_width\"},\"id\":\"1555\",\"type\":\"Spacer\"},{\"attributes\":{},\"id\":\"1530\",\"type\":\"CategoricalTickFormatter\"},{\"attributes\":{\"callback\":null,\"renderers\":[{\"id\":\"1526\"}],\"tags\":[\"hv_created\"],\"tooltips\":[[\"index\",\"@{index}\"],[\"output\",\"@{output}\"]]},\"id\":\"1490\",\"type\":\"HoverTool\"},{\"attributes\":{\"tools\":[{\"id\":\"1490\"},{\"id\":\"1507\"},{\"id\":\"1508\"},{\"id\":\"1509\"},{\"id\":\"1510\"},{\"id\":\"1511\"}]},\"id\":\"1513\",\"type\":\"Toolbar\"},{\"attributes\":{\"axis_label\":\"Count\",\"coordinates\":null,\"formatter\":{\"id\":\"1533\"},\"group\":null,\"major_label_policy\":{\"id\":\"1534\"},\"ticker\":{\"id\":\"1504\"}},\"id\":\"1503\",\"type\":\"LinearAxis\"},{\"attributes\":{},\"id\":\"1504\",\"type\":\"BasicTicker\"},{\"attributes\":{},\"id\":\"1509\",\"type\":\"WheelZoomTool\"},{\"attributes\":{},\"id\":\"1507\",\"type\":\"SaveTool\"},{\"attributes\":{\"fill_alpha\":{\"value\":0.1},\"fill_color\":{\"value\":\"#30a2da\"},\"hatch_alpha\":{\"value\":0.1},\"hatch_color\":{\"value\":\"#30a2da\"},\"line_alpha\":{\"value\":0.1},\"top\":{\"field\":\"output\"},\"width\":{\"value\":0.8},\"x\":{\"field\":\"index\"}},\"id\":\"1524\",\"type\":\"VBar\"},{\"attributes\":{},\"id\":\"1498\",\"type\":\"LinearScale\"},{\"attributes\":{\"fill_color\":{\"value\":\"#30a2da\"},\"hatch_color\":{\"value\":\"#30a2da\"},\"top\":{\"field\":\"output\"},\"width\":{\"value\":0.8},\"x\":{\"field\":\"index\"}},\"id\":\"1523\",\"type\":\"VBar\"},{\"attributes\":{},\"id\":\"1521\",\"type\":\"Selection\"},{\"attributes\":{\"axis\":{\"id\":\"1500\"},\"coordinates\":null,\"grid_line_color\":null,\"group\":null,\"ticker\":null},\"id\":\"1502\",\"type\":\"Grid\"},{\"attributes\":{},\"id\":\"1542\",\"type\":\"UnionRenderers\"},{\"attributes\":{\"children\":[{\"id\":\"1487\"},{\"id\":\"1491\"},{\"id\":\"1555\"}],\"margin\":[0,0,0,0],\"name\":\"Row02588\",\"tags\":[\"embedded\"]},\"id\":\"1486\",\"type\":\"Row\"},{\"attributes\":{\"factors\":[\"1\",\"0\"],\"tags\":[[[\"index\",\"index\",null]]]},\"id\":\"1488\",\"type\":\"FactorRange\"},{\"attributes\":{\"bottom_units\":\"screen\",\"coordinates\":null,\"fill_alpha\":0.5,\"fill_color\":\"lightgrey\",\"group\":null,\"left_units\":\"screen\",\"level\":\"overlay\",\"line_alpha\":1.0,\"line_color\":\"black\",\"line_dash\":[4,4],\"line_width\":2,\"right_units\":\"screen\",\"syncable\":false,\"top_units\":\"screen\"},\"id\":\"1512\",\"type\":\"BoxAnnotation\"},{\"attributes\":{},\"id\":\"1533\",\"type\":\"BasicTickFormatter\"},{\"attributes\":{\"coordinates\":null,\"group\":null,\"text\":\"Number of people who have suffered a heart attack (1) vs have not (0)\",\"text_color\":\"black\",\"text_font_size\":\"12pt\"},\"id\":\"1492\",\"type\":\"Title\"},{\"attributes\":{},\"id\":\"1511\",\"type\":\"ResetTool\"},{\"attributes\":{\"source\":{\"id\":\"1520\"}},\"id\":\"1527\",\"type\":\"CDSView\"},{\"attributes\":{},\"id\":\"1501\",\"type\":\"CategoricalTicker\"},{\"attributes\":{},\"id\":\"1496\",\"type\":\"CategoricalScale\"},{\"attributes\":{\"fill_alpha\":{\"value\":0.2},\"fill_color\":{\"value\":\"#30a2da\"},\"hatch_alpha\":{\"value\":0.2},\"hatch_color\":{\"value\":\"#30a2da\"},\"line_alpha\":{\"value\":0.2},\"top\":{\"field\":\"output\"},\"width\":{\"value\":0.8},\"x\":{\"field\":\"index\"}},\"id\":\"1525\",\"type\":\"VBar\"},{\"attributes\":{\"bottom\":{\"value\":0},\"fill_alpha\":{\"value\":1.0},\"fill_color\":{\"value\":\"#30a2da\"},\"hatch_alpha\":{\"value\":1.0},\"hatch_color\":{\"value\":\"#30a2da\"},\"hatch_scale\":{\"value\":12.0},\"hatch_weight\":{\"value\":1.0},\"line_alpha\":{\"value\":1.0},\"line_cap\":{\"value\":\"butt\"},\"line_color\":{\"value\":\"black\"},\"line_dash\":{\"value\":[]},\"line_dash_offset\":{\"value\":0},\"line_join\":{\"value\":\"bevel\"},\"line_width\":{\"value\":1},\"top\":{\"field\":\"output\"},\"width\":{\"value\":0.8},\"x\":{\"field\":\"index\"}},\"id\":\"1528\",\"type\":\"VBar\"},{\"attributes\":{\"margin\":[5,5,5,5],\"name\":\"HSpacer02592\",\"sizing_mode\":\"stretch_width\"},\"id\":\"1487\",\"type\":\"Spacer\"},{\"attributes\":{\"end\":166.6,\"reset_end\":166.6,\"reset_start\":0.0,\"tags\":[[[\"output\",\"output\",null]]]},\"id\":\"1489\",\"type\":\"Range1d\"},{\"attributes\":{},\"id\":\"1534\",\"type\":\"AllLabels\"},{\"attributes\":{\"data\":{\"index\":[\"1\",\"0\"],\"output\":[164,138]},\"selected\":{\"id\":\"1521\"},\"selection_policy\":{\"id\":\"1542\"}},\"id\":\"1520\",\"type\":\"ColumnDataSource\"},{\"attributes\":{\"below\":[{\"id\":\"1500\"}],\"center\":[{\"id\":\"1502\"},{\"id\":\"1506\"}],\"height\":400,\"left\":[{\"id\":\"1503\"}],\"margin\":[5,5,5,5],\"min_border_bottom\":10,\"min_border_left\":10,\"min_border_right\":10,\"min_border_top\":10,\"renderers\":[{\"id\":\"1526\"}],\"sizing_mode\":\"fixed\",\"title\":{\"id\":\"1492\"},\"toolbar\":{\"id\":\"1513\"},\"x_range\":{\"id\":\"1488\"},\"x_scale\":{\"id\":\"1496\"},\"y_range\":{\"id\":\"1489\"},\"y_scale\":{\"id\":\"1498\"}},\"id\":\"1491\",\"subtype\":\"Figure\",\"type\":\"Plot\"},{\"attributes\":{\"coordinates\":null,\"data_source\":{\"id\":\"1520\"},\"glyph\":{\"id\":\"1523\"},\"group\":null,\"hover_glyph\":null,\"muted_glyph\":{\"id\":\"1525\"},\"nonselection_glyph\":{\"id\":\"1524\"},\"selection_glyph\":{\"id\":\"1528\"},\"view\":{\"id\":\"1527\"}},\"id\":\"1526\",\"type\":\"GlyphRenderer\"},{\"attributes\":{},\"id\":\"1508\",\"type\":\"PanTool\"},{\"attributes\":{\"axis\":{\"id\":\"1503\"},\"coordinates\":null,\"dimension\":1,\"grid_line_color\":null,\"group\":null,\"ticker\":null},\"id\":\"1506\",\"type\":\"Grid\"},{\"attributes\":{\"axis_label\":\"Has suffered a Heart Attack or Not\",\"coordinates\":null,\"formatter\":{\"id\":\"1530\"},\"group\":null,\"major_label_policy\":{\"id\":\"1531\"},\"ticker\":{\"id\":\"1501\"}},\"id\":\"1500\",\"type\":\"CategoricalAxis\"}],\"root_ids\":[\"1486\"]},\"title\":\"Bokeh Application\",\"version\":\"2.4.1\"}};\n",
       "    var render_items = [{\"docid\":\"50347b86-d43c-42b2-bae3-f5f2a84feb32\",\"root_ids\":[\"1486\"],\"roots\":{\"1486\":\"73388b61-3af5-450b-8622-8b83c2448e76\"}}];\n",
       "    root.Bokeh.embed.embed_items_notebook(docs_json, render_items);\n",
       "  }\n",
       "  if (root.Bokeh !== undefined && root.Bokeh.Panel !== undefined) {\n",
       "    embed_document(root);\n",
       "  } else {\n",
       "    var attempts = 0;\n",
       "    var timer = setInterval(function(root) {\n",
       "      if (root.Bokeh !== undefined && root.Bokeh.Panel !== undefined) {\n",
       "        clearInterval(timer);\n",
       "        embed_document(root);\n",
       "      } else if (document.readyState == \"complete\") {\n",
       "        attempts++;\n",
       "        if (attempts > 200) {\n",
       "          clearInterval(timer);\n",
       "          console.log(\"Bokeh: ERROR: Unable to run BokehJS code because BokehJS library is missing\");\n",
       "        }\n",
       "      }\n",
       "    }, 25, root)\n",
       "  }\n",
       "})(window);</script>"
      ],
      "text/plain": [
       ":Bars   [index]   (output)"
      ]
     },
     "execution_count": 83,
     "metadata": {
      "application/vnd.holoviews_exec.v0+json": {
       "id": "1486"
      }
     },
     "output_type": "execute_result"
    }
   ],
   "source": [
    "patients.output.value_counts().hvplot.bar(\n",
    "    title=\"Number of people who have suffered a heart attack (1) vs have not (0)\", \n",
    "    xlabel='Has suffered a Heart Attack or Not', \n",
    "    ylabel='Count', \n",
    "    width=600,\n",
    "    height=400\n",
    ")"
   ]
  },
  {
   "cell_type": "code",
   "execution_count": 84,
   "id": "27fa5155",
   "metadata": {},
   "outputs": [
    {
     "data": {
      "text/markdown": [
       "#### As we can see from above graph `164` patients out of `302` have suffered a heart attack, which is `54`% of the patients in the dataset. The remaining `138` have not suffered a heart attack."
      ],
      "text/plain": [
       "<IPython.core.display.Markdown object>"
      ]
     },
     "execution_count": 84,
     "metadata": {},
     "output_type": "execute_result"
    }
   ],
   "source": [
    "# calculating and assigning to a variable the percentage of patients from the dataset that have suffered a heart attack\n",
    "heart_attack_percentage = round((patients.output.value_counts()[1]/patients.shape[0])*100)\n",
    "# printing the formatted sentence\n",
    "md(f\"#### As we can see from above graph `{patients.output.value_counts()[1]}` patients out of `{patients.shape[0]}` have suffered a heart attack, which is `{heart_attack_percentage}`% of the patients in the dataset. The remaining `{patients.output.value_counts()[0]}` have not suffered a heart attack.\")"
   ]
  },
  {
   "cell_type": "markdown",
   "id": "619028df",
   "metadata": {},
   "source": [
    "### Let us plot the graphs depecting the number of people that have suffered a heart attack and those who have not, against the categorical variables "
   ]
  },
  {
   "cell_type": "code",
   "execution_count": 85,
   "id": "9de789dc",
   "metadata": {},
   "outputs": [
    {
     "data": {
      "image/png": "[encoded data removed]",
      "text/plain": [
       "<Figure size 432x288 with 1 Axes>"
      ]
     },
     "metadata": {
      "needs_background": "light"
     },
     "output_type": "display_data"
    }
   ],
   "source": [
    "# create the cross tabulation between patients sex and output (heart attack), and assign it to a variable\n",
    "sex_output_ct = pd.crosstab(patients.sex,patients.output) \n",
    "# plot a stacked bar chart using the variable created above and assigning the output to a new variable\n",
    "sex_output_plot = sex_output_ct.plot(kind = 'bar', stacked = True)\n",
    "# creating the legend for the stacked bar chart depecting the colour and values of the columns which represent the output\n",
    "sex_output_plot.legend(title = 'output', bbox_to_anchor = (1, 1), loc = 'upper left')\n",
    "# set the value of each bar to be displayed in the center of the bar\n",
    "for var in sex_output_plot.containers:\n",
    "    sex_output_plot.bar_label(var, label_type = 'center')\n",
    "# set the title of the stacked bar chart\n",
    "plt.title('Heart Attacks by Sex ') \n",
    "# display the stacked bar chart\n",
    "plt.show()"
   ]
  },
  {
   "cell_type": "code",
   "execution_count": 86,
   "id": "d57b9d97",
   "metadata": {},
   "outputs": [
    {
     "data": {
      "text/markdown": [
       "#### From above graph we can see that: <br><br> * Out of `96` female patients `72` have had a heart attack, which is around `75%` of all females <br><br> * Out of `206` male patients `92` have had a heart attack, which is around `45%` of all males"
      ],
      "text/plain": [
       "<IPython.core.display.Markdown object>"
      ]
     },
     "execution_count": 86,
     "metadata": {},
     "output_type": "execute_result"
    }
   ],
   "source": [
    "# assigning to a variable the number of females who have suffered a heart attack\n",
    "females_affected = 72\n",
    "# assigning to a variable the number of males who have suffered a heart attack\n",
    "males_affected = 92\n",
    "# calculating and assigning to a variable the percentage of females who have suffered a heart attack compared to all the female patients\n",
    "females_affected_percentage = round((females_affected/patients.sex.value_counts()[0])*100)\n",
    "# calculating and assigning to a variable the percentage of males who have suffered a heart attack compared to all the male patients\n",
    "males_affected_percentage = round((males_affected/patients.sex.value_counts()[1])*100)\n",
    "# printing the formatted sentences\n",
    "md(f\"#### From above graph we can see that: <br><br> * Out of `{patients.sex.value_counts()[0]}` female patients `{females_affected}` have had a heart attack, which is around `{females_affected_percentage}%` of all females <br><br> * Out of `{patients.sex.value_counts()[1]}` male patients `{males_affected}` have had a heart attack, which is around `{males_affected_percentage}%` of all males\")"
   ]
  },
  {
   "cell_type": "code",
   "execution_count": 87,
   "id": "4b360d66",
   "metadata": {},
   "outputs": [
    {
     "data": {
      "image/png": "[encoded data removed]",
      "text/plain": [
       "<Figure size 432x288 with 1 Axes>"
      ]
     },
     "metadata": {
      "needs_background": "light"
     },
     "output_type": "display_data"
    }
   ],
   "source": [
    "# create the cross tabulation between patients cp (chest pain type) and output (heart attack), and assign it to a variable\n",
    "cp_output_ct = pd.crosstab(patients.cp, patients.output)\n",
    "# plot a stacked bar chart using the variable created above and assigning the output to a new variable\n",
    "cp_output_plot = cp_output_ct.plot(kind = 'bar', stacked = True)\n",
    "# creating the legend for the stacked bar chart depecting the colour and values of the columns which represent the output\n",
    "cp_output_plot.legend(title = 'output', bbox_to_anchor = (1, 1), loc = 'upper left')\n",
    "# set the value of each bar to be displayed in the center of the bar\n",
    "for var in cp_output_plot.containers:\n",
    "    cp_output_plot.bar_label(var, label_type = 'center')\n",
    "# set the title of the stacked bar chart\n",
    "plt.title('Heart Attacks by Chest Pain Type ') \n",
    "# display the stacked bar chart\n",
    "plt.show()"
   ]
  },
  {
   "cell_type": "code",
   "execution_count": 88,
   "id": "19b6d07f",
   "metadata": {},
   "outputs": [
    {
     "data": {
      "text/markdown": [
       "#### From above graph we can see that: <br><br> Out of `143` patients that suffered from a Typical Angina (0), `39` have had a heart attack, which is around `27%` of all the patients that suffered a Typical Angina (0)  <br><br> Out of `50` patients that suffered from a Atypical Angina (1), `41` have had a heart attack, which is around `82%` of all the patients that suffered a Atypical Angina (1) <br><br> Out of `86` patients that suffered from a Non-Anginal Pain (2), `68` have had a heart attack, which is around `79%` of all the patients that suffered a Non-Anginal Pain (2) <br><br> Out of `23` patients that suffered from a Asymptomatic (3), `16` have had a heart attack, which is around `70%` of all the patients that suffered a Asymptomatic (3) <br><br>"
      ],
      "text/plain": [
       "<IPython.core.display.Markdown object>"
      ]
     },
     "execution_count": 88,
     "metadata": {},
     "output_type": "execute_result"
    }
   ],
   "source": [
    "# assigning to a variable the number of patients that have suffered a Typical Angina (0), who have suffered a heart attack\n",
    "affected_0 = 39\n",
    "# assigning to a variable the number of patients that have suffered an Atypical Angina (1), who have suffered a heart attack\n",
    "affected_1 = 41\n",
    "# assigning to a variable the number of patients that have suffered a Non-Anginal Pain (2), who have suffered a heart attack\n",
    "affected_2 = 68\n",
    "# assigning to a variable the number of patients that have suffered a Asymptomatic (3), who have suffered a heart attack\n",
    "affected_3 = 16\n",
    "# calculating and assigning to a variable the percentage of patients who have suffered a Typical Angina (0) and suffered a heart attack compared to all the patients that suffered a Typical Angina (0)\n",
    "affected_0_percentage = round((affected_0/patients.cp.value_counts()[0])*100)\n",
    "# calculating and assigning to a variable the percentage of patients who have suffered a Atypical Angina (1) and suffered a heart attack compared to all the patients that suffered a Atypical Angina (1)\n",
    "affected_1_percentage = round((affected_1/patients.cp.value_counts()[1])*100)\n",
    "# calculating and assigning to a variable the percentage of patients who have suffered a Non-Anginal Pain (2) and suffered a heart attack compared to all the patients that suffered a Non-Anginal Pain (2)\n",
    "affected_2_percentage = round((affected_2/patients.cp.value_counts()[2])*100)\n",
    "# calculating and assigning to a variable the percentage of patients who have suffered a Asymptomatic (3) and suffered a heart attack compared to all the patients that suffered a Asymptomatic (3)\n",
    "affected_3_percentage = round((affected_3/patients.cp.value_counts()[3])*100)\n",
    "# printing the formatted sentences\n",
    "md(f\"#### From above graph we can see that: <br><br> Out of `{patients.cp.value_counts()[0]}` patients that suffered from a Typical Angina (0), `{affected_0}` have had a heart attack, which is around `{affected_0_percentage}%` of all the patients that suffered a Typical Angina (0)  <br><br> Out of `{patients.cp.value_counts()[1]}` patients that suffered from a Atypical Angina (1), `{affected_1}` have had a heart attack, which is around `{affected_1_percentage}%` of all the patients that suffered a Atypical Angina (1) <br><br> Out of `{patients.cp.value_counts()[2]}` patients that suffered from a Non-Anginal Pain (2), `{affected_2}` have had a heart attack, which is around `{affected_2_percentage}%` of all the patients that suffered a Non-Anginal Pain (2) <br><br> Out of `{patients.cp.value_counts()[3]}` patients that suffered from a Asymptomatic (3), `{affected_3}` have had a heart attack, which is around `{affected_3_percentage}%` of all the patients that suffered a Asymptomatic (3) <br><br>\")"
   ]
  },
  {
   "cell_type": "code",
   "execution_count": 89,
   "id": "a61aff0d",
   "metadata": {},
   "outputs": [
    {
     "data": {
      "image/png": "[encoded data removed]",
      "text/plain": [
       "<Figure size 432x288 with 1 Axes>"
      ]
     },
     "metadata": {
      "needs_background": "light"
     },
     "output_type": "display_data"
    }
   ],
   "source": [
    "# create the cross tabulation between patients fbs (fasting blood sugar) and output (heart attack), and assign it to a variable\n",
    "fbs_output_ct = pd.crosstab(patients.fbs, patients.output)\n",
    "# plot a stacked bar chart using the variable created above and assigning the output to a new variable\n",
    "fbs_output_plot = fbs_output_ct.plot(kind='bar', stacked=True)\n",
    "# creating the legend for the stacked bar chart depecting the colour and values of the columns which represent the output\n",
    "fbs_output_plot.legend(title='output', bbox_to_anchor=(1, 1), loc='upper left')\n",
    "# set the value of each bar to be displayed in the center of the bar\n",
    "for var in fbs_output_plot.containers:\n",
    "    fbs_output_plot.bar_label(var, label_type='center')\n",
    "# set the title of the stacked bar chart\n",
    "plt.title('Heart Attacks by Fasting Blood Sugar')\n",
    "# display the stacked bar chart\n",
    "plt.show()"
   ]
  },
  {
   "cell_type": "code",
   "execution_count": 90,
   "id": "1c04a0c8",
   "metadata": {},
   "outputs": [
    {
     "data": {
      "text/markdown": [
       "#### From above graph we can see that: <br><br>  Out of `257` patients that had fasting blood sugar levels <= 120 mg/dl, `141` have had a heart attack, which is around `55%` of all the patients that has fasting blood sugar levels <= 120 mg/dl <br><br>  Out of `45` patients that had fasting blood sugar levels > 120 mg/dl, `23` have had a heart attack, which is around `51%` of all the patients that has fasting blood sugar levels > 120 mg/dl <br><br>"
      ],
      "text/plain": [
       "<IPython.core.display.Markdown object>"
      ]
     },
     "execution_count": 90,
     "metadata": {},
     "output_type": "execute_result"
    }
   ],
   "source": [
    "# assigning to a variable the number of patients that had fasting blood sugar levels <= 120 mg/dl and suffered a heart attack\n",
    "affected_0_fbs = 141\n",
    "# assigning to a variable the number of patients that had fasting blood sugar levels > 120 mg/dl and suffered a heart attack\n",
    "affected_1_fbs = 23\n",
    "# calculating and assigning to a variable the percentage of patients that had fasting blood sugar levels <= 120 mg/dl and suffered a heart attack compared to all the patients that had fasting blood sugar levels <= 120 mg/dl\n",
    "affected_0_fbs_percentage = round((affected_0_fbs/patients.fbs.value_counts()[0])*100)\n",
    "# calculating and assigning to a variable the percentage of patients that had fasting blood sugar levels > 120 mg/dl and suffered a heart attack compared to all the patients that had fasting blood sugar levels > 120 mg/dl\n",
    "affected_1_fbs_percentage = round((affected_1_fbs/patients.fbs.value_counts()[1])*100)\n",
    "# printing the formatted sentences\n",
    "md(f\"#### From above graph we can see that: <br><br>  Out of `{patients.fbs.value_counts()[0]}` patients that had fasting blood sugar levels <= 120 mg/dl, `{affected_0_fbs}` have had a heart attack, which is around `{affected_0_fbs_percentage}%` of all the patients that has fasting blood sugar levels <= 120 mg/dl <br><br>  Out of `{patients.fbs.value_counts()[1]}` patients that had fasting blood sugar levels > 120 mg/dl, `{affected_1_fbs}` have had a heart attack, which is around `{affected_1_fbs_percentage}%` of all the patients that has fasting blood sugar levels > 120 mg/dl <br><br>\")"
   ]
  },
  {
   "cell_type": "code",
   "execution_count": 91,
   "id": "30ffc26c",
   "metadata": {},
   "outputs": [
    {
     "data": {
      "image/png": "[encoded data removed]",
      "text/plain": [
       "<Figure size 720x720 with 1 Axes>"
      ]
     },
     "metadata": {
      "needs_background": "light"
     },
     "output_type": "display_data"
    }
   ],
   "source": [
    "# create the cross tabulation between patients restecg (resting ECG results) and output (heart attack), and assign it to a variable\n",
    "restecg_output_ct = pd.crosstab(patients.restecg, patients.output)\n",
    "# plot a stacked bar chart using the variable created above and assigning the output to a new variable\n",
    "restecg_output_plot = restecg_output_ct.plot(kind = 'bar', stacked = True, figsize = (10, 10))\n",
    "# creating the legend for the stacked bar chart depecting the colour and values of the columns which represent the output\n",
    "restecg_output_plot.legend(title = 'output', bbox_to_anchor = (1, 1), loc = 'upper left')\n",
    "# set the value of each bar to be displayed in the center of the bar\n",
    "for var in restecg_output_plot.containers:\n",
    "    restecg_output_plot.bar_label(var, label_type='center')\n",
    "# set the title of the stacked bar chart\n",
    "plt.title('Heart Attacks by Resting ECG Results')\n",
    "# display the stacked bar chart\n",
    "plt.show()"
   ]
  },
  {
   "cell_type": "code",
   "execution_count": 92,
   "id": "b9c0f734",
   "metadata": {},
   "outputs": [
    {
     "data": {
      "text/markdown": [
       "#### From above graph we can see that: <br><br>  Out of `147` patients that showed Normal (0) results from the rested ECG, `68` have had a heart attack, which is around `46%` of all the patients that showed Normal (0) results from the rested ECG <br><br> Out of `151` patients that showed ST-T Wave abnormality (1) from the rested ECG results, `95` have had a heart attack, which is around `63%` of all the patients that showed ST-T Wave abnormality (1) from the rested ECG results <br><br> Out of `4` patients that has or showed signs of left ventricular hypertrophy (2) from the rested ECG results, `1` have had a heart attack, which is around `25%` of all the patients that has or showed signs of left ventricular hypertrophy (2) from the rested ECG results <br><br>"
      ],
      "text/plain": [
       "<IPython.core.display.Markdown object>"
      ]
     },
     "execution_count": 92,
     "metadata": {},
     "output_type": "execute_result"
    }
   ],
   "source": [
    "# assigning to a variable the number of patients that showed Normal (0) results from the rested ECG and suffered a heart attack\n",
    "affected_0_restecg = 68\n",
    "# assigning to a variable the number of patients that showed ST-T Wave abnormality (1) results from the rested ECG and suffered a heart attack\n",
    "affected_1_restecg = 95\n",
    "# assigning to a variable the number of patients has or showed signs of left ventricular hypertrophy (2) results from the rested ECG and suffered a heart attack\n",
    "affected_2_restecg = 1\n",
    "# calculating and assigning to a variable the percentage of patients that showed Normal (0) results from the rested ECG and suffered a heart attack compared to all the patients that showed Normal (0) results from the rested ECG\n",
    "affected_0_restecg_percentage = round((affected_0_restecg/patients.restecg.value_counts()[0])*100)\n",
    "# calculating and assigning to a variable the percentage of patients that showed ST-T Wave abnormality (1) results from the rested ECG and suffered a heart attack compared to all the patients that showed ST-T Wave abnormality (1) results from the rested ECG\n",
    "affected_1_restecg_percentage = round((affected_1_restecg/patients.restecg.value_counts()[1])*100)\n",
    "# calculating and assigning to a variable the percentage of patients has or showed signs of left ventricular hypertrophy (2) results from the rested ECG and suffered a heart attack compared to all the patients that has or showed signs of left ventricular hypertrophy (2) results from the rested ECG\n",
    "affected_2_restecg_percentage = round((affected_2_restecg/patients.restecg.value_counts()[2])*100)\n",
    "# printing the formatted sentences\n",
    "md(f\"#### From above graph we can see that: <br><br>  Out of `{patients.restecg.value_counts()[0]}` patients that showed Normal (0) results from the rested ECG, `{affected_0_restecg}` have had a heart attack, which is around `{affected_0_restecg_percentage}%` of all the patients that showed Normal (0) results from the rested ECG <br><br> Out of `{patients.restecg.value_counts()[1]}` patients that showed ST-T Wave abnormality (1) from the rested ECG results, `{affected_1_restecg}` have had a heart attack, which is around `{affected_1_restecg_percentage}%` of all the patients that showed ST-T Wave abnormality (1) from the rested ECG results <br><br> Out of `{patients.restecg.value_counts()[2]}` patients that has or showed signs of left ventricular hypertrophy (2) from the rested ECG results, `{affected_2_restecg}` have had a heart attack, which is around `{affected_2_restecg_percentage}%` of all the patients that has or showed signs of left ventricular hypertrophy (2) from the rested ECG results <br><br>\")"
   ]
  },
  {
   "cell_type": "code",
   "execution_count": 93,
   "id": "aaf7b781",
   "metadata": {},
   "outputs": [
    {
     "data": {
      "image/png": "[encoded data removed]",
      "text/plain": [
       "<Figure size 432x288 with 1 Axes>"
      ]
     },
     "metadata": {
      "needs_background": "light"
     },
     "output_type": "display_data"
    }
   ],
   "source": [
    "# create the cross tabulation between patients exng (angina induced through exercise) and output (heart attack), and assign it to a variable\n",
    "exng_output_ct = pd.crosstab(patients.exng, patients.output)\n",
    "# plot a stacked bar chart using the variable created above and assigning the output to a new variable\n",
    "exng_output_plot = exng_output_ct.plot(kind = 'bar', stacked = True)\n",
    "# creating the legend for the stacked bar chart depecting the colour and values of the columns which represent the output\n",
    "exng_output_plot.legend(title = 'output', bbox_to_anchor = (1, 1), loc = 'upper left')\n",
    "# set the value of each bar to be displayed in the center of the bar\n",
    "for var in exng_output_plot.containers:\n",
    "    exng_output_plot.bar_label(var, label_type = 'center')\n",
    "# set the title of the stacked bar chart\n",
    "plt.title('Heart Attacks by Exercise Induced Angina')\n",
    "# display the stacked bar chart\n",
    "plt.show()"
   ]
  },
  {
   "cell_type": "code",
   "execution_count": 94,
   "id": "4e30131b",
   "metadata": {},
   "outputs": [
    {
     "data": {
      "text/markdown": [
       "#### From above graph we can see that: <br><br>   Out of `203` patients that did not show Angina induced through exercise, `141` have had a heart attack, which is around `69%` of all the patients that did not show Angina induced through exercise <br><br>  Out of `99` patients that showed Angina induced through exercise, `23` have had a heart attack, which is around `23%` of all the patients that showed Angina induced through exercise <br><br>"
      ],
      "text/plain": [
       "<IPython.core.display.Markdown object>"
      ]
     },
     "execution_count": 94,
     "metadata": {},
     "output_type": "execute_result"
    }
   ],
   "source": [
    "# assigning to a variable the number of patients that did not show Angina induced through exercise and suffered a heart attack\n",
    "affected_0_exng = 141\n",
    "# assigning to a variable the number of patients that showed Angina induced through exercise and suffered a heart attack\n",
    "affected_1_exng = 23\n",
    "# calculating and assigning to a variable the percentage of patients that did not show Angina induced through exercise and suffered a heart attack compared to all the patients that did not show Angina induced through exercise\n",
    "affected_0_exng_percentage = round((affected_0_exng/patients.exng.value_counts()[0])*100)\n",
    "# calculating and assigning to a variable the percentage of patients that showed Angina induced through exercise and suffered a heart attack compared to all the patients that showed Angina induced through exercise\n",
    "affected_1_exng_percentage = round((affected_1_exng/patients.exng.value_counts()[1])*100)\n",
    "# printing the formatted sentences\n",
    "md(f\"#### From above graph we can see that: <br><br>   Out of `{patients.exng.value_counts()[0]}` patients that did not show Angina induced through exercise, `{affected_0_exng}` have had a heart attack, which is around `{affected_0_exng_percentage}%` of all the patients that did not show Angina induced through exercise <br><br>  Out of `{patients.exng.value_counts()[1]}` patients that showed Angina induced through exercise, `{affected_1_exng}` have had a heart attack, which is around `{affected_1_exng_percentage}%` of all the patients that showed Angina induced through exercise <br><br>\")"
   ]
  },
  {
   "cell_type": "code",
   "execution_count": 95,
   "id": "f622ce8d",
   "metadata": {},
   "outputs": [
    {
     "data": {
      "image/png": "[encoded data removed]",
      "text/plain": [
       "<Figure size 432x288 with 1 Axes>"
      ]
     },
     "metadata": {
      "needs_background": "light"
     },
     "output_type": "display_data"
    }
   ],
   "source": [
    "# create the cross tabulation between slope of the exercise induced ST segment of patients and output (heart attack), and assign it to a variable\n",
    "slp_output_ct = pd.crosstab(patients.slp, patients.output)\n",
    "# plot a stacked bar chart using the variable created above and assigning the output to a new variable\n",
    "slp_output_plot = slp_output_ct.plot(kind = 'bar', stacked = True)\n",
    "# creating the legend for the stacked bar chart depecting the colour and values of the columns which represent the output\n",
    "slp_output_plot.legend(title = 'output', bbox_to_anchor = (1, 1), loc = 'upper left')\n",
    "# set the value of each bar to be displayed in the center of the bar\n",
    "for var in slp_output_plot.containers:\n",
    "    slp_output_plot.bar_label(var, label_type = 'center')\n",
    "# set the title of the stacked bar chart\n",
    "plt.title('Heart Attacks by Slope of Exercise Induced ST Segment') \n",
    "# display the stacked bar chart\n",
    "plt.show()"
   ]
  },
  {
   "cell_type": "code",
   "execution_count": 96,
   "id": "aa5519ea",
   "metadata": {},
   "outputs": [
    {
     "data": {
      "text/markdown": [
       "#### From above graph we can see that: <br><br>  Out of `21` patients with Upsloping exercise induced ST segment, `9` have had a heart attack, which is around `43%` of all the patients with Upsloping exercise induced ST segment <br><br> Out of `140` patients with Flatloping exercise induced ST segment, `49` have had a heart attack, which is around `35%` of all the patients with Flatsloping exercise induced ST segment <br><br> Out of `141` patients with Downsloping exercise induced ST segment, `106` have had a heart attack, which is around `75%` of all the patients with Downsloping exercise induced ST segment <br><br>"
      ],
      "text/plain": [
       "<IPython.core.display.Markdown object>"
      ]
     },
     "execution_count": 96,
     "metadata": {},
     "output_type": "execute_result"
    }
   ],
   "source": [
    "# assigning to a variable the number of patients with Upsloping exercise induced ST segment and suffered a heart attack\n",
    "affected_0_slp = 9\n",
    "# assigning to a variable the number of patients with Flatloping exercise induced ST segment and suffered a heart attack\n",
    "affected_1_slp = 49\n",
    "# assigning to a variable the number of patients with Downsloping exercise induced ST segment and suffered a heart attack\n",
    "affected_2_slp = 106\n",
    "# calculating and assigning to a variable the percentage of patients with Upsloping exercise induced ST segment and suffered a heart attack compared to all the patients with Upsloping exercise induced ST segment\n",
    "affected_0_slp_percentage = round((affected_0_slp/patients.slp.value_counts()[0])*100)\n",
    "# calculating and assigning to a variable the percentage of patients with Flatloping exercise induced ST segment and suffered a heart attack compared to all the patients with Flatloping exercise induced ST segment\n",
    "affected_1_slp_percentage = round((affected_1_slp/patients.slp.value_counts()[1])*100)\n",
    "# calculating and assigning to a variable the percentage of patients with Downsloping exercise induced ST segment and suffered a heart attack compared to all the patients with Downsloping exercise induced ST segment\n",
    "affected_2_slp_percentage = round((affected_2_slp/patients.slp.value_counts()[2])*100)\n",
    "# printing the formatted sentences\n",
    "md(f\"#### From above graph we can see that: <br><br>  Out of `{patients.slp.value_counts()[0]}` patients with Upsloping exercise induced ST segment, `{affected_0_slp}` have had a heart attack, which is around `{affected_0_slp_percentage}%` of all the patients with Upsloping exercise induced ST segment <br><br> Out of `{patients.slp.value_counts()[1]}` patients with Flatloping exercise induced ST segment, `{affected_1_slp}` have had a heart attack, which is around `{affected_1_slp_percentage}%` of all the patients with Flatsloping exercise induced ST segment <br><br> Out of `{patients.slp.value_counts()[2]}` patients with Downsloping exercise induced ST segment, `{affected_2_slp}` have had a heart attack, which is around `{affected_2_slp_percentage}%` of all the patients with Downsloping exercise induced ST segment <br><br>\")"
   ]
  },
  {
   "cell_type": "code",
   "execution_count": 97,
   "id": "d9670559",
   "metadata": {},
   "outputs": [
    {
     "data": {
      "image/png": "[encoded data removed]",
      "text/plain": [
       "<Figure size 936x1080 with 1 Axes>"
      ]
     },
     "metadata": {
      "needs_background": "light"
     },
     "output_type": "display_data"
    }
   ],
   "source": [
    "# create the cross tabulation between the number of Major Vessels of a patient and output (heart attack), and assign it to a variable\n",
    "caa_output_ct = pd.crosstab(patients.caa, patients.output) \n",
    "# plot a stacked bar chart using the variable created above and assigning the output to a new variable\n",
    "caa_output_plot = caa_output_ct.plot(kind = 'bar', stacked = True, figsize = (13,15))\n",
    "# creating the legend for the stacked bar chart depecting the colour and values of the columns which represent the output\n",
    "caa_output_plot.legend(title = 'output', bbox_to_anchor = (1, 1), loc = 'upper left')\n",
    "# set the value of each bar to be displayed in the center of the bar\n",
    "for var in caa_output_plot.containers:\n",
    "    caa_output_plot.bar_label(var, label_type = 'center')\n",
    "# set the title of the stacked bar chart\n",
    "plt.title('Heart Attacks by Number of Major Vessels') \n",
    "# display the stacked bar chart\n",
    "plt.show()"
   ]
  },
  {
   "cell_type": "code",
   "execution_count": 98,
   "id": "bf4bd69e",
   "metadata": {},
   "outputs": [
    {
     "data": {
      "text/markdown": [
       "#### From above graph we can see that: <br><br>  Out of `175` patients with 0 Major Vessels, `130` have had a heart attack, which is around `74%` of all the patients with 0 Major Vessels <br><br>  Out of `65` patients with 1 Major Vessels, `21` have had a heart attack, which is around `32%` of all the patients with 1 Major Vessels <br><br> Out of `38` patients with 2 Major Vessels, `7` have had a heart attack, which is around `18%` of all the patients with 2 Major Vessels <br><br>  Out of `20` patients with 3 Major Vessels, `3` have had a heart attack, which is around `15%` of all the patients with 3 Major Vessels <br><br> Out of `4` patients with 4 Major Vessels, `3` have had a heart attack, which is around `75%` of all the patients with 4 Major Vessels <br><br>"
      ],
      "text/plain": [
       "<IPython.core.display.Markdown object>"
      ]
     },
     "execution_count": 98,
     "metadata": {},
     "output_type": "execute_result"
    }
   ],
   "source": [
    "affected_0_caa = 130\n",
    "affected_1_caa = 21\n",
    "affected_2_caa = 7\n",
    "affected_3_caa = 3\n",
    "affected_4_caa = 3\n",
    "affected_0_caa_percentage = round((affected_0_caa/patients.caa.value_counts()[0])*100)\n",
    "affected_1_caa_percentage = round((affected_1_caa/patients.caa.value_counts()[1])*100)\n",
    "affected_2_caa_percentage = round((affected_2_caa/patients.caa.value_counts()[2])*100)\n",
    "affected_3_caa_percentage = round((affected_3_caa/patients.caa.value_counts()[3])*100)\n",
    "affected_4_caa_percentage = round((affected_4_caa/patients.caa.value_counts()[4])*100)\n",
    "md(f\"#### From above graph we can see that: <br><br>  Out of `{patients.caa.value_counts()[0]}` patients with 0 Major Vessels, `{affected_0_caa}` have had a heart attack, which is around `{affected_0_caa_percentage}%` of all the patients with 0 Major Vessels <br><br>  Out of `{patients.caa.value_counts()[1]}` patients with 1 Major Vessels, `{affected_1_caa}` have had a heart attack, which is around `{affected_1_caa_percentage}%` of all the patients with 1 Major Vessels <br><br> Out of `{patients.caa.value_counts()[2]}` patients with 2 Major Vessels, `{affected_2_caa}` have had a heart attack, which is around `{affected_2_caa_percentage}%` of all the patients with 2 Major Vessels <br><br>  Out of `{patients.caa.value_counts()[3]}` patients with 3 Major Vessels, `{affected_3_caa}` have had a heart attack, which is around `{affected_3_caa_percentage}%` of all the patients with 3 Major Vessels <br><br> Out of `{patients.caa.value_counts()[4]}` patients with 4 Major Vessels, `{affected_4_caa}` have had a heart attack, which is around `{affected_4_caa_percentage}%` of all the patients with 4 Major Vessels <br><br>\")"
   ]
  },
  {
   "cell_type": "code",
   "execution_count": 99,
   "id": "5d32eeb0",
   "metadata": {
    "scrolled": true
   },
   "outputs": [
    {
     "data": {
      "image/png": "[encoded data removed]",
      "text/plain": [
       "<Figure size 936x1080 with 1 Axes>"
      ]
     },
     "metadata": {
      "needs_background": "light"
     },
     "output_type": "display_data"
    }
   ],
   "source": [
    "thall_output_ct=pd.crosstab(patients.thall,patients.output) \n",
    "thall_output_plot = thall_output_ct.plot(kind='bar', stacked=True, figsize=(13,15))\n",
    "thall_output_plot.legend(title='output', bbox_to_anchor=(1, 1), loc='upper left')\n",
    "for var in thall_output_plot.containers:\n",
    "    thall_output_plot.bar_label(var, label_type='center')\n",
    "plt.title('Heart Attacks by Result of Thalium Stress') \n",
    "plt.show()"
   ]
  },
  {
   "cell_type": "code",
   "execution_count": 100,
   "id": "89f24c19",
   "metadata": {
    "scrolled": true
   },
   "outputs": [
    {
     "data": {
      "text/markdown": [
       "#### From above graph we can see that: <br><br>  Out of `2` patients with 0 as the result of the thalium stress test, `1` have had a heart attack, which is around `50%` of all the patients with 0 as the result of the thalium stress test <br><br>  Out of `18` patients with 1 as the result of the thalium stress test, `6` have had a heart attack, which is around `33%` of all the patients with 1 as the result of the thalium stress test <br><br>  Out of `165` patients with 2 as the result of the thalium stress test, `129` have had a heart attack, which is around `78%` of all the patients with 2 as the result of the thalium stress test <br><br>  Out of `117` patients with 3 as the result of the thalium stress test, `28` have had a heart attack, which is around `24%` of all the patients with 3 as the result of the thalium stress test <br><br>"
      ],
      "text/plain": [
       "<IPython.core.display.Markdown object>"
      ]
     },
     "execution_count": 100,
     "metadata": {},
     "output_type": "execute_result"
    }
   ],
   "source": [
    "affected_0_thall = 1\n",
    "affected_1_thall = 6\n",
    "affected_2_thall = 129\n",
    "affected_3_thall = 28\n",
    "affected_0_thall_percentage = round((affected_0_thall/patients.thall.value_counts()[0])*100)\n",
    "affected_1_thall_percentage = round((affected_1_thall/patients.thall.value_counts()[1])*100)\n",
    "affected_2_thall_percentage = round((affected_2_thall/patients.thall.value_counts()[2])*100)\n",
    "affected_3_thall_percentage = round((affected_3_thall/patients.thall.value_counts()[3])*100)\n",
    "md(f\"#### From above graph we can see that: <br><br>  Out of `{patients.thall.value_counts()[0]}` patients with 0 as the result of the thalium stress test, `{affected_0_thall}` have had a heart attack, which is around `{affected_0_thall_percentage}%` of all the patients with 0 as the result of the thalium stress test <br><br>  Out of `{patients.thall.value_counts()[1]}` patients with 1 as the result of the thalium stress test, `{affected_1_thall}` have had a heart attack, which is around `{affected_1_thall_percentage}%` of all the patients with 1 as the result of the thalium stress test <br><br>  Out of `{patients.thall.value_counts()[2]}` patients with 2 as the result of the thalium stress test, `{affected_2_thall}` have had a heart attack, which is around `{affected_2_thall_percentage}%` of all the patients with 2 as the result of the thalium stress test <br><br>  Out of `{patients.thall.value_counts()[3]}` patients with 3 as the result of the thalium stress test, `{affected_3_thall}` have had a heart attack, which is around `{affected_3_thall_percentage}%` of all the patients with 3 as the result of the thalium stress test <br><br>\")"
   ]
  },
  {
   "cell_type": "markdown",
   "id": "556cb9dd",
   "metadata": {},
   "source": [
    "### Noticable facts from the bar graphs plotted above:\n",
    "\n",
    "\n"
   ]
  },
  {
   "cell_type": "markdown",
   "id": "7fd12aab",
   "metadata": {},
   "source": [
    "### Correlation Matrix\n",
    "\n",
    "#### Let us plot the correlation matrix for the continuous variables"
   ]
  },
  {
   "cell_type": "code",
   "execution_count": 101,
   "id": "3b702585",
   "metadata": {},
   "outputs": [
    {
     "data": {
      "text/plain": [
       "(5.0, 0.0)"
      ]
     },
     "execution_count": 101,
     "metadata": {},
     "output_type": "execute_result"
    },
    {
     "data": {
      "image/png": "[encoded data removed]",
      "text/plain": [
       "<Figure size 936x936 with 2 Axes>"
      ]
     },
     "metadata": {
      "needs_background": "light"
     },
     "output_type": "display_data"
    }
   ],
   "source": [
    "correlation_matrix = patients[continuous_val].corr()\n",
    "fig, ax = plt.subplots(figsize=(13, 13))\n",
    "sns_heatmap = sns.heatmap(correlation_matrix,\n",
    "                 annot=True,\n",
    "                 linewidths=0.6,\n",
    "                 fmt=\".2f\",\n",
    "                 cmap=\"YlGnBu\"\n",
    "                );\n",
    "bottom, top = sns_heatmap.get_ylim()\n",
    "sns_heatmap.set_ylim(bottom, top)"
   ]
  },
  {
   "cell_type": "code",
   "execution_count": 102,
   "id": "a1d54e75",
   "metadata": {},
   "outputs": [
    {
     "data": {},
     "metadata": {},
     "output_type": "display_data"
    },
    {
     "data": {
      "application/vnd.holoviews_exec.v0+json": "",
      "text/html": [
       "<div id='1607'>\n",
       "\n",
       "\n",
       "\n",
       "\n",
       "\n",
       "  <div class=\"bk-root\" id=\"7b8f0f4e-9cd9-4bfb-9af7-b51928d45f15\" data-root-id=\"1607\"></div>\n",
       "</div>\n",
       "<script type=\"application/javascript\">(function(root) {\n",
       "  function embed_document(root) {\n",
       "    var docs_json = {\"913adb42-bda3-4dc7-8af3-52b5c7788600\":{\"defs\":[{\"extends\":null,\"module\":null,\"name\":\"ReactiveHTML1\",\"overrides\":[],\"properties\":[]},{\"extends\":null,\"module\":null,\"name\":\"FlexBox1\",\"overrides\":[],\"properties\":[{\"default\":\"flex-start\",\"kind\":null,\"name\":\"align_content\"},{\"default\":\"flex-start\",\"kind\":null,\"name\":\"align_items\"},{\"default\":\"row\",\"kind\":null,\"name\":\"flex_direction\"},{\"default\":\"wrap\",\"kind\":null,\"name\":\"flex_wrap\"},{\"default\":\"flex-start\",\"kind\":null,\"name\":\"justify_content\"}]},{\"extends\":null,\"module\":null,\"name\":\"GridStack1\",\"overrides\":[],\"properties\":[{\"default\":\"warn\",\"kind\":null,\"name\":\"mode\"},{\"default\":null,\"kind\":null,\"name\":\"ncols\"},{\"default\":null,\"kind\":null,\"name\":\"nrows\"},{\"default\":true,\"kind\":null,\"name\":\"allow_resize\"},{\"default\":true,\"kind\":null,\"name\":\"allow_drag\"},{\"default\":[],\"kind\":null,\"name\":\"state\"}]},{\"extends\":null,\"module\":null,\"name\":\"click1\",\"overrides\":[],\"properties\":[{\"default\":\"\",\"kind\":null,\"name\":\"terminal_output\"},{\"default\":\"\",\"kind\":null,\"name\":\"debug_name\"},{\"default\":0,\"kind\":null,\"name\":\"clears\"}]},{\"extends\":null,\"module\":null,\"name\":\"TemplateActions1\",\"overrides\":[],\"properties\":[{\"default\":0,\"kind\":null,\"name\":\"open_modal\"},{\"default\":0,\"kind\":null,\"name\":\"close_modal\"}]},{\"extends\":null,\"module\":null,\"name\":\"MaterialTemplateActions1\",\"overrides\":[],\"properties\":[{\"default\":0,\"kind\":null,\"name\":\"open_modal\"},{\"default\":0,\"kind\":null,\"name\":\"close_modal\"}]}],\"roots\":{\"references\":[{\"attributes\":{\"margin\":[5,5,5,5],\"name\":\"HSpacer02841\",\"sizing_mode\":\"stretch_width\"},\"id\":\"1676\",\"type\":\"Spacer\"},{\"attributes\":{},\"id\":\"1622\",\"type\":\"BasicTicker\"},{\"attributes\":{\"fill_alpha\":{\"value\":0.2},\"fill_color\":{\"value\":\"#30a2da\"},\"hatch_alpha\":{\"value\":0.2},\"hatch_color\":{\"value\":\"#30a2da\"},\"height\":{\"value\":0.8},\"line_alpha\":{\"value\":0.2},\"right\":{\"field\":\"A_0\"},\"y\":{\"field\":\"index\"}},\"id\":\"1646\",\"type\":\"HBar\"},{\"attributes\":{\"fill_color\":{\"value\":\"#30a2da\"},\"hatch_color\":{\"value\":\"#30a2da\"},\"height\":{\"value\":0.8},\"right\":{\"field\":\"A_0\"},\"y\":{\"field\":\"index\"}},\"id\":\"1644\",\"type\":\"HBar\"},{\"attributes\":{\"tools\":[{\"id\":\"1611\"},{\"id\":\"1628\"},{\"id\":\"1629\"},{\"id\":\"1630\"},{\"id\":\"1631\"},{\"id\":\"1632\"}]},\"id\":\"1634\",\"type\":\"Toolbar\"},{\"attributes\":{\"callback\":null,\"renderers\":[{\"id\":\"1647\"}],\"tags\":[\"hv_created\"],\"tooltips\":[[\"index\",\"@{index}\"],[\"0\",\"@{A_0}\"]]},\"id\":\"1611\",\"type\":\"HoverTool\"},{\"attributes\":{\"coordinates\":null,\"group\":null,\"text\":\"Correlation between Heart Attacks and Continuous Variables\",\"text_color\":\"black\",\"text_font_size\":\"12pt\"},\"id\":\"1613\",\"type\":\"Title\"},{\"attributes\":{},\"id\":\"1652\",\"type\":\"AllLabels\"},{\"attributes\":{\"margin\":[5,5,5,5],\"name\":\"HSpacer02840\",\"sizing_mode\":\"stretch_width\"},\"id\":\"1608\",\"type\":\"Spacer\"},{\"attributes\":{\"source\":{\"id\":\"1641\"}},\"id\":\"1648\",\"type\":\"CDSView\"},{\"attributes\":{\"axis_label\":\"Continuous Variables\",\"coordinates\":null,\"formatter\":{\"id\":\"1654\"},\"group\":null,\"major_label_policy\":{\"id\":\"1655\"},\"ticker\":{\"id\":\"1626\"}},\"id\":\"1625\",\"type\":\"CategoricalAxis\"},{\"attributes\":{\"coordinates\":null,\"data_source\":{\"id\":\"1641\"},\"glyph\":{\"id\":\"1644\"},\"group\":null,\"hover_glyph\":null,\"muted_glyph\":{\"id\":\"1646\"},\"nonselection_glyph\":{\"id\":\"1645\"},\"selection_glyph\":{\"id\":\"1649\"},\"view\":{\"id\":\"1648\"}},\"id\":\"1647\",\"type\":\"GlyphRenderer\"},{\"attributes\":{},\"id\":\"1626\",\"type\":\"CategoricalTicker\"},{\"attributes\":{},\"id\":\"1629\",\"type\":\"PanTool\"},{\"attributes\":{},\"id\":\"1628\",\"type\":\"SaveTool\"},{\"attributes\":{},\"id\":\"1663\",\"type\":\"UnionRenderers\"},{\"attributes\":{\"fill_alpha\":{\"value\":1.0},\"fill_color\":{\"value\":\"#30a2da\"},\"hatch_alpha\":{\"value\":1.0},\"hatch_color\":{\"value\":\"#30a2da\"},\"hatch_scale\":{\"value\":12.0},\"hatch_weight\":{\"value\":1.0},\"height\":{\"value\":0.8},\"left\":{\"value\":0},\"line_alpha\":{\"value\":1.0},\"line_cap\":{\"value\":\"butt\"},\"line_color\":{\"value\":\"black\"},\"line_dash\":{\"value\":[]},\"line_dash_offset\":{\"value\":0},\"line_join\":{\"value\":\"bevel\"},\"line_width\":{\"value\":1},\"right\":{\"field\":\"A_0\"},\"y\":{\"field\":\"index\"}},\"id\":\"1649\",\"type\":\"HBar\"},{\"attributes\":{\"axis_label\":\"Correlation\",\"coordinates\":null,\"formatter\":{\"id\":\"1651\"},\"group\":null,\"major_label_policy\":{\"id\":\"1652\"},\"ticker\":{\"id\":\"1622\"}},\"id\":\"1621\",\"type\":\"LinearAxis\"},{\"attributes\":{\"end\":0.5048651313189302,\"reset_end\":0.5048651313189302,\"reset_start\":-0.5140559205417985,\"start\":-0.5140559205417985,\"tags\":[[[\"0\",\"0\",null]]]},\"id\":\"1609\",\"type\":\"Range1d\"},{\"attributes\":{\"axis\":{\"id\":\"1621\"},\"coordinates\":null,\"grid_line_color\":null,\"group\":null,\"ticker\":null},\"id\":\"1624\",\"type\":\"Grid\"},{\"attributes\":{\"axis\":{\"id\":\"1625\"},\"coordinates\":null,\"dimension\":1,\"grid_line_color\":null,\"group\":null,\"ticker\":null},\"id\":\"1627\",\"type\":\"Grid\"},{\"attributes\":{},\"id\":\"1651\",\"type\":\"BasicTickFormatter\"},{\"attributes\":{},\"id\":\"1654\",\"type\":\"CategoricalTickFormatter\"},{\"attributes\":{\"data\":{\"A_0\":{\"__ndarray__\":\"IFOO5lFZzL8ghtB77rjCv0mN54AR2bS/jOaUHovg2j9lpV0VIHfbvw==\",\"dtype\":\"float64\",\"order\":\"little\",\"shape\":[5]},\"index\":[\"age\",\"trtbps\",\"chol\",\"thalachh\",\"oldpeak\"]},\"selected\":{\"id\":\"1642\"},\"selection_policy\":{\"id\":\"1663\"}},\"id\":\"1641\",\"type\":\"ColumnDataSource\"},{\"attributes\":{\"factors\":[\"age\",\"trtbps\",\"chol\",\"thalachh\",\"oldpeak\"],\"tags\":[[[\"index\",\"index\",null]]]},\"id\":\"1610\",\"type\":\"FactorRange\"},{\"attributes\":{\"bottom_units\":\"screen\",\"coordinates\":null,\"fill_alpha\":0.5,\"fill_color\":\"lightgrey\",\"group\":null,\"left_units\":\"screen\",\"level\":\"overlay\",\"line_alpha\":1.0,\"line_color\":\"black\",\"line_dash\":[4,4],\"line_width\":2,\"right_units\":\"screen\",\"syncable\":false,\"top_units\":\"screen\"},\"id\":\"1633\",\"type\":\"BoxAnnotation\"},{\"attributes\":{\"overlay\":{\"id\":\"1633\"}},\"id\":\"1631\",\"type\":\"BoxZoomTool\"},{\"attributes\":{},\"id\":\"1655\",\"type\":\"AllLabels\"},{\"attributes\":{\"below\":[{\"id\":\"1621\"}],\"center\":[{\"id\":\"1624\"},{\"id\":\"1627\"}],\"height\":300,\"left\":[{\"id\":\"1625\"}],\"margin\":[5,5,5,5],\"min_border_bottom\":10,\"min_border_left\":10,\"min_border_right\":10,\"min_border_top\":10,\"renderers\":[{\"id\":\"1647\"}],\"sizing_mode\":\"fixed\",\"title\":{\"id\":\"1613\"},\"toolbar\":{\"id\":\"1634\"},\"x_range\":{\"id\":\"1609\"},\"x_scale\":{\"id\":\"1617\"},\"y_range\":{\"id\":\"1610\"},\"y_scale\":{\"id\":\"1619\"}},\"id\":\"1612\",\"subtype\":\"Figure\",\"type\":\"Plot\"},{\"attributes\":{},\"id\":\"1630\",\"type\":\"WheelZoomTool\"},{\"attributes\":{},\"id\":\"1617\",\"type\":\"LinearScale\"},{\"attributes\":{},\"id\":\"1632\",\"type\":\"ResetTool\"},{\"attributes\":{},\"id\":\"1619\",\"type\":\"CategoricalScale\"},{\"attributes\":{},\"id\":\"1642\",\"type\":\"Selection\"},{\"attributes\":{\"fill_alpha\":{\"value\":0.1},\"fill_color\":{\"value\":\"#30a2da\"},\"hatch_alpha\":{\"value\":0.1},\"hatch_color\":{\"value\":\"#30a2da\"},\"height\":{\"value\":0.8},\"line_alpha\":{\"value\":0.1},\"right\":{\"field\":\"A_0\"},\"y\":{\"field\":\"index\"}},\"id\":\"1645\",\"type\":\"HBar\"},{\"attributes\":{\"children\":[{\"id\":\"1608\"},{\"id\":\"1612\"},{\"id\":\"1676\"}],\"margin\":[0,0,0,0],\"name\":\"Row02836\",\"tags\":[\"embedded\"]},\"id\":\"1607\",\"type\":\"Row\"}],\"root_ids\":[\"1607\"]},\"title\":\"Bokeh Application\",\"version\":\"2.4.1\"}};\n",
       "    var render_items = [{\"docid\":\"913adb42-bda3-4dc7-8af3-52b5c7788600\",\"root_ids\":[\"1607\"],\"roots\":{\"1607\":\"7b8f0f4e-9cd9-4bfb-9af7-b51928d45f15\"}}];\n",
       "    root.Bokeh.embed.embed_items_notebook(docs_json, render_items);\n",
       "  }\n",
       "  if (root.Bokeh !== undefined && root.Bokeh.Panel !== undefined) {\n",
       "    embed_document(root);\n",
       "  } else {\n",
       "    var attempts = 0;\n",
       "    var timer = setInterval(function(root) {\n",
       "      if (root.Bokeh !== undefined && root.Bokeh.Panel !== undefined) {\n",
       "        clearInterval(timer);\n",
       "        embed_document(root);\n",
       "      } else if (document.readyState == \"complete\") {\n",
       "        attempts++;\n",
       "        if (attempts > 200) {\n",
       "          clearInterval(timer);\n",
       "          console.log(\"Bokeh: ERROR: Unable to run BokehJS code because BokehJS library is missing\");\n",
       "        }\n",
       "      }\n",
       "    }, 25, root)\n",
       "  }\n",
       "})(window);</script>"
      ],
      "text/plain": [
       ":Bars   [index]   (0)"
      ]
     },
     "execution_count": 102,
     "metadata": {
      "application/vnd.holoviews_exec.v0+json": {
       "id": "1607"
      }
     },
     "output_type": "execute_result"
    }
   ],
   "source": [
    "patients[continuous_val].corrwith(patients.output).hvplot.barh(\n",
    "    width=600,\n",
    "    title=\"Correlation between Heart Attacks and Continuous Variables\", \n",
    "    ylabel='Correlation', \n",
    "    xlabel='Continuous Variables',\n",
    ")"
   ]
  },
  {
   "cell_type": "markdown",
   "id": "9d7cde97",
   "metadata": {},
   "source": [
    "#### Looking the above correlation matrix we can see that:\n",
    "\n",
    "\n",
    "#### `thalachh` (the maximum heart rate that was achieved) has the strongest positive correlation with the output, which means the chances of getting a heart attack increases with the increase of the heart rate.\n",
    "\n",
    "\n",
    "\n",
    "#### `oldpeak` has the strongest negative correlation with the output, which means the chances of getting a heart attack decreases with the increase of oldpeak.\n",
    "\n",
    "\n",
    "#### `chol` (cholesterol) has the lowest correlation value with the output, which means there is very little association between the cholesterol level and the chances of getting a heart attack.\n",
    "\n",
    "\n",
    "## Data Processing\n",
    "\n",
    "\n",
    "#### Let us convert the categorical variables into dummy values using the `get_dummies` from `pandas` to create dummy columns since some machine learning models (most regression models) are unable to handle categorical variables."
   ]
  },
  {
   "cell_type": "code",
   "execution_count": 103,
   "id": "7981ee4a",
   "metadata": {},
   "outputs": [
    {
     "data": {
      "text/html": [
       "<div>\n",
       "<style scoped>\n",
       "    .dataframe tbody tr th:only-of-type {\n",
       "        vertical-align: middle;\n",
       "    }\n",
       "\n",
       "    .dataframe tbody tr th {\n",
       "        vertical-align: top;\n",
       "    }\n",
       "\n",
       "    .dataframe thead th {\n",
       "        text-align: right;\n",
       "    }\n",
       "</style>\n",
       "<table border=\"1\" class=\"dataframe\">\n",
       "  <thead>\n",
       "    <tr style=\"text-align: right;\">\n",
       "      <th></th>\n",
       "      <th>age</th>\n",
       "      <th>trtbps</th>\n",
       "      <th>chol</th>\n",
       "      <th>thalachh</th>\n",
       "      <th>oldpeak</th>\n",
       "      <th>output</th>\n",
       "      <th>sex_0</th>\n",
       "      <th>sex_1</th>\n",
       "      <th>cp_0</th>\n",
       "      <th>cp_1</th>\n",
       "      <th>...</th>\n",
       "      <th>slp_2</th>\n",
       "      <th>caa_0</th>\n",
       "      <th>caa_1</th>\n",
       "      <th>caa_2</th>\n",
       "      <th>caa_3</th>\n",
       "      <th>caa_4</th>\n",
       "      <th>thall_0</th>\n",
       "      <th>thall_1</th>\n",
       "      <th>thall_2</th>\n",
       "      <th>thall_3</th>\n",
       "    </tr>\n",
       "  </thead>\n",
       "  <tbody>\n",
       "    <tr>\n",
       "      <th>0</th>\n",
       "      <td>63</td>\n",
       "      <td>145</td>\n",
       "      <td>233</td>\n",
       "      <td>150</td>\n",
       "      <td>2.30</td>\n",
       "      <td>1</td>\n",
       "      <td>0</td>\n",
       "      <td>1</td>\n",
       "      <td>0</td>\n",
       "      <td>0</td>\n",
       "      <td>...</td>\n",
       "      <td>0</td>\n",
       "      <td>1</td>\n",
       "      <td>0</td>\n",
       "      <td>0</td>\n",
       "      <td>0</td>\n",
       "      <td>0</td>\n",
       "      <td>0</td>\n",
       "      <td>1</td>\n",
       "      <td>0</td>\n",
       "      <td>0</td>\n",
       "    </tr>\n",
       "    <tr>\n",
       "      <th>1</th>\n",
       "      <td>37</td>\n",
       "      <td>130</td>\n",
       "      <td>250</td>\n",
       "      <td>187</td>\n",
       "      <td>3.50</td>\n",
       "      <td>1</td>\n",
       "      <td>0</td>\n",
       "      <td>1</td>\n",
       "      <td>0</td>\n",
       "      <td>0</td>\n",
       "      <td>...</td>\n",
       "      <td>0</td>\n",
       "      <td>1</td>\n",
       "      <td>0</td>\n",
       "      <td>0</td>\n",
       "      <td>0</td>\n",
       "      <td>0</td>\n",
       "      <td>0</td>\n",
       "      <td>0</td>\n",
       "      <td>1</td>\n",
       "      <td>0</td>\n",
       "    </tr>\n",
       "    <tr>\n",
       "      <th>2</th>\n",
       "      <td>41</td>\n",
       "      <td>130</td>\n",
       "      <td>204</td>\n",
       "      <td>172</td>\n",
       "      <td>1.40</td>\n",
       "      <td>1</td>\n",
       "      <td>1</td>\n",
       "      <td>0</td>\n",
       "      <td>0</td>\n",
       "      <td>1</td>\n",
       "      <td>...</td>\n",
       "      <td>1</td>\n",
       "      <td>1</td>\n",
       "      <td>0</td>\n",
       "      <td>0</td>\n",
       "      <td>0</td>\n",
       "      <td>0</td>\n",
       "      <td>0</td>\n",
       "      <td>0</td>\n",
       "      <td>1</td>\n",
       "      <td>0</td>\n",
       "    </tr>\n",
       "    <tr>\n",
       "      <th>3</th>\n",
       "      <td>56</td>\n",
       "      <td>120</td>\n",
       "      <td>236</td>\n",
       "      <td>178</td>\n",
       "      <td>0.80</td>\n",
       "      <td>1</td>\n",
       "      <td>0</td>\n",
       "      <td>1</td>\n",
       "      <td>0</td>\n",
       "      <td>1</td>\n",
       "      <td>...</td>\n",
       "      <td>1</td>\n",
       "      <td>1</td>\n",
       "      <td>0</td>\n",
       "      <td>0</td>\n",
       "      <td>0</td>\n",
       "      <td>0</td>\n",
       "      <td>0</td>\n",
       "      <td>0</td>\n",
       "      <td>1</td>\n",
       "      <td>0</td>\n",
       "    </tr>\n",
       "    <tr>\n",
       "      <th>4</th>\n",
       "      <td>57</td>\n",
       "      <td>120</td>\n",
       "      <td>354</td>\n",
       "      <td>163</td>\n",
       "      <td>0.60</td>\n",
       "      <td>1</td>\n",
       "      <td>1</td>\n",
       "      <td>0</td>\n",
       "      <td>1</td>\n",
       "      <td>0</td>\n",
       "      <td>...</td>\n",
       "      <td>1</td>\n",
       "      <td>1</td>\n",
       "      <td>0</td>\n",
       "      <td>0</td>\n",
       "      <td>0</td>\n",
       "      <td>0</td>\n",
       "      <td>0</td>\n",
       "      <td>0</td>\n",
       "      <td>1</td>\n",
       "      <td>0</td>\n",
       "    </tr>\n",
       "  </tbody>\n",
       "</table>\n",
       "<p>5 rows × 31 columns</p>\n",
       "</div>"
      ],
      "text/plain": [
       "   age  trtbps  chol  thalachh  oldpeak  output  sex_0  sex_1  cp_0  cp_1  \\\n",
       "0   63     145   233       150     2.30       1      0      1     0     0   \n",
       "1   37     130   250       187     3.50       1      0      1     0     0   \n",
       "2   41     130   204       172     1.40       1      1      0     0     1   \n",
       "3   56     120   236       178     0.80       1      0      1     0     1   \n",
       "4   57     120   354       163     0.60       1      1      0     1     0   \n",
       "\n",
       "   ...  slp_2  caa_0  caa_1  caa_2  caa_3  caa_4  thall_0  thall_1  thall_2  \\\n",
       "0  ...      0      1      0      0      0      0        0        1        0   \n",
       "1  ...      0      1      0      0      0      0        0        0        1   \n",
       "2  ...      1      1      0      0      0      0        0        0        1   \n",
       "3  ...      1      1      0      0      0      0        0        0        1   \n",
       "4  ...      1      1      0      0      0      0        0        0        1   \n",
       "\n",
       "   thall_3  \n",
       "0        0  \n",
       "1        0  \n",
       "2        0  \n",
       "3        0  \n",
       "4        0  \n",
       "\n",
       "[5 rows x 31 columns]"
      ]
     },
     "execution_count": 103,
     "metadata": {},
     "output_type": "execute_result"
    }
   ],
   "source": [
    "categorical_val = [\"sex\", \"cp\", \"fbs\", \"restecg\", \"exng\", \"slp\", \"caa\", \"thall\"]\n",
    "updatedPatients = pd.get_dummies(patients, columns = categorical_val)\n",
    "updatedPatients.head()"
   ]
  },
  {
   "cell_type": "markdown",
   "id": "abf29349",
   "metadata": {},
   "source": [
    "#### Next, let us scale the continuos variables using `StandardScaler` from `sklearn.preprocessing` which will make learning and understanding the problem easy for the models."
   ]
  },
  {
   "cell_type": "code",
   "execution_count": 104,
   "id": "3647fefc",
   "metadata": {},
   "outputs": [
    {
     "data": {
      "text/html": [
       "<div>\n",
       "<style scoped>\n",
       "    .dataframe tbody tr th:only-of-type {\n",
       "        vertical-align: middle;\n",
       "    }\n",
       "\n",
       "    .dataframe tbody tr th {\n",
       "        vertical-align: top;\n",
       "    }\n",
       "\n",
       "    .dataframe thead th {\n",
       "        text-align: right;\n",
       "    }\n",
       "</style>\n",
       "<table border=\"1\" class=\"dataframe\">\n",
       "  <thead>\n",
       "    <tr style=\"text-align: right;\">\n",
       "      <th></th>\n",
       "      <th>age</th>\n",
       "      <th>trtbps</th>\n",
       "      <th>chol</th>\n",
       "      <th>thalachh</th>\n",
       "      <th>oldpeak</th>\n",
       "      <th>output</th>\n",
       "      <th>sex_0</th>\n",
       "      <th>sex_1</th>\n",
       "      <th>cp_0</th>\n",
       "      <th>cp_1</th>\n",
       "      <th>...</th>\n",
       "      <th>slp_2</th>\n",
       "      <th>caa_0</th>\n",
       "      <th>caa_1</th>\n",
       "      <th>caa_2</th>\n",
       "      <th>caa_3</th>\n",
       "      <th>caa_4</th>\n",
       "      <th>thall_0</th>\n",
       "      <th>thall_1</th>\n",
       "      <th>thall_2</th>\n",
       "      <th>thall_3</th>\n",
       "    </tr>\n",
       "  </thead>\n",
       "  <tbody>\n",
       "    <tr>\n",
       "      <th>0</th>\n",
       "      <td>0.95</td>\n",
       "      <td>0.76</td>\n",
       "      <td>-0.26</td>\n",
       "      <td>0.02</td>\n",
       "      <td>1.08</td>\n",
       "      <td>1</td>\n",
       "      <td>0</td>\n",
       "      <td>1</td>\n",
       "      <td>0</td>\n",
       "      <td>0</td>\n",
       "      <td>...</td>\n",
       "      <td>0</td>\n",
       "      <td>1</td>\n",
       "      <td>0</td>\n",
       "      <td>0</td>\n",
       "      <td>0</td>\n",
       "      <td>0</td>\n",
       "      <td>0</td>\n",
       "      <td>1</td>\n",
       "      <td>0</td>\n",
       "      <td>0</td>\n",
       "    </tr>\n",
       "    <tr>\n",
       "      <th>1</th>\n",
       "      <td>-1.93</td>\n",
       "      <td>-0.09</td>\n",
       "      <td>0.07</td>\n",
       "      <td>1.64</td>\n",
       "      <td>2.12</td>\n",
       "      <td>1</td>\n",
       "      <td>0</td>\n",
       "      <td>1</td>\n",
       "      <td>0</td>\n",
       "      <td>0</td>\n",
       "      <td>...</td>\n",
       "      <td>0</td>\n",
       "      <td>1</td>\n",
       "      <td>0</td>\n",
       "      <td>0</td>\n",
       "      <td>0</td>\n",
       "      <td>0</td>\n",
       "      <td>0</td>\n",
       "      <td>0</td>\n",
       "      <td>1</td>\n",
       "      <td>0</td>\n",
       "    </tr>\n",
       "    <tr>\n",
       "      <th>2</th>\n",
       "      <td>-1.49</td>\n",
       "      <td>-0.09</td>\n",
       "      <td>-0.82</td>\n",
       "      <td>0.98</td>\n",
       "      <td>0.31</td>\n",
       "      <td>1</td>\n",
       "      <td>1</td>\n",
       "      <td>0</td>\n",
       "      <td>0</td>\n",
       "      <td>1</td>\n",
       "      <td>...</td>\n",
       "      <td>1</td>\n",
       "      <td>1</td>\n",
       "      <td>0</td>\n",
       "      <td>0</td>\n",
       "      <td>0</td>\n",
       "      <td>0</td>\n",
       "      <td>0</td>\n",
       "      <td>0</td>\n",
       "      <td>1</td>\n",
       "      <td>0</td>\n",
       "    </tr>\n",
       "    <tr>\n",
       "      <th>3</th>\n",
       "      <td>0.17</td>\n",
       "      <td>-0.66</td>\n",
       "      <td>-0.20</td>\n",
       "      <td>1.24</td>\n",
       "      <td>-0.21</td>\n",
       "      <td>1</td>\n",
       "      <td>0</td>\n",
       "      <td>1</td>\n",
       "      <td>0</td>\n",
       "      <td>1</td>\n",
       "      <td>...</td>\n",
       "      <td>1</td>\n",
       "      <td>1</td>\n",
       "      <td>0</td>\n",
       "      <td>0</td>\n",
       "      <td>0</td>\n",
       "      <td>0</td>\n",
       "      <td>0</td>\n",
       "      <td>0</td>\n",
       "      <td>1</td>\n",
       "      <td>0</td>\n",
       "    </tr>\n",
       "    <tr>\n",
       "      <th>4</th>\n",
       "      <td>0.29</td>\n",
       "      <td>-0.66</td>\n",
       "      <td>2.08</td>\n",
       "      <td>0.59</td>\n",
       "      <td>-0.38</td>\n",
       "      <td>1</td>\n",
       "      <td>1</td>\n",
       "      <td>0</td>\n",
       "      <td>1</td>\n",
       "      <td>0</td>\n",
       "      <td>...</td>\n",
       "      <td>1</td>\n",
       "      <td>1</td>\n",
       "      <td>0</td>\n",
       "      <td>0</td>\n",
       "      <td>0</td>\n",
       "      <td>0</td>\n",
       "      <td>0</td>\n",
       "      <td>0</td>\n",
       "      <td>1</td>\n",
       "      <td>0</td>\n",
       "    </tr>\n",
       "  </tbody>\n",
       "</table>\n",
       "<p>5 rows × 31 columns</p>\n",
       "</div>"
      ],
      "text/plain": [
       "    age  trtbps  chol  thalachh  oldpeak  output  sex_0  sex_1  cp_0  cp_1  \\\n",
       "0  0.95    0.76 -0.26      0.02     1.08       1      0      1     0     0   \n",
       "1 -1.93   -0.09  0.07      1.64     2.12       1      0      1     0     0   \n",
       "2 -1.49   -0.09 -0.82      0.98     0.31       1      1      0     0     1   \n",
       "3  0.17   -0.66 -0.20      1.24    -0.21       1      0      1     0     1   \n",
       "4  0.29   -0.66  2.08      0.59    -0.38       1      1      0     1     0   \n",
       "\n",
       "   ...  slp_2  caa_0  caa_1  caa_2  caa_3  caa_4  thall_0  thall_1  thall_2  \\\n",
       "0  ...      0      1      0      0      0      0        0        1        0   \n",
       "1  ...      0      1      0      0      0      0        0        0        1   \n",
       "2  ...      1      1      0      0      0      0        0        0        1   \n",
       "3  ...      1      1      0      0      0      0        0        0        1   \n",
       "4  ...      1      1      0      0      0      0        0        0        1   \n",
       "\n",
       "   thall_3  \n",
       "0        0  \n",
       "1        0  \n",
       "2        0  \n",
       "3        0  \n",
       "4        0  \n",
       "\n",
       "[5 rows x 31 columns]"
      ]
     },
     "execution_count": 104,
     "metadata": {},
     "output_type": "execute_result"
    }
   ],
   "source": [
    "standardScaler = StandardScaler()\n",
    "updatedPatients[continuous_val] = standardScaler.fit_transform(updatedPatients[continuous_val])\n",
    "updatedPatients.head()"
   ]
  },
  {
   "cell_type": "markdown",
   "id": "f9c00ce3",
   "metadata": {},
   "source": [
    "## Model Building\n",
    "\n",
    "\n",
    "#### Let us split our dataset into training and testing datasets , using the `train_test_split` method from `sklearn.model_selection`"
   ]
  },
  {
   "cell_type": "code",
   "execution_count": 105,
   "id": "a3ef9ffa",
   "metadata": {},
   "outputs": [],
   "source": [
    "X = updatedPatients.drop('output', axis=1)\n",
    "y = updatedPatients.output\n",
    "\n",
    "# splitting the dataset into training and testing datasets with 20% allocated to the testing set\n",
    "X_train, X_test, y_train, y_test = train_test_split(X, y, test_size=0.2, random_state=42)"
   ]
  },
  {
   "cell_type": "markdown",
   "id": "2fad2c15",
   "metadata": {},
   "source": [
    "## Training a Logistic Regression Model with Hyperparameter Tuning"
   ]
  },
  {
   "cell_type": "code",
   "execution_count": 106,
   "id": "f36a164c",
   "metadata": {},
   "outputs": [
    {
     "name": "stdout",
     "output_type": "stream",
     "text": [
      "Fitting 3 folds for each of 600 candidates, totalling 1800 fits\n",
      "{'C': 0.1, 'max_iter': 20, 'penalty': 'l2', 'solver': 'lbfgs'}\n",
      "LogisticRegression(C=0.1, max_iter=20)\n",
      "              precision    recall  f1-score   support\n",
      "\n",
      "           0       0.87      0.90      0.88        29\n",
      "           1       0.90      0.88      0.89        32\n",
      "\n",
      "    accuracy                           0.89        61\n",
      "   macro avg       0.88      0.89      0.89        61\n",
      "weighted avg       0.89      0.89      0.89        61\n",
      "\n"
     ]
    },
    {
     "data": {
      "text/markdown": [
       "#### The highest accuracy of `89`% is achieved by the algorithm when the following hyperparameter are used: <br><br> * `C`: `0.1` <br><br> * `max_iter`: `20` <br><br> * `penalty`: `l2` <br><br> * `solver`: `lbfgs` <br><br><br><br> Let us break down the classification report further <br><br> * `precision`: Out of all the patients that the model predicted would suffer a heart attack, `90`% actually did. <br><br> * `recall`: Out of all the patients that actually suffered a heart attack, the model predicted that outcome correctly for `88`% of those players. <br><br> * `f1-score`: `0.89` : Since the value is close to 1, it tells us that the model does a great job at predicting whether or not a person will suffer a heart attack. <br><br> * `support`: This value tells us how many patients belonged to each class in the test dataset, which is `61` in this case. We can see that among those patients in the test dataset, `32` did suffer a heart attack, while the remaining `29` did not."
      ],
      "text/plain": [
       "<IPython.core.display.Markdown object>"
      ]
     },
     "execution_count": 106,
     "metadata": {},
     "output_type": "execute_result"
    }
   ],
   "source": [
    "# defining the range of parameters\n",
    "parameter_grid = { 'penalty' : ['none', 'elasticnet', 'l1', 'l2'],\n",
    "              'C': [0.01, 0.1, 1, 10, 100, 100],\n",
    "               'solver' : ['lbfgs', 'liblinear', 'newton-cg', 'sag', 'saga'],\n",
    "               'max_iter' : [20, 50, 100, 200, 500]}\n",
    "\n",
    "grid_results = GridSearchCV(LogisticRegression(), parameter_grid, cv = 3, refit = True, verbose = True, n_jobs=-1, scoring='accuracy', error_score=0)\n",
    "\n",
    "# fitting the model to be grid searched\n",
    "grid_results.fit(X_train, y_train)\n",
    "\n",
    "best_params = grid_results.best_params_\n",
    "\n",
    "# print the best parameter decided on after hyperparameter tuning\n",
    "print(best_params)\n",
    "\n",
    "# assigning the values from the best_params_ to individual variables\n",
    "C = best_params['C']\n",
    "max_iter = best_params['max_iter']\n",
    "penalty = best_params['penalty']\n",
    "solver = best_params['solver']\n",
    "\n",
    "# print how the model looks like after hyperparameter tuning\n",
    "print(grid_results.best_estimator_)\n",
    "\n",
    "prediction = grid_results.predict(X_test)\n",
    " \n",
    "# assign values of classification_report to a variable after converting to a dictionary\n",
    "report = classification_report(y_test, prediction, output_dict=True)\n",
    "\n",
    "# print the classification report\n",
    "print(classification_report(y_test, prediction))\n",
    "\n",
    "# assigning the values from the classification_report to individual variables\n",
    "precision_1 = report['1']['precision']\n",
    "accuracy = report['accuracy']\n",
    "recall_1 = report['1']['recall']\n",
    "f1_score_1 = report['1']['f1-score']\n",
    "tot_test_dataset = report['macro avg']['support']\n",
    "test_dataset_1 = report['1']['support']\n",
    "test_dataset_0 = report['0']['support']\n",
    "\n",
    "\n",
    "md(f\"#### The highest accuracy of `{int(round(accuracy, 2)*100)}`% is achieved by the algorithm when the following hyperparameter are used: <br><br> * `C`: `{C}` <br><br> * `max_iter`: `{max_iter}` <br><br> * `penalty`: `{penalty}` <br><br> * `solver`: `{solver}` <br><br><br><br> Let us break down the classification report further <br><br> * `precision`: Out of all the patients that the model predicted would suffer a heart attack, `{int(round(precision_1, 2)*100)}`% actually did. <br><br> * `recall`: Out of all the patients that actually suffered a heart attack, the model predicted that outcome correctly for `{int(round(recall_1, 2)*100)}`% of those players. <br><br> * `f1-score`: `{round(f1_score_1, 2)}` : Since the value is close to 1, it tells us that the model does a great job at predicting whether or not a person will suffer a heart attack. <br><br> * `support`: This value tells us how many patients belonged to each class in the test dataset, which is `{tot_test_dataset}` in this case. We can see that among those patients in the test dataset, `{test_dataset_1}` did suffer a heart attack, while the remaining `{test_dataset_0}` did not.\")\n"
   ]
  },
  {
   "cell_type": "code",
   "execution_count": null,
   "id": "e5d398e2",
   "metadata": {},
   "outputs": [],
   "source": []
  }
 ],
 "metadata": {
  "interpreter": {
   "hash": "aea986f109137a4efa8363deaed50946b04e5b60d09f4995a21864390dbf6a2e"
  },
  "kernelspec": {
   "display_name": "Python 3.9.7 ('base')",
   "language": "python",
   "name": "python3"
  },
  "language_info": {
   "codemirror_mode": {
    "name": "ipython",
    "version": 3
   },
   "file_extension": ".py",
   "mimetype": "text/x-python",
   "name": "python",
   "nbconvert_exporter": "python",
   "pygments_lexer": "ipython3",
   "version": "3.9.7"
  }
 },
 "nbformat": 4,
 "nbformat_minor": 5
}
